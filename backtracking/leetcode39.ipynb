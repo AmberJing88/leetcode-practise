{
 "cells": [
  {
   "cell_type": "code",
   "execution_count": 12,
   "metadata": {},
   "outputs": [],
   "source": [
    "\"\"\"\n",
    "Leetcode39  Backtracking\n",
    "input:\n",
    "candidates: list []\n",
    "target: int \n",
    "output: list [list []]\n",
    "\"\"\"\n",
    "\n",
    "\n",
    "def combinationSum(candidates, target):\n",
    "    result = []\n",
    "    \n",
    "    \n",
    "    \n",
    "    def combine(nums, target, next, partial, result): # partial type: []\n",
    "\n",
    "        if target==0:\n",
    "            result.append(partial)\n",
    "            return\n",
    "        if next == len(nums):\n",
    "            return\n",
    "        i = 0\n",
    "        while target- (i* nums[next]) >=0:\n",
    "            combine(nums, target-(i* nums[next]), next+1, partial+ i* [nums[next]], result)\n",
    "            i += 1\n",
    "    \n",
    "    combine(candidates, target, 0, [], result)\n",
    "    return result        \n",
    "            "
   ]
  },
  {
   "cell_type": "code",
   "execution_count": 13,
   "metadata": {},
   "outputs": [
    {
     "data": {
      "text/plain": [
       "[[3, 5], [2, 3, 3], [2, 2, 2, 2]]"
      ]
     },
     "execution_count": 13,
     "metadata": {},
     "output_type": "execute_result"
    }
   ],
   "source": [
    "t = combinationSum([2,3,5], 8)\n",
    "t\n",
    "\n"
   ]
  },
  {
   "cell_type": "code",
   "execution_count": null,
   "metadata": {},
   "outputs": [],
   "source": []
  },
  {
   "cell_type": "code",
   "execution_count": null,
   "metadata": {},
   "outputs": [],
   "source": []
  }
 ],
 "metadata": {
  "kernelspec": {
   "display_name": "Python 3",
   "language": "python",
   "name": "python3"
  },
  "language_info": {
   "codemirror_mode": {
    "name": "ipython",
    "version": 3
   },
   "file_extension": ".py",
   "mimetype": "text/x-python",
   "name": "python",
   "nbconvert_exporter": "python",
   "pygments_lexer": "ipython3",
   "version": "3.7.4"
  }
 },
 "nbformat": 4,
 "nbformat_minor": 2
}
