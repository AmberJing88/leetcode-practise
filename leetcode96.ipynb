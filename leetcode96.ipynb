{
 "cells": [
  {
   "cell_type": "code",
   "execution_count": 3,
   "metadata": {},
   "outputs": [],
   "source": [
    "\"\"\"\n",
    "leetcode 96: binary search trees\n",
    "Recurtion Solution complexicity:\n",
    "Time: O() \n",
    "Space:O()\"\"\"\n",
    "\n",
    "\n",
    "def numTrees(n):\n",
    "    memo = [-1] * (n+1)\n",
    "    \n",
    "\n",
    "    def helper(n, memo):\n",
    "\n",
    "        if n <= 1:\n",
    "            return 1\n",
    "        if memo[n] != -1:\n",
    "            return memo[n]\n",
    "\n",
    "        count =0\n",
    "        for i in range(1, n+1):\n",
    "            count += helper(i-1, memo) * helper(n-i, memo)\n",
    "\n",
    "        memo[n] = count\n",
    "        return count\n",
    "            \n",
    "    return helper(n, memo)      \n",
    "\n",
    "\n",
    "\n",
    "            "
   ]
  },
  {
   "cell_type": "code",
   "execution_count": 7,
   "metadata": {},
   "outputs": [
    {
     "data": {
      "text/plain": [
       "42"
      ]
     },
     "execution_count": 7,
     "metadata": {},
     "output_type": "execute_result"
    }
   ],
   "source": [
    "numTrees(5)"
   ]
  },
  {
   "cell_type": "code",
   "execution_count": 8,
   "metadata": {},
   "outputs": [],
   "source": [
    "\"\"\"\n",
    "recurrence formula to solve:\n",
    "C(2n, n) /(n+1)\n",
    "Time: O(\n",
    "Space: O(\n",
    "\"\"\"\n",
    "\n",
    "def numTrees1(n):\n",
    "    if n<= 1:\n",
    "        return 1\n",
    "    res = 1\n",
    "    \n",
    "    for i in range(n+1, 2*n +1):\n",
    "        res = res* i / (i-n)\n",
    "        \n",
    "    return int(res / (n+1))\n",
    "\n"
   ]
  },
  {
   "cell_type": "code",
   "execution_count": 12,
   "metadata": {},
   "outputs": [
    {
     "data": {
      "text/plain": [
       "132"
      ]
     },
     "execution_count": 12,
     "metadata": {},
     "output_type": "execute_result"
    }
   ],
   "source": [
    "numTrees1(6)"
   ]
  },
  {
   "cell_type": "code",
   "execution_count": null,
   "metadata": {},
   "outputs": [],
   "source": []
  }
 ],
 "metadata": {
  "kernelspec": {
   "display_name": "Python 3",
   "language": "python",
   "name": "python3"
  },
  "language_info": {
   "codemirror_mode": {
    "name": "ipython",
    "version": 3
   },
   "file_extension": ".py",
   "mimetype": "text/x-python",
   "name": "python",
   "nbconvert_exporter": "python",
   "pygments_lexer": "ipython3",
   "version": "3.7.4"
  }
 },
 "nbformat": 4,
 "nbformat_minor": 2
}
