{
 "cells": [
  {
   "cell_type": "markdown",
   "metadata": {},
   "source": [
    "# leetcode problem solutions"
   ]
  },
  {
   "cell_type": "code",
   "execution_count": 3,
   "metadata": {},
   "outputs": [],
   "source": [
    "#------------leetcode 295----------------\n",
    "\"\"\"find the median from data stream: median is the middle value in an ordered integer list. if \n",
    "the size is even, there is no middle value. return the median of the two middle values.\"\"\"\n",
    "# two heaps method: max-top for lower part, min-top for higher part Time:O(n) Space:O(n)\n",
    "from heapq import *\n",
    "class MedianFinder:\n",
    "    def __init__(self):\n",
    "        self.heaps = [], []\n",
    "        \n",
    "    def addNum(self, num):\n",
    "        small, large = self.heaps\n",
    "        heappush(small, -heappushpop(large, num))\n",
    "        if len(large) < len(small):\n",
    "            heappush(large, _heappop(small))\n",
    "            \n",
    "    def findMedian(self):\n",
    "        small, large = self.heaps\n",
    "        if len(large) > len(small):\n",
    "            return float(large[0])\n",
    "        return (large[0] - small[0]) /2.0\n",
    "        "
   ]
  },
  {
   "cell_type": "code",
   "execution_count": null,
   "metadata": {},
   "outputs": [],
   "source": [
    "# two pointers method\n",
    "class MedianFinder:\n",
    "    def __init__(self):\n",
    "        "
   ]
  },
  {
   "cell_type": "markdown",
   "metadata": {},
   "source": [
    "## string"
   ]
  },
  {
   "cell_type": "code",
   "execution_count": 9,
   "metadata": {},
   "outputs": [],
   "source": [
    "#-------------leetcode 696----------------\n",
    "\"\"\"count binary sustring: count the number of substrings which contain the same number of 0s and\n",
    "1s and all 0s and 1s are grouped consecutively.\"\"\"\n",
    "def countBinary(s):\n",
    "    res, pre, cur = 0, 0, 1\n",
    "    n = len(s)\n",
    "    for i in range(1,n):\n",
    "        if s[i] == s[i-1]:\n",
    "            cur += 1\n",
    "        else:\n",
    "            pre = cur\n",
    "            cur = 1\n",
    "        if pre >= cur:\n",
    "            res += 1\n",
    "    return res"
   ]
  },
  {
   "cell_type": "markdown",
   "metadata": {},
   "source": [
    "## Dynamic Programming"
   ]
  },
  {
   "cell_type": "code",
   "execution_count": 16,
   "metadata": {},
   "outputs": [
    {
     "data": {
      "text/plain": [
       "5"
      ]
     },
     "execution_count": 16,
     "metadata": {},
     "output_type": "execute_result"
    }
   ],
   "source": [
    "# longest common substring problem leetcode 1143\n",
    "# dp bottom-up method Time(m*n), Space O(m*n)\n",
    "def LCS(s, t):\n",
    "    if not s or not t or len(s)==0 or len(t)==0:\n",
    "        return 0\n",
    "    m,n = len(s), len(t)\n",
    "    dp=[[0]*(n+1) for _ in range(m+1)]\n",
    "    for i, c in enumerate(s):\n",
    "        for j,d in enumerate(t):\n",
    "            if c == d:\n",
    "                dp[i+1][j+1] = 1+ dp[i][j]\n",
    "            else:\n",
    "                dp[i+1][j+1] = max(dp[i][j+1], dp[i+1][j])\n",
    "    return dp[-1][-1]\n",
    "LCS('abcba', 'abcbcba')"
   ]
  },
  {
   "cell_type": "code",
   "execution_count": 19,
   "metadata": {},
   "outputs": [
    {
     "data": {
      "text/plain": [
       "5"
      ]
     },
     "execution_count": 19,
     "metadata": {},
     "output_type": "execute_result"
    }
   ],
   "source": [
    " # dp method 2: time O(m*n), space O(n)\n",
    "def lcs(s, t):\n",
    "    m,n = len(s), len(t)\n",
    "    dp = [0 for _ in range(n+1)]\n",
    "    for c in s:\n",
    "        new_dp = [0]\n",
    "        for j, d in enumerate(t):\n",
    "            if c == d:\n",
    "                new_dp.append(1+ dp[j])\n",
    "            else:\n",
    "                new_dp.append(max(new_dp[-1], dp[j+1]))\n",
    "        dp = new_dp\n",
    "    return dp[-1]\n",
    "lcs('abcba', 'abcbcba')"
   ]
  },
  {
   "cell_type": "code",
   "execution_count": 2,
   "metadata": {},
   "outputs": [
    {
     "data": {
      "text/plain": [
       "10"
      ]
     },
     "execution_count": 2,
     "metadata": {},
     "output_type": "execute_result"
    }
   ],
   "source": [
    "# cut steel pieces to get most money problem\n",
    "\"\"\"given the table of length and price (pi, (i=1,2,...n), and the length of steel need to cut n,\n",
    "return the cut methods which can get most money.\"\"\"\n",
    "# recursion method rn = max(pn, r1+rn-1, r2+rn-2,...rn-1+r1)=max(pi+rn-i)\n",
    "def cut(p, n): # p=[1,5,8,9,10,17,17,20,24,30]\n",
    "    if n==0: return 0\n",
    "    res = 0\n",
    "    for i in range(1,n+1):\n",
    "        res = max(res, p[i-1]+cut(p,n-i))\n",
    "    return res\n",
    "cut([1,5,8,9,10,17,17,20,24,30], 4)"
   ]
  },
  {
   "cell_type": "code",
   "execution_count": 13,
   "metadata": {},
   "outputs": [
    {
     "data": {
      "text/plain": [
       "10"
      ]
     },
     "execution_count": 13,
     "metadata": {},
     "output_type": "execute_result"
    }
   ],
   "source": [
    "# DP method: top-down memo \n",
    "def cutmemo(p, n):\n",
    "    if n==0: return 0\n",
    "    memo = [-1] * (len(p)+1)\n",
    "    \n",
    "    def cut(p, n, memo):\n",
    "        temp = -1\n",
    "        if memo[n]>=0:\n",
    "            return memo[n]\n",
    "        if n==0: \n",
    "            temp = 0\n",
    "        else:\n",
    "            for i in range(1, n+1):\n",
    "                temp = max(temp, (p[i-1]+cut(p, n-i, memo)))\n",
    "        memo[n] = temp\n",
    "        return temp\n",
    "    \n",
    "    return cut(p, n, memo)\n",
    "cutmemo([1,5,8,9,10,17,17,20,24,30], 4)    \n",
    "# wrong answer need to debug    "
   ]
  },
  {
   "cell_type": "code",
   "execution_count": 16,
   "metadata": {},
   "outputs": [
    {
     "data": {
      "text/plain": [
       "10"
      ]
     },
     "execution_count": 16,
     "metadata": {},
     "output_type": "execute_result"
    }
   ],
   "source": [
    "# bottom up method\n",
    "def bottom_up_cut(p, n):\n",
    "    r = [0] * (len(p)+1)\n",
    "    for i in range(1, (len(p)+1)):\n",
    "        q= -1\n",
    "        for j in range(1, (i+1)):\n",
    "            q = max(q, p[j-1]+r[i-j])\n",
    "        r[i] = q\n",
    "    return r[n]\n",
    "bottom_up_cut([1,5,8,9,10,17,17,20,24,30], 4)                      "
   ]
  },
  {
   "cell_type": "code",
   "execution_count": 31,
   "metadata": {},
   "outputs": [
    {
     "data": {
      "text/plain": [
       "False"
      ]
     },
     "execution_count": 31,
     "metadata": {},
     "output_type": "execute_result"
    }
   ],
   "source": [
    "# bag problem: leetcode 416 \n",
    "\"\"\"partition equal subset sum: non empty array with positive integers, find the array can be pa\n",
    "rtitioned into two subsets such that the elements in both subsets is equal.\"\"\"\n",
    "# store subset method consuming time\n",
    "def canPartition(nums):\n",
    "    if not nums or len(nums)==0:\n",
    "        return True\n",
    "    summ = sum(nums)\n",
    "    if summ &1 ==1:\n",
    "        return False\n",
    "    target = summ /2\n",
    "    n = len(nums)\n",
    "    s = set([0])\n",
    "    for n in nums:\n",
    "        sums_with_n = []\n",
    "        for i in dp:\n",
    "            if i+n == target:\n",
    "                return True\n",
    "            if i +n < target:\n",
    "                sums_with_n.append(i+n)\n",
    "        s.update(sums_with_n)\n",
    "    return False\n",
    "canPartition([1,2,3,5])"
   ]
  },
  {
   "cell_type": "code",
   "execution_count": 30,
   "metadata": {},
   "outputs": [
    {
     "data": {
      "text/plain": [
       "True"
      ]
     },
     "execution_count": 30,
     "metadata": {},
     "output_type": "execute_result"
    }
   ],
   "source": [
    "summ = 1\n",
    "summ &1 ==1"
   ]
  },
  {
   "cell_type": "code",
   "execution_count": 36,
   "metadata": {},
   "outputs": [],
   "source": [
    "# dp method\n",
    "def canPartition3(nums):\n",
    "    target, n = sum(nums), len(nums)\n",
    "    if target &1 ==1:\n",
    "        return False\n",
    "    target >>= 1\n",
    "    dp = [True] +[False]*target\n",
    "    for n in nums:\n",
    "        dp = [dp[s] or (s >=n and dp[s-n]) for s in range(rarget+1)]\n",
    "        if dp[target]:\n",
    "            return True\n",
    "    return False"
   ]
  },
  {
   "cell_type": "code",
   "execution_count": 35,
   "metadata": {},
   "outputs": [
    {
     "data": {
      "text/plain": [
       "True"
      ]
     },
     "execution_count": 35,
     "metadata": {},
     "output_type": "execute_result"
    }
   ],
   "source": [
    "# backtracking with memorization\n",
    "def canPartition2(nums):\n",
    "    s = sum(nums)\n",
    "    if s &1 == 1:\n",
    "        return False\n",
    "    def canFindSum(nums, target, idx, n, d):\n",
    "        if target in d:\n",
    "            return d[target]\n",
    "        if target ==0:\n",
    "            d[target] = True\n",
    "        else:\n",
    "            d[target] = False\n",
    "            if target > 0:\n",
    "                for i in range(idx, n):\n",
    "                    if canFindSum(nums, target-nums[i], i+1, n, d):\n",
    "                        d[target] = True\n",
    "                        break\n",
    "        return d[target]\n",
    "    return canFindSum(nums, s/2, 0, len(nums), {})\n",
    "canPartition2([1,2,3,4])"
   ]
  },
  {
   "cell_type": "code",
   "execution_count": null,
   "metadata": {},
   "outputs": [],
   "source": []
  }
 ],
 "metadata": {
  "kernelspec": {
   "display_name": "Python 3",
   "language": "python",
   "name": "python3"
  },
  "language_info": {
   "codemirror_mode": {
    "name": "ipython",
    "version": 3
   },
   "file_extension": ".py",
   "mimetype": "text/x-python",
   "name": "python",
   "nbconvert_exporter": "python",
   "pygments_lexer": "ipython3",
   "version": "3.7.4"
  }
 },
 "nbformat": 4,
 "nbformat_minor": 2
}
