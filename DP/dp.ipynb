{
 "cells": [
  {
   "cell_type": "markdown",
   "metadata": {},
   "source": [
    "# leetcode problem solutions"
   ]
  },
  {
   "cell_type": "code",
   "execution_count": 3,
   "metadata": {},
   "outputs": [],
   "source": [
    "#------------leetcode 295----------------\n",
    "\"\"\"find the median from data stream: median is the middle value in an ordered integer list. if \n",
    "the size is even, there is no middle value. return the median of the two middle values.\"\"\"\n",
    "# two heaps method: max-top for lower part, min-top for higher part Time:O(n) Space:O(n)\n",
    "from heapq import *\n",
    "class MedianFinder:\n",
    "    def __init__(self):\n",
    "        self.heaps = [], []\n",
    "        \n",
    "    def addNum(self, num):\n",
    "        small, large = self.heaps\n",
    "        heappush(small, -heappushpop(large, num))\n",
    "        if len(large) < len(small):\n",
    "            heappush(large, _heappop(small))\n",
    "            \n",
    "    def findMedian(self):\n",
    "        small, large = self.heaps\n",
    "        if len(large) > len(small):\n",
    "            return float(large[0])\n",
    "        return (large[0] - small[0]) /2.0\n",
    "        "
   ]
  },
  {
   "cell_type": "markdown",
   "metadata": {},
   "source": [
    "## string"
   ]
  },
  {
   "cell_type": "code",
   "execution_count": 9,
   "metadata": {},
   "outputs": [],
   "source": [
    "#-------------leetcode 696----------------\n",
    "\"\"\"count binary sustring: count the number of substrings which contain the same number of 0s and\n",
    "1s and all 0s and 1s are grouped consecutively.\"\"\"\n",
    "def countBinary(s):\n",
    "    res, pre, cur = 0, 0, 1\n",
    "    n = len(s)\n",
    "    for i in range(1,n):\n",
    "        if s[i] == s[i-1]:\n",
    "            cur += 1\n",
    "        else:\n",
    "            pre = cur\n",
    "            cur = 1\n",
    "        if pre >= cur:\n",
    "            res += 1\n",
    "    return res"
   ]
  },
  {
   "cell_type": "markdown",
   "metadata": {},
   "source": [
    "## Dynamic Programming"
   ]
  },
  {
   "cell_type": "code",
   "execution_count": 16,
   "metadata": {},
   "outputs": [
    {
     "data": {
      "text/plain": [
       "5"
      ]
     },
     "execution_count": 16,
     "metadata": {},
     "output_type": "execute_result"
    }
   ],
   "source": [
    "# longest common substring problem leetcode 1143\n",
    "# dp bottom-up method Time(m*n), Space O(m*n)\n",
    "def LCS(s, t):\n",
    "    if not s or not t or len(s)==0 or len(t)==0:\n",
    "        return 0\n",
    "    m,n = len(s), len(t)\n",
    "    dp=[[0]*(n+1) for _ in range(m+1)]\n",
    "    for i, c in enumerate(s):\n",
    "        for j,d in enumerate(t):\n",
    "            if c == d:\n",
    "                dp[i+1][j+1] = 1+ dp[i][j]\n",
    "            else:\n",
    "                dp[i+1][j+1] = max(dp[i][j+1], dp[i+1][j])\n",
    "    return dp[-1][-1]\n",
    "LCS('abcba', 'abcbcba')"
   ]
  },
  {
   "cell_type": "code",
   "execution_count": 19,
   "metadata": {},
   "outputs": [
    {
     "data": {
      "text/plain": [
       "5"
      ]
     },
     "execution_count": 19,
     "metadata": {},
     "output_type": "execute_result"
    }
   ],
   "source": [
    " # dp method 2: time O(m*n), space O(n)\n",
    "def lcs(s, t):\n",
    "    m,n = len(s), len(t)\n",
    "    dp = [0 for _ in range(n+1)]\n",
    "    for c in s:\n",
    "        new_dp = [0]\n",
    "        for j, d in enumerate(t):\n",
    "            if c == d:\n",
    "                new_dp.append(1+ dp[j])\n",
    "            else:\n",
    "                new_dp.append(max(new_dp[-1], dp[j+1]))\n",
    "        dp = new_dp\n",
    "    return dp[-1]\n",
    "lcs('abcba', 'abcbcba')"
   ]
  },
  {
   "cell_type": "code",
   "execution_count": 2,
   "metadata": {},
   "outputs": [
    {
     "data": {
      "text/plain": [
       "10"
      ]
     },
     "execution_count": 2,
     "metadata": {},
     "output_type": "execute_result"
    }
   ],
   "source": [
    "# cut steel pieces to get most money problem\n",
    "\"\"\"given the table of length and price (pi, (i=1,2,...n), and the length of steel need to cut n,\n",
    "return the cut methods which can get most money.\"\"\"\n",
    "# recursion method rn = max(pn, r1+rn-1, r2+rn-2,...rn-1+r1)=max(pi+rn-i)\n",
    "def cut(p, n): # p=[1,5,8,9,10,17,17,20,24,30]\n",
    "    if n==0: return 0\n",
    "    res = 0\n",
    "    for i in range(1,n+1):\n",
    "        res = max(res, p[i-1]+cut(p,n-i))\n",
    "    return res\n",
    "cut([1,5,8,9,10,17,17,20,24,30], 4)"
   ]
  },
  {
   "cell_type": "code",
   "execution_count": 13,
   "metadata": {},
   "outputs": [
    {
     "data": {
      "text/plain": [
       "10"
      ]
     },
     "execution_count": 13,
     "metadata": {},
     "output_type": "execute_result"
    }
   ],
   "source": [
    "# DP method: top-down memo \n",
    "def cutmemo(p, n):\n",
    "    if n==0: return 0\n",
    "    memo = [-1] * (len(p)+1)\n",
    "    \n",
    "    def cut(p, n, memo):\n",
    "        temp = -1\n",
    "        if memo[n]>=0:\n",
    "            return memo[n]\n",
    "        if n==0: \n",
    "            temp = 0\n",
    "        else:\n",
    "            for i in range(1, n+1):\n",
    "                temp = max(temp, (p[i-1]+cut(p, n-i, memo)))\n",
    "        memo[n] = temp\n",
    "        return temp\n",
    "    \n",
    "    return cut(p, n, memo)\n",
    "cutmemo([1,5,8,9,10,17,17,20,24,30], 4)    \n",
    "# wrong answer need to debug    "
   ]
  },
  {
   "cell_type": "code",
   "execution_count": 16,
   "metadata": {},
   "outputs": [
    {
     "data": {
      "text/plain": [
       "10"
      ]
     },
     "execution_count": 16,
     "metadata": {},
     "output_type": "execute_result"
    }
   ],
   "source": [
    "# bottom up method\n",
    "def bottom_up_cut(p, n):\n",
    "    r = [0] * (len(p)+1)\n",
    "    for i in range(1, (len(p)+1)):\n",
    "        q= -1\n",
    "        for j in range(1, (i+1)):\n",
    "            q = max(q, p[j-1]+r[i-j])\n",
    "        r[i] = q\n",
    "    return r[n]\n",
    "bottom_up_cut([1,5,8,9,10,17,17,20,24,30], 4)                      "
   ]
  },
  {
   "cell_type": "code",
   "execution_count": 31,
   "metadata": {},
   "outputs": [
    {
     "data": {
      "text/plain": [
       "False"
      ]
     },
     "execution_count": 31,
     "metadata": {},
     "output_type": "execute_result"
    }
   ],
   "source": [
    "# bag problem: leetcode 416 \n",
    "\"\"\"partition equal subset sum: non empty array with positive integers, find the array can be pa\n",
    "rtitioned into two subsets such that the elements in both subsets is equal.\"\"\"\n",
    "# store subset method consuming time\n",
    "def canPartition(nums):\n",
    "    if not nums or len(nums)==0:\n",
    "        return True\n",
    "    summ = sum(nums)\n",
    "    if summ &1 ==1:\n",
    "        return False\n",
    "    target = summ /2\n",
    "    n = len(nums)\n",
    "    s = set([0])\n",
    "    for n in nums:\n",
    "        sums_with_n = []\n",
    "        for i in dp:\n",
    "            if i+n == target:\n",
    "                return True\n",
    "            if i +n < target:\n",
    "                sums_with_n.append(i+n)\n",
    "        s.update(sums_with_n)\n",
    "    return False\n",
    "canPartition([1,2,3,5])"
   ]
  },
  {
   "cell_type": "code",
   "execution_count": 30,
   "metadata": {},
   "outputs": [
    {
     "data": {
      "text/plain": [
       "True"
      ]
     },
     "execution_count": 30,
     "metadata": {},
     "output_type": "execute_result"
    }
   ],
   "source": [
    "summ = 1\n",
    "summ &1 ==1"
   ]
  },
  {
   "cell_type": "code",
   "execution_count": 36,
   "metadata": {},
   "outputs": [],
   "source": [
    "# dp method\n",
    "def canPartition3(nums):\n",
    "    target, n = sum(nums), len(nums)\n",
    "    if target &1 ==1:\n",
    "        return False\n",
    "    target >>= 1\n",
    "    dp = [True] +[False]*target\n",
    "    for n in nums:\n",
    "        dp = [dp[s] or (s >=n and dp[s-n]) for s in range(rarget+1)]\n",
    "        if dp[target]:\n",
    "            return True\n",
    "    return False"
   ]
  },
  {
   "cell_type": "code",
   "execution_count": 35,
   "metadata": {},
   "outputs": [
    {
     "data": {
      "text/plain": [
       "True"
      ]
     },
     "execution_count": 35,
     "metadata": {},
     "output_type": "execute_result"
    }
   ],
   "source": [
    "# backtracking with memorization\n",
    "def canPartition2(nums):\n",
    "    s = sum(nums)\n",
    "    if s &1 == 1:\n",
    "        return False\n",
    "    def canFindSum(nums, target, idx, n, d):\n",
    "        if target in d:\n",
    "            return d[target]\n",
    "        if target ==0:\n",
    "            d[target] = True\n",
    "        else:\n",
    "            d[target] = False\n",
    "            if target > 0:\n",
    "                for i in range(idx, n):\n",
    "                    if canFindSum(nums, target-nums[i], i+1, n, d):\n",
    "                        d[target] = True\n",
    "                        break\n",
    "        return d[target]\n",
    "    return canFindSum(nums, s/2, 0, len(nums), {})\n",
    "canPartition2([1,2,3,4])"
   ]
  },
  {
   "cell_type": "code",
   "execution_count": 5,
   "metadata": {},
   "outputs": [
    {
     "data": {
      "text/plain": [
       "13"
      ]
     },
     "execution_count": 5,
     "metadata": {},
     "output_type": "execute_result"
    }
   ],
   "source": [
    "#--leetcode 70 climbing stairs\n",
    "def climb(n):\n",
    "    if n <= 2:\n",
    "        return n\n",
    "    dp = [0 for _ in range(n+1)]\n",
    "    dp[1], dp[2] = 1, 2\n",
    "    for i in range(3, n+1):\n",
    "        dp[i] = dp[i-1] +dp[i-2]\n",
    "    return dp[-1]\n",
    "climb(6)"
   ]
  },
  {
   "cell_type": "code",
   "execution_count": 20,
   "metadata": {},
   "outputs": [
    {
     "data": {
      "text/plain": [
       "4"
      ]
     },
     "execution_count": 20,
     "metadata": {},
     "output_type": "execute_result"
    }
   ],
   "source": [
    "#--------leetcode 198--------------\n",
    "\"\"\"house robber: a non negative array contains the value of robbing, cannot rob two connected ho\n",
    "uses, determin the amount of money you can rob tonight.\"\"\"\n",
    "def rob2(nums):\n",
    "    if not nums or len(nums)==0:\n",
    "        return 0\n",
    "    if len(nums)==1:\n",
    "        return nums[0]\n",
    "    if len(nums)==2:\n",
    "        return max(nums)\n",
    "    dp = [0 for _ in range(len(nums)+1)]\n",
    "    dp[0], dp[1] = 0, nums[0]\n",
    "    for i in range(1, len(nums)):\n",
    "        dp[i+1] = max(dp[i], dp[i-1]+nums[i])\n",
    "        \n",
    "    return dp[-1]\n",
    "rob2([2,1,1,2])"
   ]
  },
  {
   "cell_type": "code",
   "execution_count": 24,
   "metadata": {},
   "outputs": [],
   "source": [
    "def rob(nums):\n",
    "    if not nums or len(nums)==0:\n",
    "        return 0\n",
    "    if len(nums)==1:\n",
    "        return nums[0]\n",
    "    if len(nums)==2:\n",
    "        return max(nums)\n",
    "    dp = [0 for _ in range(len(nums))]\n",
    "    dp[0], dp[1] = nums[0], nums[1]\n",
    "    for i in range(2, len(nums)):\n",
    "        temp = [dp[j] + nums[i] for j in range(i-1)] + [dp[i-1]]\n",
    "        dp[i] = max(temp)\n",
    "        \n",
    "    return dp[-1]"
   ]
  },
  {
   "cell_type": "code",
   "execution_count": 27,
   "metadata": {},
   "outputs": [
    {
     "data": {
      "text/plain": [
       "4"
      ]
     },
     "execution_count": 27,
     "metadata": {},
     "output_type": "execute_result"
    }
   ],
   "source": [
    "#-----------leetcode 213-------------\n",
    "\"\"\"house robber II: circle array, cannot rob connected houses, determin the maximum money can rob\n",
    "\"\"\"\n",
    "def robb(nums):\n",
    "    if not nums or len(nums)==0:\n",
    "        return 0\n",
    "    if len(nums) <=3:\n",
    "        return max(nums)\n",
    "    def simple_rob(nums, i, j):\n",
    "        rob, not_rob = 0, 0\n",
    "        for idx in range(i, j):\n",
    "            num = nums[idx]\n",
    "            rob, not_rob = not_rob + num, max(not_rob, rob)\n",
    "        return max(rob, not_rob)\n",
    "    n = len(nums)\n",
    "    return max(simple_rob(nums, 1, n), simple_rob(nums, 0, n-1))\n",
    "robb([1,2,3,1])\n",
    "            "
   ]
  },
  {
   "cell_type": "code",
   "execution_count": 26,
   "metadata": {},
   "outputs": [
    {
     "data": {
      "text/plain": [
       "4"
      ]
     },
     "execution_count": 26,
     "metadata": {},
     "output_type": "execute_result"
    }
   ],
   "source": [
    "def robb2(nums):\n",
    "    if not nums or len(nums)==0:\n",
    "        return 0\n",
    "    if len(nums) <=3:\n",
    "        return max(nums)\n",
    "    def rob(n):\n",
    "        \n",
    "        if not nums or len(nums)==0:\n",
    "            return 0\n",
    "        if len(nums)==1:\n",
    "            return nums[0]\n",
    "        if len(nums)==2:\n",
    "            return max(nums)\n",
    "        dp = [0 for _ in range(len(nums)+1)]\n",
    "        dp[0], dp[1] = 0, nums[0]\n",
    "        for i in range(1, len(nums)):\n",
    "            dp[i+1] = max(dp[i], dp[i-1]+nums[i])\n",
    "\n",
    "        return dp[-1]\n",
    "    return max(rob(nums[:-1]), rob(nums[1:]))\n",
    "robb2([1,2,3,1])"
   ]
  },
  {
   "cell_type": "code",
   "execution_count": 1,
   "metadata": {},
   "outputs": [
    {
     "data": {
      "text/plain": [
       "6"
      ]
     },
     "execution_count": 1,
     "metadata": {},
     "output_type": "execute_result"
    }
   ],
   "source": [
    "#----------leetcode 276-------------\n",
    "\"\"\"paint fence: n fenches need to paint, we have k colors, no more than two adjancent fence posts\n",
    "have the same color.\"\"\"\n",
    "def numWays(n, k):\n",
    "    if n==0:\n",
    "        return 0\n",
    "    if n ==1:\n",
    "        return k\n",
    "    same, diff = 0, k\n",
    "    for i in range(2, n+1):\n",
    "        t = diff\n",
    "        diff = (same + diff) * (k-1)\n",
    "        same = t\n",
    "    return same +diff\n",
    "numWays(3,2)"
   ]
  },
  {
   "cell_type": "code",
   "execution_count": 9,
   "metadata": {},
   "outputs": [
    {
     "data": {
      "text/plain": [
       "9"
      ]
     },
     "execution_count": 9,
     "metadata": {},
     "output_type": "execute_result"
    }
   ],
   "source": [
    "# wrong letters and envelops: n letters and envelops, wrong paired, determin the amount of wrong\n",
    "#ways\n",
    "def wrongLetters(n):\n",
    "    if n <=1:\n",
    "        return 0\n",
    "    dp = [0 for _ in range(n+1)]\n",
    "    dp[0], dp[1],dp[2] = 0, 0, 1\n",
    "    for i in range(2, n):\n",
    "        dp[i+1] = dp[i-1] * i + dp[i] * i\n",
    "    return dp[-1]\n",
    "wrongLetters(4)"
   ]
  },
  {
   "cell_type": "code",
   "execution_count": 13,
   "metadata": {},
   "outputs": [
    {
     "data": {
      "text/plain": [
       "9"
      ]
     },
     "execution_count": 13,
     "metadata": {},
     "output_type": "execute_result"
    }
   ],
   "source": [
    "# 题目描述：假设农场中成熟的母牛每年都会生 1 头小母牛，并且永远不会死。\n",
    "#第一年有 1 只小母牛，从第二年开始，母牛开始生小母牛。每只小母牛 3 年之后成熟又可以生小母牛。\n",
    "#给定整数 N，求 N 年后牛的数量。\n",
    "def numCows(n):\n",
    "    if n <= 3:\n",
    "        return n\n",
    "    dp = [0 for _ in range(n+1)]\n",
    "    dp[1], dp[2], dp[3] = 1,2,3\n",
    "    for i in range(4, n+1):\n",
    "        dp[i] = dp[i-1] + dp[i-3]\n",
    "    return dp[n]\n",
    "numCows(6)"
   ]
  },
  {
   "cell_type": "code",
   "execution_count": 1,
   "metadata": {},
   "outputs": [],
   "source": [
    "#----------leetcode 64-----------\n",
    "\"\"\"minimum path sum: find the minimum path sum from top left to bottom right in a grid. only can\n",
    "move to right or down at any point of time.\"\"\"\n",
    "# 1d dp method Time: O(m*n), Space: O(n)\n",
    "def minPathSum(grid):\n",
    "    m, n = len(grid), len(grid[0])\n",
    "    min_path = [float('inf') for _ in range(n+1)]\n",
    "    min_path[1] = 0\n",
    "    for row in range(1, m+1):\n",
    "        new_min_path = [float('inf') for _ in range(n+1)]\n",
    "        for col in range(1, n+1):\n",
    "            new_min_path[col] = grid[row-1][col-1] + min(min_path[col], new_min_path[col-1])\n",
    "        min_path = new_min_path\n",
    "    return min_path[-1]\n"
   ]
  },
  {
   "cell_type": "code",
   "execution_count": 2,
   "metadata": {},
   "outputs": [],
   "source": [
    "#2d dp\n",
    "def minpath(grid):\n",
    "    if len(grid)==0 or len(grid[0])==0:\n",
    "        return 0\n",
    "    m, n = len(grid), len(grid[0])\n",
    "    dp = [[0 for _ in range(n+1)] for _ in range(m+1)]\n",
    "    dp[0][0] = grid[0][0]\n",
    "    for i in range(1, m):\n",
    "        dp[i][0] = dp[i-1][0] + grid[i][0]   # first row\n",
    "    for j in range(1, n):\n",
    "        dp[0][j] = grid[0][j] + dp[0][j-1]   # first column\n",
    "    for i in range(1, m):\n",
    "        for j in range(1, n):\n",
    "            dp[i][j] = grid[i][j] + min(dp[i-1][j], dp[i][j-1])\n",
    "    \n",
    "    return dp[m-1][n-1]"
   ]
  },
  {
   "cell_type": "code",
   "execution_count": 5,
   "metadata": {},
   "outputs": [],
   "source": [
    "#------------leetcode 62--------------\n",
    "\"\"\"in a grid find the mount of unique ways from top-left to botton-right. only can move to down\n",
    "or right.\"\"\"\n",
    "# 1d dp timeO(m*n), space O(n)\n",
    "def uniquePaths(m, n):\n",
    "    if m==0 and n==0:\n",
    "        return 0\n",
    "    elif m==0 or n==0:\n",
    "        return 1\n",
    "    dp = [1 for _ in range(n)]\n",
    "    for i in range(1, m+1):\n",
    "        temp = [1]\n",
    "        for j in range(1, n):\n",
    "            temp.append(temp[-1] + dp[j])\n",
    "        dp = temp\n",
    "    return dp[-1]"
   ]
  },
  {
   "cell_type": "code",
   "execution_count": 6,
   "metadata": {},
   "outputs": [],
   "source": [
    "# math method combination number    C(m+n-2, n-1)\n",
    "def uniquepath(m, n):\n",
    "    if not m or not n:\n",
    "        return 0\n",
    "    return math.factorial(m+n-2) / (math.factorial(n-1) * math.factorial(m-1))"
   ]
  },
  {
   "cell_type": "code",
   "execution_count": 11,
   "metadata": {},
   "outputs": [],
   "source": [
    "#-----------leetcode 303---------------\n",
    "\"\"\"range sum query: biven an integer array nums, fund the sum of the elements between indices i \n",
    "and j (i<=j)\"\"\"\n",
    "class NumArray:\n",
    "    def __init__(self, nums):\n",
    "        self.sum = [0]\n",
    "        for i in range(len(nums)):\n",
    "            self.sum.append(self.sum[-1] + nums[i])\n",
    "        \n",
    "    def sumRange(self, i, j):\n",
    "        return self.sum[j+1] - self.sum[i]          "
   ]
  },
  {
   "cell_type": "code",
   "execution_count": 10,
   "metadata": {},
   "outputs": [],
   "source": [
    "# method 2\n",
    "class NumArray:\n",
    "    def __init__(self, nums):\n",
    "        self.nums = nums\n",
    "        \n",
    "    def sumRange(self, i, j):\n",
    "        return sum(self.nums[i:j+1])"
   ]
  },
  {
   "cell_type": "code",
   "execution_count": 12,
   "metadata": {},
   "outputs": [],
   "source": [
    "#-----------leetcode 413----------------\n",
    "\"\"\"Arithmetic slices: sequence of numbers is called arithmetic if it consistes of at least three\n",
    "elements and if the difference between any two consecutive elements is the same.\"\"\"\n",
    "def numverOfArithmetic(A):\n",
    "    res, n = 0, len(A)\n",
    "    dp = [0 for _ in range(n+1)]\n",
    "    for i in range(2, n):\n",
    "        if A[i] - A[i-1] == A[i-1] - A[i-2]:\n",
    "            dp[i] = dp[i-1] +1\n",
    "        res += dp[i]\n",
    "    return res"
   ]
  },
  {
   "cell_type": "code",
   "execution_count": 13,
   "metadata": {},
   "outputs": [],
   "source": [
    "# math method\n",
    "def numArithmetic(A):\n",
    "    res, length, n = 0, 2, len(A)\n",
    "    for i in range(2, n):\n",
    "        if A[i] - A[i-1] == A[i-1] - A[i-2]:\n",
    "            length += 1\n",
    "        else:\n",
    "            if length > 2:\n",
    "                res += (length-1) * (length -2) /2\n",
    "            legth = 2\n",
    "    if length > 2:\n",
    "        res += (length-1) * (length -2) /2\n",
    "    return res\n",
    "# need to debug                "
   ]
  },
  {
   "cell_type": "code",
   "execution_count": 14,
   "metadata": {},
   "outputs": [],
   "source": [
    "def numArith(A):\n",
    "    res, cur = 0, 0\n",
    "    for i in range(2, len(A)):\n",
    "        if A[i] - A[i-1] == A[i-1] - A[i-2]:\n",
    "            cur += 1\n",
    "            res += cur\n",
    "        else:\n",
    "            cur = 0\n",
    "    return res"
   ]
  },
  {
   "cell_type": "code",
   "execution_count": 11,
   "metadata": {},
   "outputs": [
    {
     "data": {
      "text/plain": [
       "54"
      ]
     },
     "execution_count": 11,
     "metadata": {},
     "output_type": "execute_result"
    }
   ],
   "source": [
    "#-----------leetcode 343---------------\n",
    "\"\"\"integer break, positive integer, break at least two positive integers,and maximize the product\n",
    "of those integers, return the maximum product you can get.\"\"\"\n",
    "def integerbreak(n):\n",
    "    dp = [1 for _ in range(n+1)]\n",
    "    for i in range(3, n+1):\n",
    "        for j in range(1, i):\n",
    "            dp[i] = max(dp[i], max(j* (i-j), j * dp[i-j]))\n",
    "    return dp[-1]\n",
    "\n",
    "integerbreak(11)        "
   ]
  },
  {
   "cell_type": "code",
   "execution_count": 15,
   "metadata": {},
   "outputs": [
    {
     "data": {
      "text/plain": [
       "54"
      ]
     },
     "execution_count": 15,
     "metadata": {},
     "output_type": "execute_result"
    }
   ],
   "source": [
    "# math method \n",
    "def integerbreak2(n):\n",
    "    d, m = divmod(n, 3)\n",
    "    if m==0:\n",
    "        return 2 if n==3 else 3**d\n",
    "    if m==1:\n",
    "        return 1 if n==1 else 3**(d-1) *4\n",
    "    if m==2:\n",
    "        return 1 if n==2 else 3**d *2\n",
    "integerbreak2(11)"
   ]
  },
  {
   "cell_type": "code",
   "execution_count": 16,
   "metadata": {},
   "outputs": [],
   "source": [
    "#-----------leetcode 279-------------\n",
    "\"\"\"perfect squares: given positive integer n, find the least number of perfect squares numbers\n",
    "1, 4, 9, 16... which sum to n.\"\"\"\n",
    "# 4 平方和定理 math\n",
    "def numSquares(n):\n",
    "    while True:\n",
    "        d, m = divmod(n, 4)\n",
    "        if m:\n",
    "            break\n",
    "        else:\n",
    "            n = d\n",
    "    if n % 8 ==7:\n",
    "        return 4\n",
    "    elif (n**0.5).is_integer():\n",
    "        return 1\n",
    "    else:\n",
    "        squares = [i**2 for i in range(1, int(n**0.5))]\n",
    "        i, j = 0, len(squares)-1\n",
    "        while i <= j:\n",
    "            s = squares[i] + squares[j]\n",
    "            if s <n:\n",
    "                i += 1\n",
    "            elif s> n:\n",
    "                j -= 1\n",
    "            else:\n",
    "                return 2\n",
    "        else:\n",
    "            return 3\n",
    "    \n",
    "        "
   ]
  },
  {
   "cell_type": "code",
   "execution_count": 20,
   "metadata": {},
   "outputs": [
    {
     "data": {
      "text/plain": [
       "2"
      ]
     },
     "execution_count": 20,
     "metadata": {},
     "output_type": "execute_result"
    }
   ],
   "source": [
    "# dp method Time consuming Time O(n**2) space O(n)\n",
    "def numSquares2(n): \n",
    "    dp = [float('inf') for _ in range(n+1)]\n",
    "    dp[0] = 0\n",
    "    for i in range(n+1):\n",
    "        j = 1\n",
    "        while j *j <= n-i:\n",
    "            dp[i+ j*j] = min(dp[i+ j*j], dp[i]+1)\n",
    "            j += 1\n",
    "    return dp[-1]\n",
    "numSquares2(13)"
   ]
  },
  {
   "cell_type": "code",
   "execution_count": 9,
   "metadata": {},
   "outputs": [
    {
     "data": {
      "text/plain": [
       "3"
      ]
     },
     "execution_count": 9,
     "metadata": {},
     "output_type": "execute_result"
    }
   ],
   "source": [
    "#------------leetcode 91---------------\n",
    "\"\"\"decode ways: a message containing letters from A-Z is being encoded to numbers using the foll\n",
    "owing mapping 1- 26, given a non-empty string containing only digets, determin total number of w\n",
    "ways to decode it.\"\"\"\n",
    "def numDecode(s):\n",
    "    if not s or len(s)==0 or s[0]==0:\n",
    "        return 0\n",
    "    if len(s)==1:\n",
    "        return 1\n",
    "    dp = [0 for _ in range(len(s)+1)]\n",
    "    dp[0] = 1\n",
    "    if s[0] != '0':\n",
    "        dp[1] = 1\n",
    "    for i in range(1, len(s)):\n",
    "        if s[i] != 0:\n",
    "            dp[i+1] += dp[i]\n",
    "        if 10 <= int(s[i-1:i+1]) <= 26:\n",
    "            dp[i+1] += dp[i-1]\n",
    "    return dp[len(s)]\n",
    "numDecode('223')\n",
    "                    "
   ]
  },
  {
   "cell_type": "code",
   "execution_count": 10,
   "metadata": {},
   "outputs": [],
   "source": [
    "# method 2\n",
    "def numdecoding(s):\n",
    "    if s[0]=='0' or len(s)==0:\n",
    "        return 0\n",
    "    prev1 = 1\n",
    "    if s[0] != '0':\n",
    "        curr = 1\n",
    "        prev2 = curr\n",
    "    for i in range(1, len(s)):\n",
    "        curr = 0\n",
    "        if s[i] != '0':\n",
    "            curr += prev2\n",
    "        if 10 <= int(s[i-1:i+1]) <= 26:\n",
    "            curr += prev1\n",
    "        prev1 = prev2\n",
    "        prev2 = curr\n",
    "    return curr\n",
    "        "
   ]
  },
  {
   "cell_type": "code",
   "execution_count": null,
   "metadata": {},
   "outputs": [],
   "source": []
  }
 ],
 "metadata": {
  "kernelspec": {
   "display_name": "Python 3",
   "language": "python",
   "name": "python3"
  },
  "language_info": {
   "codemirror_mode": {
    "name": "ipython",
    "version": 3
   },
   "file_extension": ".py",
   "mimetype": "text/x-python",
   "name": "python",
   "nbconvert_exporter": "python",
   "pygments_lexer": "ipython3",
   "version": "3.7.4"
  }
 },
 "nbformat": 4,
 "nbformat_minor": 2
}
