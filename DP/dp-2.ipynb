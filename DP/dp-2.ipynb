{
 "cells": [
  {
   "cell_type": "markdown",
   "metadata": {},
   "source": [
    "# leetcode problem solutions"
   ]
  },
  {
   "cell_type": "code",
   "execution_count": 16,
   "metadata": {},
   "outputs": [
    {
     "data": {
      "text/plain": [
       "5"
      ]
     },
     "execution_count": 16,
     "metadata": {},
     "output_type": "execute_result"
    }
   ],
   "source": [
    "# longest common substring problem leetcode 1143\n",
    "# dp bottom-up method Time(m*n), Space O(m*n)\n",
    "def LCS(s, t):\n",
    "    if not s or not t or len(s)==0 or len(t)==0:\n",
    "        return 0\n",
    "    m,n = len(s), len(t)\n",
    "    dp=[[0]*(n+1) for _ in range(m+1)]\n",
    "    for i, c in enumerate(s):\n",
    "        for j,d in enumerate(t):\n",
    "            if c == d:\n",
    "                dp[i+1][j+1] = 1+ dp[i][j]\n",
    "            else:\n",
    "                dp[i+1][j+1] = max(dp[i][j+1], dp[i+1][j])\n",
    "    return dp[-1][-1]\n",
    "LCS('abcba', 'abcbcba')"
   ]
  },
  {
   "cell_type": "code",
   "execution_count": 19,
   "metadata": {},
   "outputs": [
    {
     "data": {
      "text/plain": [
       "5"
      ]
     },
     "execution_count": 19,
     "metadata": {},
     "output_type": "execute_result"
    }
   ],
   "source": [
    " # dp method 2: time O(m*n), space O(n)\n",
    "def lcs(s, t):\n",
    "    m,n = len(s), len(t)\n",
    "    dp = [0 for _ in range(n+1)]\n",
    "    for c in s:\n",
    "        new_dp = [0]\n",
    "        for j, d in enumerate(t):\n",
    "            if c == d:\n",
    "                new_dp.append(1+ dp[j])\n",
    "            else:\n",
    "                new_dp.append(max(new_dp[-1], dp[j+1]))\n",
    "        dp = new_dp\n",
    "    return dp[-1]\n",
    "lcs('abcba', 'abcbcba')"
   ]
  },
  {
   "cell_type": "code",
   "execution_count": 35,
   "metadata": {},
   "outputs": [
    {
     "data": {
      "text/plain": [
       "True"
      ]
     },
     "execution_count": 35,
     "metadata": {},
     "output_type": "execute_result"
    }
   ],
   "source": [
    "# backtracking with memorization\n",
    "def canPartition2(nums):\n",
    "    s = sum(nums)\n",
    "    if s &1 == 1:\n",
    "        return False\n",
    "    def canFindSum(nums, target, idx, n, d):\n",
    "        if target in d:\n",
    "            return d[target]\n",
    "        if target ==0:\n",
    "            d[target] = True\n",
    "        else:\n",
    "            d[target] = False\n",
    "            if target > 0:\n",
    "                for i in range(idx, n):\n",
    "                    if canFindSum(nums, target-nums[i], i+1, n, d):\n",
    "                        d[target] = True\n",
    "                        break\n",
    "        return d[target]\n",
    "    return canFindSum(nums, s/2, 0, len(nums), {})\n",
    "canPartition2([1,2,3,4])"
   ]
  },
  {
   "cell_type": "markdown",
   "metadata": {},
   "source": [
    "## 0-1 knapsack dp problems"
   ]
  },
  {
   "cell_type": "code",
   "execution_count": 5,
   "metadata": {},
   "outputs": [
    {
     "data": {
      "text/plain": [
       "False"
      ]
     },
     "execution_count": 5,
     "metadata": {},
     "output_type": "execute_result"
    }
   ],
   "source": [
    "#-------------leetcode 416--------------\n",
    "\"\"\" partition equal subset sum: array with positive integers, find if the array can be partition\n",
    "into two subsets such that the sum of elements in both subsets is equal.\"\"\"\n",
    "# 1D dp time O(n * sum(nums)) Space O(n)\n",
    "def canPartition(nums):\n",
    "    if len(nums) <= 1:\n",
    "        return False\n",
    "    if sum(nums) %2 != 0:\n",
    "        return False\n",
    "    target = (sum(nums)) //2\n",
    "    \n",
    "    dp = [False for _ in range(target+1)]\n",
    "    dp[0] = True\n",
    "    for num in nums:\n",
    "        for i in range(target, num-1, -1):\n",
    "            dp[i] = dp[i] or dp[i-num]\n",
    "    return dp[target]\n",
    "canPartition([1,2,3,5])"
   ]
  },
  {
   "cell_type": "code",
   "execution_count": 8,
   "metadata": {},
   "outputs": [
    {
     "data": {
      "text/plain": [
       "False"
      ]
     },
     "execution_count": 8,
     "metadata": {},
     "output_type": "execute_result"
    }
   ],
   "source": [
    "# 2D dp \n",
    "def partition(nums):\n",
    "    total = sum(nums)\n",
    "    if total & 1 ==1:\n",
    "        return False\n",
    "    total = total // 2\n",
    "    n = len(nums)\n",
    "    dp = [[False for _ in range(total+1)] for _ in range(n+1)]\n",
    "    dp[0][0] = True\n",
    "    for i in range(1,n+1):\n",
    "        dp[i][0] = True\n",
    "    for i in range(1,n+1):\n",
    "        for j in range(1, total+1):\n",
    "            if j >= nums[i-1]:\n",
    "                dp[i][j] = (dp[i][j] or dp[i-1][j-nums[i-1]])\n",
    "    return dp[n][total]\n",
    "partition([1,5,11,5]) # bug"
   ]
  },
  {
   "cell_type": "code",
   "execution_count": null,
   "metadata": {},
   "outputs": [],
   "source": []
  }
 ],
 "metadata": {
  "kernelspec": {
   "display_name": "Python 3",
   "language": "python",
   "name": "python3"
  },
  "language_info": {
   "codemirror_mode": {
    "name": "ipython",
    "version": 3
   },
   "file_extension": ".py",
   "mimetype": "text/x-python",
   "name": "python",
   "nbconvert_exporter": "python",
   "pygments_lexer": "ipython3",
   "version": "3.7.4"
  }
 },
 "nbformat": 4,
 "nbformat_minor": 2
}
