{
 "cells": [
  {
   "cell_type": "markdown",
   "metadata": {},
   "source": [
    "# leetcode problem solutions"
   ]
  },
  {
   "cell_type": "code",
   "execution_count": 16,
   "metadata": {},
   "outputs": [
    {
     "data": {
      "text/plain": [
       "5"
      ]
     },
     "execution_count": 16,
     "metadata": {},
     "output_type": "execute_result"
    }
   ],
   "source": [
    "# longest common substring problem leetcode 1143\n",
    "# dp bottom-up method Time(m*n), Space O(m*n)\n",
    "def LCS(s, t):\n",
    "    if not s or not t or len(s)==0 or len(t)==0:\n",
    "        return 0\n",
    "    m,n = len(s), len(t)\n",
    "    dp=[[0]*(n+1) for _ in range(m+1)]\n",
    "    for i, c in enumerate(s):\n",
    "        for j,d in enumerate(t):\n",
    "            if c == d:\n",
    "                dp[i+1][j+1] = 1+ dp[i][j]\n",
    "            else:\n",
    "                dp[i+1][j+1] = max(dp[i][j+1], dp[i+1][j])\n",
    "    return dp[-1][-1]\n",
    "LCS('abcba', 'abcbcba')"
   ]
  },
  {
   "cell_type": "code",
   "execution_count": 19,
   "metadata": {},
   "outputs": [
    {
     "data": {
      "text/plain": [
       "5"
      ]
     },
     "execution_count": 19,
     "metadata": {},
     "output_type": "execute_result"
    }
   ],
   "source": [
    " # dp method 2: time O(m*n), space O(n)\n",
    "def lcs(s, t):\n",
    "    m,n = len(s), len(t)\n",
    "    dp = [0 for _ in range(n+1)]\n",
    "    for c in s:\n",
    "        new_dp = [0]\n",
    "        for j, d in enumerate(t):\n",
    "            if c == d:\n",
    "                new_dp.append(1+ dp[j])\n",
    "            else:\n",
    "                new_dp.append(max(new_dp[-1], dp[j+1]))\n",
    "        dp = new_dp\n",
    "    return dp[-1]\n",
    "lcs('abcba', 'abcbcba')"
   ]
  },
  {
   "cell_type": "code",
   "execution_count": 35,
   "metadata": {},
   "outputs": [
    {
     "data": {
      "text/plain": [
       "True"
      ]
     },
     "execution_count": 35,
     "metadata": {},
     "output_type": "execute_result"
    }
   ],
   "source": [
    "# backtracking with memorization\n",
    "def canPartition2(nums):\n",
    "    s = sum(nums)\n",
    "    if s &1 == 1:\n",
    "        return False\n",
    "    def canFindSum(nums, target, idx, n, d):\n",
    "        if target in d:\n",
    "            return d[target]\n",
    "        if target ==0:\n",
    "            d[target] = True\n",
    "        else:\n",
    "            d[target] = False\n",
    "            if target > 0:\n",
    "                for i in range(idx, n):\n",
    "                    if canFindSum(nums, target-nums[i], i+1, n, d):\n",
    "                        d[target] = True\n",
    "                        break\n",
    "        return d[target]\n",
    "    return canFindSum(nums, s/2, 0, len(nums), {})\n",
    "canPartition2([1,2,3,4])"
   ]
  },
  {
   "cell_type": "markdown",
   "metadata": {},
   "source": [
    "## 0-1 knapsack dp problems"
   ]
  },
  {
   "cell_type": "code",
   "execution_count": 5,
   "metadata": {},
   "outputs": [
    {
     "data": {
      "text/plain": [
       "False"
      ]
     },
     "execution_count": 5,
     "metadata": {},
     "output_type": "execute_result"
    }
   ],
   "source": [
    "#-------------leetcode 416--------------\n",
    "\"\"\" partition equal subset sum: array with positive integers, find if the array can be partition\n",
    "into two subsets such that the sum of elements in both subsets is equal.\"\"\"\n",
    "# 1D dp time O(n * sum(nums)) Space O(n)\n",
    "def canPartition(nums):\n",
    "    if len(nums) <= 1:\n",
    "        return False\n",
    "    if sum(nums) %2 != 0:\n",
    "        return False\n",
    "    target = (sum(nums)) //2\n",
    "    \n",
    "    dp = [False for _ in range(target+1)]\n",
    "    dp[0] = True\n",
    "    for num in nums:\n",
    "        for i in range(target, num-1, -1):\n",
    "            dp[i] = dp[i] or dp[i-num]\n",
    "    return dp[target]\n",
    "canPartition([1,2,3,5])"
   ]
  },
  {
   "cell_type": "code",
   "execution_count": 8,
   "metadata": {},
   "outputs": [
    {
     "data": {
      "text/plain": [
       "False"
      ]
     },
     "execution_count": 8,
     "metadata": {},
     "output_type": "execute_result"
    }
   ],
   "source": [
    "# 2D dp \n",
    "def partition(nums):\n",
    "    total = sum(nums)\n",
    "    if total & 1 ==1:\n",
    "        return False\n",
    "    total = total // 2\n",
    "    n = len(nums)\n",
    "    dp = [[False for _ in range(total+1)] for _ in range(n+1)]\n",
    "    dp[0][0] = True\n",
    "    for i in range(1,n+1):\n",
    "        dp[i][0] = True\n",
    "    for i in range(1,n+1):\n",
    "        for j in range(1, total+1):\n",
    "            if j >= nums[i-1]:\n",
    "                dp[i][j] = (dp[i][j] or dp[i-1][j-nums[i-1]])\n",
    "    return dp[n][total]\n",
    "partition([1,5,11,5]) # bug"
   ]
  },
  {
   "cell_type": "code",
   "execution_count": 2,
   "metadata": {},
   "outputs": [],
   "source": [
    "#------------leetcode 494----------\n",
    "\"\"\"target sum: given a list of non_negative integers, and a target, now you have two symbles +, _\n",
    "for each integers, you should choose one from + and - as its new symbol. find out how many ways\n",
    "to assign symbols to make sum of integers equal to target \"\"\"\n",
    "# 2D dp subset sum method\n",
    "def findTargetSumways(nums, S):\n",
    "    summ = sum(nums)\n",
    "    if summ < S or (summ +S) %2 !=0:\n",
    "        return 0\n",
    "    total = (summ + S) //2\n",
    "    dp = [0 for _ in range(total+1)]\n",
    "    dp[0] = 1\n",
    "    for num in nums:\n",
    "        for i in range(total, num-1, -1):\n",
    "            dp[i] +=  dp[i-num]\n",
    "    return dp[total]"
   ]
  },
  {
   "cell_type": "code",
   "execution_count": 2,
   "metadata": {},
   "outputs": [],
   "source": [
    "#----------leetcode 474-------------\n",
    "\"\"\"given m 0s and n 1s to form strings in array, find the most number which strings can be formed\n",
    "each 0 and 1 can be used most once.\"\"\"\n",
    "def findmaxform(strs, m, n):\n",
    "    if not strs or len(strs)==0:\n",
    "        return 0\n",
    "    dp = [[0 for _ in range(n+1)] for _ in range(m+1)]\n",
    "    for s in strs:\n",
    "        one, zero = 0, 0\n",
    "        for c in s:\n",
    "            if c == '0':\n",
    "                zero += 1\n",
    "            else:\n",
    "                one += 1\n",
    "        for i in range(m, zero-1, -1):\n",
    "            for j in range(n, one-1, -1):\n",
    "                dp[i][j] = max(dp[i][j], dp[i-zero][j-one]+1)\n",
    "    return dp[m][n]"
   ]
  },
  {
   "cell_type": "code",
   "execution_count": 5,
   "metadata": {},
   "outputs": [],
   "source": [
    "#-----------leetcode 322-------------\n",
    "\"\"\"coin change: given coins of denominations and a total amount of money amount. find the fewest number of\n",
    "of coins that you need to make up that amount. return -1, if no combination of coins make the amount.\"\"\"\n",
    "def coinchange(coins, amount):\n",
    "    if not coins or len(coins)==0 or amount ==0:\n",
    "        return 0\n",
    "    if min(coins)> amount:\n",
    "        return -1\n",
    "    dp = [float('inf') for _ in range(amount+1)]\n",
    "    dp[0] = 0\n",
    "    for coin in coins:\n",
    "        for i in range(coin, amount+1):\n",
    "            if i == coin:\n",
    "                dp[i] =1\n",
    "            elif dp[i]==0 and dp[i-coin]!=0:\n",
    "                dp[i] = dp[i-coin] +1\n",
    "            elif dp[i-coin] !=0:\n",
    "                dp[i] = min(dp[i], dp[i-coin]+1)\n",
    "    return -1 if dp[amount]==float('inf') else dp[amount]"
   ]
  },
  {
   "cell_type": "code",
   "execution_count": 8,
   "metadata": {},
   "outputs": [],
   "source": [
    "# dfs + pruning\n",
    "def coinchange(coins, amount):\n",
    "    coins.sort(reverse=True)\n",
    "    n, self.res = len(coins), 2**31-1\n",
    "    \n",
    "    def dfs(pt, rem, count):\n",
    "        if not rem:\n",
    "            self.res = min(self.res, count)\n",
    "        for i in range(pt, n):\n",
    "            if coins[i] <= rem < coins[i] * (self.res-count):\n",
    "                dfs(i, rem-coins[i], count+1)\n",
    "    for i in range(n):\n",
    "        dfs(i, amount, 0)\n",
    "    return self.res if self.res<2**31-1 else -1\n",
    "                \n",
    "            "
   ]
  },
  {
   "cell_type": "code",
   "execution_count": 10,
   "metadata": {},
   "outputs": [],
   "source": [
    "#------------leetcode 518--------------\n",
    "\"\"\"coin changeII: given coins of different denominations and a total amount of money. find the \n",
    "number of combinations that make up that amount. infinite number of coins.\"\"\"\n",
    "def change(amount, coins):\n",
    "    \n",
    "    dp = [0 for _ in range(amount+1)]\n",
    "    dp[0] =1\n",
    "    for coin in coins:\n",
    "        for i in range(coin, amount+1):\n",
    "            dp[i] = dp[i]+ dp[i-coin]\n",
    "    return dp[amount]\n",
    "    "
   ]
  },
  {
   "cell_type": "code",
   "execution_count": null,
   "metadata": {},
   "outputs": [],
   "source": []
  }
 ],
 "metadata": {
  "kernelspec": {
   "display_name": "Python 3",
   "language": "python",
   "name": "python3"
  },
  "language_info": {
   "codemirror_mode": {
    "name": "ipython",
    "version": 3
   },
   "file_extension": ".py",
   "mimetype": "text/x-python",
   "name": "python",
   "nbconvert_exporter": "python",
   "pygments_lexer": "ipython3",
   "version": "3.7.4"
  }
 },
 "nbformat": 4,
 "nbformat_minor": 2
}
