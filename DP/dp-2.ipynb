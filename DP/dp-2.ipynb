{
 "cells": [
  {
   "cell_type": "markdown",
   "metadata": {},
   "source": [
    "# leetcode problem solutions"
   ]
  },
  {
   "cell_type": "markdown",
   "metadata": {},
   "source": [
    "## 0-1 knapsack dp problems"
   ]
  },
  {
   "cell_type": "code",
   "execution_count": 5,
   "metadata": {},
   "outputs": [
    {
     "data": {
      "text/plain": [
       "False"
      ]
     },
     "execution_count": 5,
     "metadata": {},
     "output_type": "execute_result"
    }
   ],
   "source": [
    "#-------------leetcode 416--------------\n",
    "\"\"\" partition equal subset sum: array with positive integers, find if the array can be partition\n",
    "into two subsets such that the sum of elements in both subsets is equal.\"\"\"\n",
    "# 1D dp time O(n * sum(nums)) Space O(n)\n",
    "def canPartition(nums):\n",
    "    if len(nums) <= 1:\n",
    "        return False\n",
    "    if sum(nums) %2 != 0:\n",
    "        return False\n",
    "    target = (sum(nums)) //2\n",
    "    \n",
    "    dp = [False for _ in range(target+1)]\n",
    "    dp[0] = True\n",
    "    for num in nums:\n",
    "        for i in range(target, num-1, -1):\n",
    "            dp[i] = dp[i] or dp[i-num]\n",
    "    return dp[target]\n",
    "canPartition([1,2,3,5])"
   ]
  },
  {
   "cell_type": "code",
   "execution_count": 8,
   "metadata": {},
   "outputs": [
    {
     "data": {
      "text/plain": [
       "False"
      ]
     },
     "execution_count": 8,
     "metadata": {},
     "output_type": "execute_result"
    }
   ],
   "source": [
    "# 2D dp \n",
    "def partition(nums):\n",
    "    total = sum(nums)\n",
    "    if total & 1 ==1:\n",
    "        return False\n",
    "    total = total // 2\n",
    "    n = len(nums)\n",
    "    dp = [[False for _ in range(total+1)] for _ in range(n+1)]\n",
    "    dp[0][0] = True\n",
    "    for i in range(1,n+1):\n",
    "        dp[i][0] = True\n",
    "    for i in range(1,n+1):\n",
    "        for j in range(1, total+1):\n",
    "            if j >= nums[i-1]:\n",
    "                dp[i][j] = (dp[i][j] or dp[i-1][j-nums[i-1]])\n",
    "    return dp[n][total]\n",
    "partition([1,5,11,5]) # bug"
   ]
  },
  {
   "cell_type": "code",
   "execution_count": 2,
   "metadata": {},
   "outputs": [],
   "source": [
    "#------------leetcode 494----------\n",
    "\"\"\"target sum: given a list of non_negative integers, and a target, now you have two symbles +, _\n",
    "for each integers, you should choose one from + and - as its new symbol. find out how many ways\n",
    "to assign symbols to make sum of integers equal to target \"\"\"\n",
    "# 2D dp subset sum method\n",
    "def findTargetSumways(nums, S):\n",
    "    summ = sum(nums)\n",
    "    if summ < S or (summ +S) %2 !=0:\n",
    "        return 0\n",
    "    total = (summ + S) //2\n",
    "    dp = [0 for _ in range(total+1)]\n",
    "    dp[0] = 1\n",
    "    for num in nums:\n",
    "        for i in range(total, num-1, -1):\n",
    "            dp[i] +=  dp[i-num]\n",
    "    return dp[total]"
   ]
  },
  {
   "cell_type": "code",
   "execution_count": 2,
   "metadata": {},
   "outputs": [],
   "source": [
    "#----------leetcode 474-------------\n",
    "\"\"\"given m 0s and n 1s to form strings in array, find the most number which strings can be formed\n",
    "each 0 and 1 can be used most once.\"\"\"\n",
    "def findmaxform(strs, m, n):\n",
    "    if not strs or len(strs)==0:\n",
    "        return 0\n",
    "    dp = [[0 for _ in range(n+1)] for _ in range(m+1)]\n",
    "    for s in strs:\n",
    "        one, zero = 0, 0\n",
    "        for c in s:\n",
    "            if c == '0':\n",
    "                zero += 1\n",
    "            else:\n",
    "                one += 1\n",
    "        for i in range(m, zero-1, -1):\n",
    "            for j in range(n, one-1, -1):\n",
    "                dp[i][j] = max(dp[i][j], dp[i-zero][j-one]+1)\n",
    "    return dp[m][n]"
   ]
  },
  {
   "cell_type": "code",
   "execution_count": 5,
   "metadata": {},
   "outputs": [],
   "source": [
    "#-----------leetcode 322-------------\n",
    "\"\"\"coin change: given coins of denominations and a total amount of money amount. find the fewest number of\n",
    "of coins that you need to make up that amount. return -1, if no combination of coins make the amount.\"\"\"\n",
    "def coinchange(coins, amount):\n",
    "    if not coins or len(coins)==0 or amount ==0:\n",
    "        return 0\n",
    "    if min(coins)> amount:\n",
    "        return -1\n",
    "    dp = [float('inf') for _ in range(amount+1)]\n",
    "    dp[0] = 0\n",
    "    for coin in coins:\n",
    "        for i in range(coin, amount+1):\n",
    "            if i == coin:\n",
    "                dp[i] =1\n",
    "            elif dp[i]==0 and dp[i-coin]!=0:\n",
    "                dp[i] = dp[i-coin] +1\n",
    "            elif dp[i-coin] !=0:\n",
    "                dp[i] = min(dp[i], dp[i-coin]+1)\n",
    "    return -1 if dp[amount]==float('inf') else dp[amount]"
   ]
  },
  {
   "cell_type": "code",
   "execution_count": 8,
   "metadata": {},
   "outputs": [],
   "source": [
    "# dfs + pruning\n",
    "def coinchange(coins, amount):\n",
    "    coins.sort(reverse=True)\n",
    "    n, self.res = len(coins), 2**31-1\n",
    "    \n",
    "    def dfs(pt, rem, count):\n",
    "        if not rem:\n",
    "            self.res = min(self.res, count)\n",
    "        for i in range(pt, n):\n",
    "            if coins[i] <= rem < coins[i] * (self.res-count):\n",
    "                dfs(i, rem-coins[i], count+1)\n",
    "    for i in range(n):\n",
    "        dfs(i, amount, 0)\n",
    "    return self.res if self.res<2**31-1 else -1\n",
    "                \n",
    "            "
   ]
  },
  {
   "cell_type": "code",
   "execution_count": 10,
   "metadata": {},
   "outputs": [],
   "source": [
    "#------------leetcode 518--------------\n",
    "\"\"\"coin changeII: given coins of different denominations and a total amount of money. find the \n",
    "number of combinations that make up that amount. infinite number of coins.\"\"\"\n",
    "def change(amount, coins):\n",
    "    \n",
    "    dp = [0 for _ in range(amount+1)]\n",
    "    dp[0] =1\n",
    "    for coin in coins:\n",
    "        for i in range(coin, amount+1):\n",
    "            dp[i] = dp[i]+ dp[i-coin]\n",
    "    return dp[amount]\n",
    "    "
   ]
  },
  {
   "cell_type": "code",
   "execution_count": 2,
   "metadata": {},
   "outputs": [],
   "source": [
    "#-----------leetcode 139-------------\n",
    "\"\"\"word break:given a string and dict, containing words, determine if s can be segmented into a \n",
    "space-seperated sequence of one or more dictionary words. same words can be reused multiple times\n",
    "no duplicate in dictionary.\"\"\"\n",
    "def wordBreak(s, wordDict):\n",
    "    if not wordDict or len(wordDict)==0:\n",
    "        return False\n",
    "    dp = [False for _ in range(len(s)+1)]\n",
    "    dp[0] = True\n",
    "    for i in range(1, len(s)+1):\n",
    "        for word in wordDict:\n",
    "            n = len(word)\n",
    "            if n <= i and word == s[i-n:i]:\n",
    "                dp[i] = dp[i] or dp[i-n]\n",
    "    return dp[len(s)]"
   ]
  },
  {
   "cell_type": "code",
   "execution_count": 5,
   "metadata": {},
   "outputs": [],
   "source": [
    "#----------leetcode 377------------\n",
    "\"\"\"combination sum IV: an integer array with all positive numbers and no duplicates, find the num\n",
    "ber of possible combinations that add up to a positive integer target.\"\"\"\n",
    "def combinationSum4(nums, target):\n",
    "    if not nums or len(nums)==0 or target < min(nums):\n",
    "        return 0\n",
    "    dp = [0 for _ in range(target+1)]\n",
    "    dp[0] = 1\n",
    "    for i in range(1 , target+1):\n",
    "        for n in nums:\n",
    "            if i >=n:\n",
    "                dp[i] = dp[i] + dp[i-n]\n",
    "    return dp[-1]"
   ]
  },
  {
   "cell_type": "code",
   "execution_count": 6,
   "metadata": {},
   "outputs": [],
   "source": [
    "# when target is far much larger than the size of nums,, need optimize the former method, \n",
    "# 1 sort nums, if target left smaller than num in nums, break.\n",
    "def combinationsum4(nums, target):\n",
    "    if not nums or len(nums)==0 or target < min(nums):\n",
    "        return 0\n",
    "    dp = [0 for _ in range(target+1)]\n",
    "    dp[0] = 1\n",
    "    nums.sort()\n",
    "    for i in range(1 , target+1):\n",
    "        for n in nums:\n",
    "            if i >=n: # i <n break\n",
    "                dp[i] = dp[i] + dp[i-n]\n",
    "    return dp[-1]\n"
   ]
  },
  {
   "cell_type": "code",
   "execution_count": 9,
   "metadata": {},
   "outputs": [],
   "source": [
    "# dfs Method\n",
    "def combinationSum2(nums, target):\n",
    "    memo = {}\n",
    "    \n",
    "    def helper(nums, target, memo):\n",
    "        if target <0:\n",
    "            return 0\n",
    "        if target ==0:\n",
    "            return 1\n",
    "        if target in memo:\n",
    "            return memo[target]\n",
    "        combos = 0\n",
    "        for num in nums:\n",
    "            combos += helper(nums, target-num, memo)\n",
    "        memo[target] = combos\n",
    "        return combos\n",
    "    helper(nums, target, memo)\n",
    "    return memo[target]"
   ]
  },
  {
   "cell_type": "markdown",
   "metadata": {},
   "source": [
    "## buy and sell stock"
   ]
  },
  {
   "cell_type": "code",
   "execution_count": 3,
   "metadata": {},
   "outputs": [
    {
     "data": {
      "text/plain": [
       "3"
      ]
     },
     "execution_count": 3,
     "metadata": {},
     "output_type": "execute_result"
    }
   ],
   "source": [
    "#-------------leetcode 309-------------\n",
    "\"\"\"buy and sell stock with cooldown given array of the ith element is the price of a given tock on day i. design an algorithm to \n",
    "find the maximum profit. you may complete as many transactions as you like. you may not in multiple\n",
    "tansactions at same time. after you sell your stock, you cannot buy stoch next day.\"\"\"\n",
    "def maxProfit(price):\n",
    "    rest = [0 for _ in range(len(price)+1)]\n",
    "    hold = [0 for _ in range(len(price)+1)]\n",
    "    sold = [0 for _ in range(len(price)+1)]\n",
    "    rest[0], hold[0], sold[0] = 0, float('-inf'), 0\n",
    "    for i in range(1, len(price)+1):\n",
    "        rest[i] = max(rest[i-1], sold[i-1])\n",
    "        hold[i] = max(hold[i-1], rest[i-1]-price[i-1])\n",
    "        sold[i] = hold[i-1]+price[i-1]\n",
    "    return max(rest[-1],sold[-1])\n",
    "maxProfit([1,2,3,0,2])"
   ]
  },
  {
   "cell_type": "code",
   "execution_count": 5,
   "metadata": {},
   "outputs": [
    {
     "data": {
      "text/plain": [
       "3"
      ]
     },
     "execution_count": 5,
     "metadata": {},
     "output_type": "execute_result"
    }
   ],
   "source": [
    "# space optimize \n",
    "def maxprofit2(price):\n",
    "    rest, hold, sold = 0, float('-inf'), 0\n",
    "    for i in range(1, len(price)+1):\n",
    "        pre_sold = sold\n",
    "        sold = hold + price[i-1]\n",
    "        hold = max(hold, rest - price[i-1])\n",
    "        rest = max(rest, pre_sold)\n",
    "    return max(rest, sold)\n",
    "maxprofit2([1,2,3,0,2])"
   ]
  },
  {
   "cell_type": "code",
   "execution_count": 2,
   "metadata": {},
   "outputs": [
    {
     "data": {
      "text/plain": [
       "8"
      ]
     },
     "execution_count": 2,
     "metadata": {},
     "output_type": "execute_result"
    }
   ],
   "source": [
    "#------------leetcode 714--------------\n",
    "\"\"\"stock selling with transaction fee: given array prices, for which ith element is the price of ith\n",
    "day, and non-negative integer fee represemting a transaction fee. you may complete as manu transactions as you like, \n",
    "but need to pay the fee for each transaction. \"\"\"\n",
    "def maxprofit(prices, fee):\n",
    "    hold = [0 for _ in range(len(prices)+1)]\n",
    "    sold = [0 for _ in range(len(prices)+1)]\n",
    "    hold[0], sold[0] = float('-inf'), 0\n",
    "    for i in range(1, len(prices)+1):\n",
    "        hold[i] = max(hold[i-1], sold[i-1]-prices[i-1])\n",
    "        sold[i] = max(sold[i-1], hold[i-1]+prices[i-1]-fee)\n",
    "    return sold[-1]\n",
    "maxprofit([1,3,2,8,4,9],2)"
   ]
  },
  {
   "cell_type": "code",
   "execution_count": 3,
   "metadata": {},
   "outputs": [
    {
     "data": {
      "text/plain": [
       "8"
      ]
     },
     "execution_count": 3,
     "metadata": {},
     "output_type": "execute_result"
    }
   ],
   "source": [
    "# method 2, space optimize\n",
    "def maxprofit2(prices, fee):\n",
    "    hold, sold = float('-inf'), 0\n",
    "    for i in range(1, len(prices)+1):\n",
    "        pre_hold = hold\n",
    "        hold = max(pre_hold, sold-prices[i-1])\n",
    "        sold = max(sold, pre_hold+prices[i-1]-fee)\n",
    "    return sold\n",
    "maxprofit2([1,3,2,8,4,9],2)\n"
   ]
  },
  {
   "cell_type": "code",
   "execution_count": 3,
   "metadata": {},
   "outputs": [],
   "source": [
    "#-------------leetcode 121----------------\n",
    "\"\"\"given price array which ith element is the price of day i. design an algorithm to find the maxi\n",
    "mum profit. you can complete most one transactions.you can not sell stock before you buy one.\"\"\"\n",
    "def maxProfit11(prices):\n",
    "    if len(prices)<2:\n",
    "        return 0\n",
    "    minprice, maxprofit = float('inf'), 0\n",
    "    for price in prices:\n",
    "        minprice = min(minprice, price)\n",
    "        maxprofit = max(maxprofit, price-minprice)\n",
    "    return maxprofit"
   ]
  },
  {
   "cell_type": "code",
   "execution_count": 4,
   "metadata": {},
   "outputs": [
    {
     "data": {
      "text/plain": [
       "5"
      ]
     },
     "execution_count": 4,
     "metadata": {},
     "output_type": "execute_result"
    }
   ],
   "source": [
    "#method 2 kadane algorithm localmax, globalmax\n",
    "def maxProfit12(prices):\n",
    "    if len(prices)< 2:\n",
    "        return 0\n",
    "    gain = [0 for _ in range(len(prices)-1)]\n",
    "    for i in range(len(gain)):\n",
    "        gain[i] = prices[i+1] - prices[i]\n",
    "    localmax, globalmax = 0, 0\n",
    "    for i in range(1, len(prices)):\n",
    "        localmax = max(0, localmax+gain[i-1])\n",
    "        globalmax = max(localmax, globalmax)\n",
    "    return globalmax\n",
    "maxProfit12([7,1,5,3,6,4])"
   ]
  },
  {
   "cell_type": "code",
   "execution_count": 5,
   "metadata": {},
   "outputs": [
    {
     "data": {
      "text/plain": [
       "7"
      ]
     },
     "execution_count": 5,
     "metadata": {},
     "output_type": "execute_result"
    }
   ],
   "source": [
    "#----------------leetcode 122------------\n",
    "\"\"\"given price array, find the best profit from algorithm. no limit of transaction times. must sell\n",
    "stock before buy again.\"\"\"\n",
    "def maxProfit21(prices):\n",
    "    if len(prices) <2:\n",
    "        return 0\n",
    "    profit = 0\n",
    "    for i in range(1,len(prices)):\n",
    "        if prices[i] > prices[i-1]:\n",
    "            profit += prices[i]-prices[i-1]\n",
    "    return profit\n",
    "maxProfit21([7,1,5,3,6,4])"
   ]
  },
  {
   "cell_type": "code",
   "execution_count": 10,
   "metadata": {},
   "outputs": [
    {
     "data": {
      "text/plain": [
       "6"
      ]
     },
     "execution_count": 10,
     "metadata": {},
     "output_type": "execute_result"
    }
   ],
   "source": [
    "#-----------leetcode 123 stock selling--------------\n",
    "\"\"\"given price array which ith element is the price of day i. design an algorithm to find the maxi\n",
    "mum profit. you may complete  at mosttwo transactions. cannot engage in multi transactions at the\n",
    "same day.\"\"\"\n",
    "# Kadane's algorithm \n",
    "def maxProfit31(prices):\n",
    "    if len(prices)<2:\n",
    "        return 0\n",
    "    n = len(prices)\n",
    "    localmax = [[0]*3 for _ in range(n)]\n",
    "    globalmax = [[0]*3 for _ in range(n)]\n",
    "    for i in range(1, n):\n",
    "        diff = prices[i] - prices[i-1]\n",
    "        for j in range(1,3):\n",
    "            localmax[i][j] = max(globalmax[i-1][j-1] + max(diff, 0), localmax[i-1][j]+diff)\n",
    "            globalmax[i][j] = max(localmax[i][j], globalmax[i-1][j])\n",
    "    return globalmax[n-1][2]\n",
    "maxProfit31([3,3,5,0,0,3,1,4])            "
   ]
  },
  {
   "cell_type": "code",
   "execution_count": 11,
   "metadata": {},
   "outputs": [],
   "source": [
    "# space optimize\n",
    "def maxProfit32(prices):\n",
    "    if len(prices)<2:\n",
    "        return 0\n",
    "    n = len(prices)\n",
    "    maxl = [0] *3\n",
    "    maxg = [0] * 3\n",
    "    for i in range(n-1):\n",
    "        diff = prices[i+1] - prices[i]\n",
    "        for j in range(2, 0, -1):\n",
    "            maxl[j] = max(maxg[j-1]+max(diff,0), maxl[j]+diff)\n",
    "            maxg[j] = max(maxg[j], maxl[j])\n",
    "    return maxg[2]"
   ]
  },
  {
   "cell_type": "code",
   "execution_count": 12,
   "metadata": {},
   "outputs": [],
   "source": [
    "#-------------leetcode 188---------\n",
    "\"\"\"given price array which ith element is the price of day i. design an algorithm to find the maxi\n",
    "mum profit. you may complete  at most k times transactions. cannot engage in multi transactions at the\n",
    "same day.\"\"\"\n",
    "def maxprofit4(prices, k):\n",
    "    if len(prices)<2:\n",
    "        return 0\n",
    "    maxl = [0]* (k+1)\n",
    "    maxg = [0]* (k+1)\n",
    "    for i in range(len(prices)-1):\n",
    "        diff = prices[i+1] - prices[i]\n",
    "        for j in range(k, 0, -1):\n",
    "            maxl[j] = max(maxg[j-1] + max(diff,0), maxl[j]+diff)\n",
    "            maxg[j] = max(maxg[j], maxl[j])\n",
    "    return maxg[k]"
   ]
  },
  {
   "cell_type": "code",
   "execution_count": 14,
   "metadata": {},
   "outputs": [],
   "source": [
    "# method 2 2D dp\n",
    "def maxprofit42(prices, k):\n",
    "    if len(prices)<2:\n",
    "        return 0\n",
    "    n = len(prices)\n",
    "    if k >= n /2:\n",
    "        return self.solvemax(prices, k)\n",
    "    maxl = [0]* (k+1)\n",
    "    maxg = [0]* (k+1)\n",
    "    for i in range(len(prices)-1):\n",
    "        diff = prices[i+1] - prices[i]\n",
    "        for j in range(k, 0, -1):\n",
    "            maxl[j] = max(maxg[j-1] + max(diff,0), maxl[j]+diff)\n",
    "            maxg[j] = max(maxg[j], maxl[j])\n",
    "    return maxg[k]\n",
    "def solvemax(self,prices, k):\n",
    "    maxprofit = 0\n",
    "    for i in range(1, len(prices)):\n",
    "        if prices[i] > prices[i-1]:\n",
    "            maxprofit += prices[i]-prices[i-1]\n",
    "    return maxprofit\n",
    "    "
   ]
  },
  {
   "cell_type": "markdown",
   "metadata": {},
   "source": [
    "## string edit distance"
   ]
  },
  {
   "cell_type": "code",
   "execution_count": 2,
   "metadata": {},
   "outputs": [],
   "source": [
    "#-----------leetcode 583--------------\n",
    "\"\"\"delete operation for two strings:given two strings, find the minimum number of steps required to make \n",
    "the strings same, where in each step you can delete one character in dither string.\"\"\"\n",
    "# dp lcs method find the lcs of two strings\n",
    "def minDistance(word1, word2):\n",
    "    m,n = len(word1), len(word2)\n",
    "    if m==0: return n\n",
    "    if n==0: return m\n",
    "    dp = [[0 for _ in range(n+1)] for _ in range(m+1)]\n",
    "    for i in range(1, m+1):\n",
    "        for j in range(1, n+1):\n",
    "            if word1[i-1] == word2[j-1]:\n",
    "                dp[i][j] = dp[i-1][j-1] +1\n",
    "            else:\n",
    "                dp[i][j] = max(dp[i-1][j], dp[i][j-1])\n",
    "    return m+n- 2*dp[m][n]    "
   ]
  },
  {
   "cell_type": "code",
   "execution_count": 3,
   "metadata": {},
   "outputs": [],
   "source": [
    "# method 2: dp edit distance\n",
    "def minDistance2(word1, word2):\n",
    "    m, n = len(word1), len(word2)\n",
    "    dp = [[0 for _ in range(n+1)] for _ in range(m+1)]\n",
    "    for i in range(m+1):\n",
    "        dp[i][0] = i\n",
    "    for j in range(n+1):\n",
    "        dp[0][j] = j\n",
    "    for i in range(1, m+1):\n",
    "        for j in range(1, n+1):\n",
    "            if word1[i-1] == word2[j-1]:\n",
    "                dp[i][j] = dp[i-1][j-1]\n",
    "            else:\n",
    "                dp[i][j] = min(dp[i-1][j], dp[i][j-1])+1\n",
    "    return dp[m][n]        "
   ]
  },
  {
   "cell_type": "code",
   "execution_count": 9,
   "metadata": {},
   "outputs": [
    {
     "data": {
      "text/plain": [
       "8"
      ]
     },
     "execution_count": 9,
     "metadata": {},
     "output_type": "execute_result"
    }
   ],
   "source": [
    "# method 3 dfs + memo\n",
    "def mindistance(word1, word2):\n",
    "    m,n = len(word1), len(word2)\n",
    "    memo = [[0 for _ in range(n+1)] for _ in range(m+1)]\n",
    "    \n",
    "    def dfs(word1, word2, p1, p2, memo):\n",
    "        if memo[p1][p2] !=0:\n",
    "            return memo[p1][p2]\n",
    "        n1, n2 = len(word1), len(word2)\n",
    "        if p1==n1 or p2 ==n2:\n",
    "            return n1-p1 +n2-p2\n",
    "        if word1[p1]==word2[p2]:\n",
    "            memo[p1][p2] = dfs(word1, word2, p1+1, p2+1, memo)\n",
    "        else:\n",
    "            memo[p1][p2] = 1+ min(dfs(word1,word2,p1+1,p2,memo), dfs(word1,word2,p1,p2+1,memo))\n",
    "        return memo[p1][p2]\n",
    "    return dfs(word1, word2, 0, 0, memo)\n",
    "mindistance('intention', 'execution')\n"
   ]
  },
  {
   "cell_type": "code",
   "execution_count": 12,
   "metadata": {},
   "outputs": [],
   "source": [
    "#-------------leetcode 72----------------\n",
    "\"\"\"edit distance:given two words, find the minimum number of opereations required to convert word1\n",
    " to word2. you can insert or delete or replace a character.\"\"\"\n",
    "def minDistance(word1, word2):\n",
    "    m, n = len(word1), len(word2)\n",
    "    dp = [[0 for _ in range(n+1)] for _ in range(m+1)]\n",
    "    for i in range(m+1):\n",
    "        dp[i][0] = i\n",
    "    for i in range(n+1):\n",
    "        dp[0][i] = i\n",
    "    for i in range(1, m+1):\n",
    "        for j in range(1, n+1):\n",
    "            if word1[i-1] == word2[j-1]:\n",
    "                dp[i][j] = dp[i-1][j-1]\n",
    "            else:\n",
    "                dp[i][j] = min(dp[i-1][j-1], dp[i-1][j], dp[i][j-1])+1\n",
    "    return dp[m][n]"
   ]
  },
  {
   "cell_type": "code",
   "execution_count": 14,
   "metadata": {},
   "outputs": [],
   "source": [
    "# method 2\n",
    "def minDistace(word1, word2):\n",
    "    def helper(i,j):\n",
    "        if i<0 or j<0:\n",
    "            return i+1+j+1\n",
    "        if (i,j) in memo:\n",
    "            return memo[(i,j)]\n",
    "        if word1[i] ==word2[j]:\n",
    "            result = helper(i-1,j-1)\n",
    "        else:\n",
    "            result = 1+ min(helper(i-1,j-1),\n",
    "                           helper(i,j-1),\n",
    "                           helper(i-1,j))\n",
    "        memo[(i,j)] = result\n",
    "        return result\n",
    "    memo = {}\n",
    "    return helper(len(word1)-1, len(word2)-1)"
   ]
  },
  {
   "cell_type": "code",
   "execution_count": 27,
   "metadata": {},
   "outputs": [
    {
     "data": {
      "text/plain": [
       "6"
      ]
     },
     "execution_count": 27,
     "metadata": {},
     "output_type": "execute_result"
    }
   ],
   "source": [
    "#-------------leetcode 650--------------\n",
    "\"\"\"2 keys keyboard: initially on anotepad only one charactor is present, you can perform two operation\n",
    "on this notepad for each step.1. copy all. 2.paste the charactor copied last time.\"\"\"\n",
    "# method 2 recursion time O(n*m)\n",
    "def minSteps2(n):\n",
    "    if n==1: return 0\n",
    "    res = n\n",
    "    for i in range(n-1, 1, -1):\n",
    "        if n % i ==0:\n",
    "            res = min(res, minSteps2(n//i)+i)\n",
    "    return res\n",
    "minSteps2(9)\n"
   ]
  },
  {
   "cell_type": "code",
   "execution_count": 32,
   "metadata": {},
   "outputs": [
    {
     "data": {
      "text/plain": [
       "6"
      ]
     },
     "execution_count": 32,
     "metadata": {},
     "output_type": "execute_result"
    }
   ],
   "source": [
    "# dp method time O(n**2)\n",
    "\n",
    "def minsteps(n):\n",
    "    dp = [0 for _ in range(n+1)]\n",
    "    h = int(math.sqrt(n))\n",
    "    for i in range(2, n+1):\n",
    "        dp[i] = i\n",
    "        for j in range(2, h+1):\n",
    "            if i % j ==0:\n",
    "                dp[i] = dp[j]+ dp[i//j]\n",
    "                break\n",
    "    return dp[n]\n",
    "minsteps(9)"
   ]
  },
  {
   "cell_type": "code",
   "execution_count": 28,
   "metadata": {},
   "outputs": [
    {
     "data": {
      "text/plain": [
       "5"
      ]
     },
     "execution_count": 28,
     "metadata": {},
     "output_type": "execute_result"
    }
   ],
   "source": [
    "# math: prime factors method time limit exceeded\n",
    "def minSteps(n):\n",
    "    if n <= 1:\n",
    "        return 0\n",
    "    for i in range(2, int(sqrt(n))+1):\n",
    "        if n % i ==0:\n",
    "            return i +minSteps(n//i)\n",
    "    return n"
   ]
  },
  {
   "cell_type": "code",
   "execution_count": null,
   "metadata": {},
   "outputs": [],
   "source": []
  }
 ],
 "metadata": {
  "kernelspec": {
   "display_name": "Python 3",
   "language": "python",
   "name": "python3"
  },
  "language_info": {
   "codemirror_mode": {
    "name": "ipython",
    "version": 3
   },
   "file_extension": ".py",
   "mimetype": "text/x-python",
   "name": "python",
   "nbconvert_exporter": "python",
   "pygments_lexer": "ipython3",
   "version": "3.7.4"
  }
 },
 "nbformat": 4,
 "nbformat_minor": 2
}
