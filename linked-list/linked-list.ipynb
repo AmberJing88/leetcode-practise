{
 "cells": [
  {
   "cell_type": "markdown",
   "metadata": {},
   "source": [
    "# leetcode problem solutions"
   ]
  },
  {
   "cell_type": "code",
   "execution_count": 1,
   "metadata": {},
   "outputs": [],
   "source": [
    "#--------------leetcode160-------------\n",
    "\"\"\"intersection of two linked list. find the node which is the intersection of two single linked list begins.\n",
    "O(n) time and O(1) space.\"\"\"\n",
    "\n",
    "class ListNode:\n",
    "    def __init__(self, x):\n",
    "        self.val = x\n",
    "        self.next = None\n",
    "        \n",
    "class solution:\n",
    "    def getIntersection(self, headA, headB):\n",
    "        if not headA or not headB:\n",
    "            return None\n",
    "        savedA, savedB = headA, headB  # record the head position of two lists\n",
    "        while headA != headB:  #not find the intersection (circle)\n",
    "            headA= savedB if not headA else headA.next\n",
    "            headB = savedA if not headB else headB.next\n",
    "            \n",
    "        return headA # return the start node of circle or None\n",
    "    \n"
   ]
  },
  {
   "cell_type": "code",
   "execution_count": null,
   "metadata": {},
   "outputs": [],
   "source": [
    "#-----------------leetcode206---------------\n",
    "\"\"\"reversed linked list\"\"\"\n"
   ]
  }
 ],
 "metadata": {
  "kernelspec": {
   "display_name": "Python 3",
   "language": "python",
   "name": "python3"
  },
  "language_info": {
   "codemirror_mode": {
    "name": "ipython",
    "version": 3
   },
   "file_extension": ".py",
   "mimetype": "text/x-python",
   "name": "python",
   "nbconvert_exporter": "python",
   "pygments_lexer": "ipython3",
   "version": "3.7.4"
  }
 },
 "nbformat": 4,
 "nbformat_minor": 2
}
