{
 "cells": [
  {
   "cell_type": "code",
   "execution_count": 12,
   "metadata": {},
   "outputs": [],
   "source": [
    "\"\"\"\n",
    "Leetcode241  recursion\n",
    "key: find out the sequence of numbers and operators\n",
    "\"\"\"\n",
    "class Solution:\n",
    "    def diffWaysToCompute(self, input: str) -> List[int]:\n",
    "        \n",
    "        if input == '': return None\n",
    "        # findout all digits and oprators\n",
    "        pointer = 0\n",
    "        parsed = []\n",
    "        \n",
    "        for i in range(len(input)):\n",
    "            if not input[i].isdigit():\n",
    "                parsed.append(int(input[pointer:i]))\n",
    "                parsed.append(input[i])\n",
    "                pointer =i+1\n",
    "        parsed.append(int(input[pointer:]))\n",
    "        \n",
    "        return self.diff(parsed, 0, len(parsed)-1, {})\n",
    "    \n",
    "    def diff(self, parsed, left, right, memo):\n",
    "        \n",
    "        if left == right:\n",
    "            return [parsed[left]]\n",
    "        if (left, right) in memo:\n",
    "            return memo[(left, right)]\n",
    "        \n",
    "        result = []\n",
    "        for i in range(left+1, right, 2): # loop all operators\n",
    "            \n",
    "            leftpart = self.diff(parsed, left, i-1, memo)\n",
    "            rightpart = self.diff(parsed, i+1, right, memo)\n",
    "            \n",
    "            for l in leftpart:\n",
    "                for r in rightpart:\n",
    "                    if parsed[i] == '+':\n",
    "                        result.append(l+r)\n",
    "                    if parsed[i] == '-':\n",
    "                        result.append(l-r)\n",
    "                    if parsed[i] == '*':\n",
    "                        result.append(l*r)\n",
    "        memo[(left, right)] = result\n",
    "        return result\n",
    "                        \n",
    "                        \n",
    "\n",
    "\n",
    "            "
   ]
  },
  {
   "cell_type": "code",
   "execution_count": null,
   "metadata": {},
   "outputs": [],
   "source": []
  },
  {
   "cell_type": "code",
   "execution_count": null,
   "metadata": {},
   "outputs": [],
   "source": []
  }
 ],
 "metadata": {
  "kernelspec": {
   "display_name": "Python 3",
   "language": "python",
   "name": "python3"
  },
  "language_info": {
   "codemirror_mode": {
    "name": "ipython",
    "version": 3
   },
   "file_extension": ".py",
   "mimetype": "text/x-python",
   "name": "python",
   "nbconvert_exporter": "python",
   "pygments_lexer": "ipython3",
   "version": "3.7.4"
  }
 },
 "nbformat": 4,
 "nbformat_minor": 2
}
