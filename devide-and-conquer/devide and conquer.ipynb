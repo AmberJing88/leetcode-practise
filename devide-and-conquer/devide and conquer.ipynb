{
 "cells": [
  {
   "cell_type": "markdown",
   "metadata": {},
   "source": [
    "# leetcode problem solutions"
   ]
  },
  {
   "cell_type": "code",
   "execution_count": 1,
   "metadata": {},
   "outputs": [],
   "source": [
    "#----------leetcode 241-------------\n",
    "\"\"\"different ways to add parentheses: given a string of numbers and operations, return all possi\n",
    "ble result from computing all the different possible ways to group numbers and operation. the valid\n",
    "operators are + and - and *.\"\"\"\n",
    "# devide and conquer\n",
    "class Solution:\n",
    "    def diffWaysToCompute(self, input):\n",
    "        if input == '': return None\n",
    "        pointer = 0\n",
    "        parsed = []\n",
    "        \n",
    "        for i in range(len(input)):\n",
    "            if not input[i].isdigit():\n",
    "                parsed.append(int(input[pointer:i]))\n",
    "                parsed.append(input[i])\n",
    "                pointer = i+1\n",
    "        parsed.append(int(input[pointer:]))\n",
    "        return self.diff(parsed, 0, len(parsed)-1, {})\n",
    "    \n",
    "    def diff(self, parsed, left, right, memo):\n",
    "        if left > right: return []\n",
    "        if left == right:\n",
    "            return [parsed[left]]\n",
    "        if (left, right) in memo:\n",
    "            return memo[(left, right)]\n",
    "        \n",
    "        result = []\n",
    "        for i in range(left+1, right, 2):\n",
    "            leftpart = self.diff(parsed, left, i-1, memo)\n",
    "            rightpart = self.diff(parsed, i+1, right, memo)\n",
    "            for l in leftpart:\n",
    "                for r in rightpart:\n",
    "                    if parsed[i]=='+':\n",
    "                        result.append(l+r)\n",
    "                    if parsed[i]=='-':\n",
    "                        result.append(l-r)\n",
    "                    if parsed[i]=='*':\n",
    "                        result.append(l*r)\n",
    "        memo[(left, right)] = result\n",
    "        return left\n",
    "            "
   ]
  },
  {
   "cell_type": "code",
   "execution_count": 3,
   "metadata": {},
   "outputs": [],
   "source": [
    "#-------------leetcode 95-----------\n",
    "\"\"\"unique binary search tree: given an integer n, generate all structurally unique BST that store\n",
    "values 1,2,..n.\"\"\"\n",
    "class TreeNode:\n",
    "    def __init__(self, val=0, left=None,right=None):\n",
    "        self.val = val\n",
    "        self.left = left\n",
    "        self.right = right\n",
    "        \n",
    "class Solution:\n",
    "    def generateTree(self, n):\n",
    "        if n <=0:\n",
    "            return []\n",
    "        return self.helper(1,n)\n",
    "    \n",
    "    def helper(self, start, end):\n",
    "        if start > end:\n",
    "            return [None]\n",
    "        resule = []\n",
    "\n",
    "        for i in range(start, end+1):\n",
    "            lefttree = self.helper(start, i-1)\n",
    "            righttree = self.helper(i+1, end)\n",
    "            for left in lefttree:\n",
    "                for right in righttree:\n",
    "                    root = TreeNode(i)\n",
    "                    root.left = left\n",
    "                    root.right = right\n",
    "                    result.append(root)\n",
    "        return result\n",
    "        \n",
    "        "
   ]
  },
  {
   "cell_type": "code",
   "execution_count": 1,
   "metadata": {},
   "outputs": [
    {
     "data": {
      "text/plain": [
       "2"
      ]
     },
     "execution_count": 1,
     "metadata": {},
     "output_type": "execute_result"
    }
   ],
   "source": [
    "#------------leetcod 91----------------\n",
    "\"\"\"decode ways: a message containing letters from a-z is veing encoded to numbers using the A-1,\n",
    "B-2, ..Z-26. given a non-empty string only digits, determine the total number of ways to decode.\n",
    "\"\"\"\n",
    "# greed method\n",
    "def numDecodings(s):\n",
    "    if s[0]=='0':\n",
    "        return 0\n",
    "    prev1 = 1\n",
    "    if s[0] !='0':\n",
    "        curr =1\n",
    "        prev2 = curr\n",
    "    for i in range(1,len(s)):\n",
    "        curr = 0\n",
    "        if s[i] !='0':\n",
    "            curr += prev2\n",
    "        if 10 <= int(s[i-1:i+1]) <= 26:\n",
    "            curr += prev1\n",
    "        prev1 = prev2\n",
    "        prev2 = curr\n",
    "    return curr\n",
    "numDecodings('12')            \n",
    "    "
   ]
  },
  {
   "cell_type": "code",
   "execution_count": 2,
   "metadata": {},
   "outputs": [
    {
     "data": {
      "text/plain": [
       "3"
      ]
     },
     "execution_count": 2,
     "metadata": {},
     "output_type": "execute_result"
    }
   ],
   "source": [
    "# dp method\n",
    "def numdecode(s):\n",
    "    if len(s)==0 or s[0]=='0':\n",
    "        return 0\n",
    "    if len(s)==1:\n",
    "        return 1\n",
    "    dp = [0 for _ in range(len(s)+1)]\n",
    "    dp[0], dp[1] = 1, 1\n",
    "    for i in range(1, len(s)):\n",
    "        if s[i] != '0':\n",
    "            dp[i+1] += dp[i]\n",
    "        if 10 <= int(s[i-1:i+1]) <= 26:\n",
    "            dp[i+1] += dp[i-1]\n",
    "    return dp[-1]\n",
    "numdecode('123')"
   ]
  },
  {
   "cell_type": "code",
   "execution_count": 4,
   "metadata": {},
   "outputs": [
    {
     "data": {
      "text/plain": [
       "3"
      ]
     },
     "execution_count": 4,
     "metadata": {},
     "output_type": "execute_result"
    }
   ],
   "source": [
    "# devide and conquer\n",
    "def numdecode2(s):\n",
    "    def dfs(s, idx):\n",
    "        if idx >= len(s):\n",
    "            return 1\n",
    "        if cache[idx] != -1:\n",
    "            return cache[idx]\n",
    "        n = 0\n",
    "        for i in range(idx, len(s)):\n",
    "            if i - idx <3:\n",
    "                if s[idx] !='0' and int(s[idx:i+1]) <27:\n",
    "                    n += dfs(s,i+1)\n",
    "        cache[idx] = n\n",
    "        return n\n",
    "    cache = [-1 for _ in range(len(s))]\n",
    "    return dfs(s, 0)\n",
    "numdecode2('123')"
   ]
  },
  {
   "cell_type": "code",
   "execution_count": null,
   "metadata": {},
   "outputs": [],
   "source": [
    "#------------leetcode 96------------------\n",
    "\"\"\"\"\"\""
   ]
  },
  {
   "cell_type": "code",
   "execution_count": null,
   "metadata": {},
   "outputs": [],
   "source": [
    "#------------leetcode 247----------------\n",
    "\"\"\"\"\"\""
   ]
  }
 ],
 "metadata": {
  "kernelspec": {
   "display_name": "Python 3",
   "language": "python",
   "name": "python3"
  },
  "language_info": {
   "codemirror_mode": {
    "name": "ipython",
    "version": 3
   },
   "file_extension": ".py",
   "mimetype": "text/x-python",
   "name": "python",
   "nbconvert_exporter": "python",
   "pygments_lexer": "ipython3",
   "version": "3.7.4"
  }
 },
 "nbformat": 4,
 "nbformat_minor": 2
}
