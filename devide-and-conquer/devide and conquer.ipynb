{
 "cells": [
  {
   "cell_type": "markdown",
   "metadata": {},
   "source": [
    "# leetcode problem solutions"
   ]
  },
  {
   "cell_type": "code",
   "execution_count": 1,
   "metadata": {},
   "outputs": [],
   "source": [
    "#----------leetcode 241-------------\n",
    "\"\"\"different ways to add parentheses: given a string of numbers and operations, return all possi\n",
    "ble result from computing all the different possible ways to group numbers and operation. the valid\n",
    "operators are + and - and *.\"\"\"\n",
    "# devide and conquer\n",
    "class Solution:\n",
    "    def diffWaysToCompute(self, input):\n",
    "        if input == '': return None\n",
    "        pointer = 0\n",
    "        parsed = []\n",
    "        \n",
    "        for i in range(len(input)):\n",
    "            if not input[i].isdigit():\n",
    "                parsed.append(int(input[pointer:i]))\n",
    "                parsed.append(input[i])\n",
    "                pointer = i+1\n",
    "        parsed.append(int(input[pointer:]))\n",
    "        return self.diff(parsed, 0, len(parsed)-1, {})\n",
    "    \n",
    "    def diff(self, parsed, left, right, memo):\n",
    "        if left > right: return []\n",
    "        if left == right:\n",
    "            return [parsed[left]]\n",
    "        if (left, right) in memo:\n",
    "            return memo[(left, right)]\n",
    "        \n",
    "        result = []\n",
    "        for i in range(left+1, right, 2):\n",
    "            leftpart = self.diff(parsed, left, i-1, memo)\n",
    "            rightpart = self.diff(parsed, i+1, right, memo)\n",
    "            for l in leftpart:\n",
    "                for r in rightpart:\n",
    "                    if parsed[i]=='+':\n",
    "                        result.append(l+r)\n",
    "                    if parsed[i]=='-':\n",
    "                        result.append(l-r)\n",
    "                    if parsed[i]=='*':\n",
    "                        result.append(l*r)\n",
    "        memo[(left, right)] = result\n",
    "        return left\n",
    "            "
   ]
  },
  {
   "cell_type": "code",
   "execution_count": null,
   "metadata": {},
   "outputs": [],
   "source": []
  }
 ],
 "metadata": {
  "kernelspec": {
   "display_name": "Python 3",
   "language": "python",
   "name": "python3"
  },
  "language_info": {
   "codemirror_mode": {
    "name": "ipython",
    "version": 3
   },
   "file_extension": ".py",
   "mimetype": "text/x-python",
   "name": "python",
   "nbconvert_exporter": "python",
   "pygments_lexer": "ipython3",
   "version": "3.7.4"
  }
 },
 "nbformat": 4,
 "nbformat_minor": 2
}
