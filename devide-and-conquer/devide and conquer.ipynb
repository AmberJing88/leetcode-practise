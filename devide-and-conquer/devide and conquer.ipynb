{
 "cells": [
  {
   "cell_type": "markdown",
   "metadata": {},
   "source": [
    "# leetcode problem solutions"
   ]
  },
  {
   "cell_type": "code",
   "execution_count": 1,
   "metadata": {},
   "outputs": [],
   "source": [
    "#----------leetcode 241-------------\n",
    "\"\"\"different ways to add parentheses: given a string of numbers and operations, return all possi\n",
    "ble result from computing all the different possible ways to group numbers and operation. the valid\n",
    "operators are + and - and *.\"\"\"\n",
    "# devide and conquer\n",
    "class Solution:\n",
    "    def diffWaysToCompute(self, input):\n",
    "        if input == '': return None\n",
    "        pointer = 0\n",
    "        parsed = []\n",
    "        \n",
    "        for i in range(len(input)):\n",
    "            if not input[i].isdigit():\n",
    "                parsed.append(int(input[pointer:i]))\n",
    "                parsed.append(input[i])\n",
    "                pointer = i+1\n",
    "        parsed.append(int(input[pointer:]))\n",
    "        return self.diff(parsed, 0, len(parsed)-1, {})\n",
    "    \n",
    "    def diff(self, parsed, left, right, memo):\n",
    "        if left > right: return []\n",
    "        if left == right:\n",
    "            return [parsed[left]]\n",
    "        if (left, right) in memo:\n",
    "            return memo[(left, right)]\n",
    "        \n",
    "        result = []\n",
    "        for i in range(left+1, right, 2):\n",
    "            leftpart = self.diff(parsed, left, i-1, memo)\n",
    "            rightpart = self.diff(parsed, i+1, right, memo)\n",
    "            for l in leftpart:\n",
    "                for r in rightpart:\n",
    "                    if parsed[i]=='+':\n",
    "                        result.append(l+r)\n",
    "                    if parsed[i]=='-':\n",
    "                        result.append(l-r)\n",
    "                    if parsed[i]=='*':\n",
    "                        result.append(l*r)\n",
    "        memo[(left, right)] = result\n",
    "        return left\n",
    "            "
   ]
  },
  {
   "cell_type": "code",
   "execution_count": 3,
   "metadata": {},
   "outputs": [],
   "source": [
    "#-------------leetcode 95-----------\n",
    "\"\"\"unique binary search tree: given an integer n, generate all structurally unique BST that store\n",
    "values 1,2,..n.\"\"\"\n",
    "class TreeNode:\n",
    "    def __init__(self, val=0, left=None,right=None):\n",
    "        self.val = val\n",
    "        self.left = left\n",
    "        self.right = right\n",
    "        \n",
    "class Solution:\n",
    "    def generateTree(self, n):\n",
    "        if n <=0:\n",
    "            return []\n",
    "        return self.helper(1,n)\n",
    "    \n",
    "    def helper(self, start, end):\n",
    "        if start > end:\n",
    "            return [None]\n",
    "        resule = []\n",
    "\n",
    "        for i in range(start, end+1):\n",
    "            lefttree = self.helper(start, i-1)\n",
    "            righttree = self.helper(i+1, end)\n",
    "            for left in lefttree:\n",
    "                for right in righttree:\n",
    "                    root = TreeNode(i)\n",
    "                    root.left = left\n",
    "                    root.right = right\n",
    "                    result.append(root)\n",
    "        return result\n",
    "        \n",
    "        "
   ]
  },
  {
   "cell_type": "code",
   "execution_count": 1,
   "metadata": {},
   "outputs": [
    {
     "data": {
      "text/plain": [
       "2"
      ]
     },
     "execution_count": 1,
     "metadata": {},
     "output_type": "execute_result"
    }
   ],
   "source": [
    "#------------leetcod 91----------------\n",
    "\"\"\"decode ways: a message containing letters from a-z is veing encoded to numbers using the A-1,\n",
    "B-2, ..Z-26. given a non-empty string only digits, determine the total number of ways to decode.\n",
    "\"\"\"\n",
    "# greed method\n",
    "def numDecodings(s):\n",
    "    if s[0]=='0':\n",
    "        return 0\n",
    "    prev1 = 1\n",
    "    if s[0] !='0':\n",
    "        curr =1\n",
    "        prev2 = curr\n",
    "    for i in range(1,len(s)):\n",
    "        curr = 0\n",
    "        if s[i] !='0':\n",
    "            curr += prev2\n",
    "        if 10 <= int(s[i-1:i+1]) <= 26:\n",
    "            curr += prev1\n",
    "        prev1 = prev2\n",
    "        prev2 = curr\n",
    "    return curr\n",
    "numDecodings('12')            \n",
    "    "
   ]
  },
  {
   "cell_type": "code",
   "execution_count": 2,
   "metadata": {},
   "outputs": [
    {
     "data": {
      "text/plain": [
       "3"
      ]
     },
     "execution_count": 2,
     "metadata": {},
     "output_type": "execute_result"
    }
   ],
   "source": [
    "# dp method\n",
    "def numdecode(s):\n",
    "    if len(s)==0 or s[0]=='0':\n",
    "        return 0\n",
    "    if len(s)==1:\n",
    "        return 1\n",
    "    dp = [0 for _ in range(len(s)+1)]\n",
    "    dp[0], dp[1] = 1, 1\n",
    "    for i in range(1, len(s)):\n",
    "        if s[i] != '0':\n",
    "            dp[i+1] += dp[i]\n",
    "        if 10 <= int(s[i-1:i+1]) <= 26:\n",
    "            dp[i+1] += dp[i-1]\n",
    "    return dp[-1]\n",
    "numdecode('123')"
   ]
  },
  {
   "cell_type": "code",
   "execution_count": 11,
   "metadata": {},
   "outputs": [
    {
     "data": {
      "text/plain": [
       "3"
      ]
     },
     "execution_count": 11,
     "metadata": {},
     "output_type": "execute_result"
    }
   ],
   "source": [
    "# devide and conquer\n",
    "def numdecode2(s):\n",
    "    memo = {}\n",
    "    def helper(s, memo):\n",
    "        if len(s) ==0:\n",
    "            return 1\n",
    "        if s in memo:\n",
    "            return memo[s]\n",
    "        takeone, taketwo = 0,0\n",
    "        if 1<= int(s[:1]) <=9:\n",
    "            takeone = helper(s[1:],memo)\n",
    "        if 10 <= int(s[:2]) <= 26:\n",
    "            taketwo = helper(s[2:], memo)\n",
    "        memo[s] = takeone + taketwo\n",
    "        return memo[s]\n",
    "    \n",
    "        \n",
    "    return helper(s, memo)\n",
    "numdecode2('123')"
   ]
  },
  {
   "cell_type": "code",
   "execution_count": 12,
   "metadata": {},
   "outputs": [],
   "source": [
    "#------------leetcode 96------------------\n",
    "\"\"\"unique BST: given n, how manystructurally unique BSTs that store values  1..n?\"\"\"\n",
    "# math method: Catalen Numbers\n",
    "def NumTrees(n):\n",
    "    res = 1\n",
    "    if n <= 1: return 1\n",
    "    for i in range(n+1, 2*n+1):\n",
    "        res = res*i /(i-n)\n",
    "    return int(res/(n+1))\n",
    "    "
   ]
  },
  {
   "cell_type": "code",
   "execution_count": 13,
   "metadata": {},
   "outputs": [
    {
     "data": {
      "text/plain": [
       "5"
      ]
     },
     "execution_count": 13,
     "metadata": {},
     "output_type": "execute_result"
    }
   ],
   "source": [
    "# dp method\n",
    "def numtrees(n):\n",
    "    dp = [0 for _ in range(n+1)]\n",
    "    dp[0], dp[1] = 1, 1\n",
    "    for i in range(2, n+1):\n",
    "        for j in range(i):\n",
    "            dp[i] += dp[j] * dp[i-j-1]\n",
    "    return dp[n]\n",
    "numtrees(3)"
   ]
  },
  {
   "cell_type": "code",
   "execution_count": 16,
   "metadata": {},
   "outputs": [
    {
     "data": {
      "text/plain": [
       "14"
      ]
     },
     "execution_count": 16,
     "metadata": {},
     "output_type": "execute_result"
    }
   ],
   "source": [
    "# dfs method\n",
    "def numTree(n):\n",
    "    memo = [-1 for _ in range(n+1)]\n",
    "    \n",
    "    def helper(n, memo):\n",
    "        if n <= 1:\n",
    "            return 1\n",
    "        if memo[n] != -1:\n",
    "            return memo[n]\n",
    "        count = 0\n",
    "        for i in range(1, n+1):\n",
    "            count += helper(i-1, memo) * helper(n-i, memo)\n",
    "        memo[n] = count\n",
    "        return count\n",
    "    return helper(n, memo)\n",
    "numTree(4)\n"
   ]
  },
  {
   "cell_type": "code",
   "execution_count": 1,
   "metadata": {},
   "outputs": [
    {
     "data": {
      "text/plain": [
       "['101',\n",
       " '609',\n",
       " '808',\n",
       " '906',\n",
       " '111',\n",
       " '619',\n",
       " '818',\n",
       " '916',\n",
       " '181',\n",
       " '689',\n",
       " '888',\n",
       " '986']"
      ]
     },
     "execution_count": 1,
     "metadata": {},
     "output_type": "execute_result"
    }
   ],
   "source": [
    "#------------leetcode 247----------------\n",
    "\"\"\"strobogrammatic number II: a number looks like the same when rotated 180 degree(11, 69, 96, 88\n",
    "find all strobogrammatic numbers that are of length =n. \"\"\"\n",
    "def findstrobogrammatic(n):\n",
    "    def find(m, n):\n",
    "        if m==0:\n",
    "            return []\n",
    "        if m==1:\n",
    "            return ['0','1','8']\n",
    "        t = find(m-2, n)\n",
    "        res = []\n",
    "        for a in t:\n",
    "            if m!=n:\n",
    "                res.append('0'+a+'0')\n",
    "            res.append('1'+a+'1')\n",
    "            res.append('6'+a+'9')\n",
    "            res.append('8'+a+'8')\n",
    "            res.append('9'+a+'6')\n",
    "        return res\n",
    "    return find(n,n)\n",
    "findstrobogrammatic(3)\n",
    "        "
   ]
  },
  {
   "cell_type": "code",
   "execution_count": 4,
   "metadata": {},
   "outputs": [
    {
     "data": {
      "text/plain": [
       "['101',\n",
       " '609',\n",
       " '808',\n",
       " '906',\n",
       " '111',\n",
       " '619',\n",
       " '818',\n",
       " '916',\n",
       " '181',\n",
       " '689',\n",
       " '888',\n",
       " '986']"
      ]
     },
     "execution_count": 4,
     "metadata": {},
     "output_type": "execute_result"
    }
   ],
   "source": [
    "# iteration\n",
    "def findstrobogrammatic2(n):\n",
    "    if n <=0:\n",
    "        return ['']\n",
    "    if n %2 ==1:\n",
    "        result = ['0','1','8']\n",
    "    else:\n",
    "        result = ['']\n",
    "    strobo = {'0':'0','1':'1','6':'9','8':'8','9':'6'}\n",
    "    for i in range(n//2):\n",
    "        results = [c+r+strobo[c] for r in result for c in strobo]\n",
    "    return [res for res in results if res[0] !='0' or n==1]\n",
    "findstrobogrammatic2(3)"
   ]
  }
 ],
 "metadata": {
  "kernelspec": {
   "display_name": "Python 3",
   "language": "python",
   "name": "python3"
  },
  "language_info": {
   "codemirror_mode": {
    "name": "ipython",
    "version": 3
   },
   "file_extension": ".py",
   "mimetype": "text/x-python",
   "name": "python",
   "nbconvert_exporter": "python",
   "pygments_lexer": "ipython3",
   "version": "3.7.4"
  }
 },
 "nbformat": 4,
 "nbformat_minor": 2
}
