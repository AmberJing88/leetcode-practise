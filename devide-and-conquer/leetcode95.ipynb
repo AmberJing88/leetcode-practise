{
 "cells": [
  {
   "cell_type": "code",
   "execution_count": 12,
   "metadata": {},
   "outputs": [],
   "source": [
    "\"\"\"\n",
    "Leetcode95  recursion\n",
    "key: same as leetcode96\n",
    "\"\"\"\n",
    "class TreeNode:\n",
    "    def __init__(self, val=0, left=None, right=None):\n",
    "        self.val = val\n",
    "        self.left = left\n",
    "        self.right = right\n",
    "class Solution:\n",
    "    def generateTrees(self, n: int) -> List[TreeNode]:\n",
    "        if n <= 0 :\n",
    "            return []\n",
    "        \n",
    "        return self.helper(1, n)\n",
    "    \n",
    "    def helper(self, start, end):\n",
    "        \n",
    "        if start > end:\n",
    "            return [None]\n",
    "        result = []\n",
    "        for i in range(start, end+1):\n",
    "            \n",
    "            lefttrees = self.helper(start, i-1)\n",
    "            righttrees = self.helper(i+1, end)\n",
    "            \n",
    "            for left in lefttrees:\n",
    "                for right in righttrees:\n",
    "                    root = TreeNode(i)\n",
    "                    root.left = left\n",
    "                    root.right = right\n",
    "                    result.append(root)\n",
    "                    \n",
    "        return result\n",
    "                        \n",
    "\n",
    "\n",
    "            "
   ]
  },
  {
   "cell_type": "code",
   "execution_count": null,
   "metadata": {},
   "outputs": [],
   "source": []
  }
 ],
 "metadata": {
  "kernelspec": {
   "display_name": "Python 3",
   "language": "python",
   "name": "python3"
  },
  "language_info": {
   "codemirror_mode": {
    "name": "ipython",
    "version": 3
   },
   "file_extension": ".py",
   "mimetype": "text/x-python",
   "name": "python",
   "nbconvert_exporter": "python",
   "pygments_lexer": "ipython3",
   "version": "3.7.4"
  }
 },
 "nbformat": 4,
 "nbformat_minor": 2
}
