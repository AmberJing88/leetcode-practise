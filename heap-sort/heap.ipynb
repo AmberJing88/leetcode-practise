{
 "cells": [
  {
   "cell_type": "markdown",
   "metadata": {},
   "source": [
    "# leetcode problem solutions"
   ]
  },
  {
   "cell_type": "code",
   "execution_count": 3,
   "metadata": {},
   "outputs": [
    {
     "data": {
      "text/plain": [
       "'wrong input'"
      ]
     },
     "execution_count": 3,
     "metadata": {},
     "output_type": "execute_result"
    }
   ],
   "source": [
    "#------------leetcode 215--------------\n",
    "\"\"\"find the kth largest element in an unsorted array.\"\"\"\n",
    "def findKthlargest(nums,k):\n",
    "    if not nums or not k or k>len(nums):\n",
    "        return \"wrong input\"\n",
    "    h = []\n",
    "    for i in range(k):\n",
    "        heapq.heappush(h, nums[i])\n",
    "    for num in nums[k:]:\n",
    "        if num > h[0]:\n",
    "            heapq.heappushpop(h, num)\n",
    "    return h[0]\n",
    "findKthlargest([1,2,3],5)        "
   ]
  },
  {
   "cell_type": "code",
   "execution_count": 5,
   "metadata": {},
   "outputs": [],
   "source": [
    "#-------------leetcode 703-------------\n",
    "\"\"\"design a class to find the kth larget element in a stream\"\"\"\n",
    "class KthLargest:\n",
    "    def __init__(self, k, nums):\n",
    "        heapq.heapify(nums)\n",
    "        while len(nums) > k:\n",
    "            heapq.heappop(nums)\n",
    "        self.k = k\n",
    "        self.nums = nums\n",
    "        \n",
    "    def add(self, val):\n",
    "        if len(self.nums) ==self.k and val <= self.nums[0]:\n",
    "            return self.nums[0]\n",
    "        heapq.heappush(self.nums, val)\n",
    "        if len(self.nums) > self.k:\n",
    "            heapq.heappop(self.nums)\n",
    "        return self.nums[0]"
   ]
  },
  {
   "cell_type": "code",
   "execution_count": null,
   "metadata": {},
   "outputs": [],
   "source": []
  }
 ],
 "metadata": {
  "kernelspec": {
   "display_name": "Python 3",
   "language": "python",
   "name": "python3"
  },
  "language_info": {
   "codemirror_mode": {
    "name": "ipython",
    "version": 3
   },
   "file_extension": ".py",
   "mimetype": "text/x-python",
   "name": "python",
   "nbconvert_exporter": "python",
   "pygments_lexer": "ipython3",
   "version": "3.7.4"
  }
 },
 "nbformat": 4,
 "nbformat_minor": 2
}
