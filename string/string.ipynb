{
 "cells": [
  {
   "cell_type": "markdown",
   "metadata": {},
   "source": [
    "# leetcode problem solutions"
   ]
  },
  {
   "cell_type": "code",
   "execution_count": 3,
   "metadata": {},
   "outputs": [],
   "source": [
    "#------------leetcode 295----------------\n",
    "\"\"\"find the median from data stream: median is the middle value in an ordered integer list. if \n",
    "the size is even, there is no middle value. return the median of the two middle values.\"\"\"\n",
    "# two heaps method: max-top for lower part, min-top for higher part Time:O(n) Space:O(n)\n",
    "from heapq import *\n",
    "class MedianFinder:\n",
    "    def __init__(self):\n",
    "        self.heaps = [], []\n",
    "        \n",
    "    def addNum(self, num):\n",
    "        small, large = self.heaps\n",
    "        heappush(small, -heappushpop(large, num))\n",
    "        if len(large) < len(small):\n",
    "            heappush(large, _heappop(small))\n",
    "            \n",
    "    def findMedian(self):\n",
    "        small, large = self.heaps\n",
    "        if len(large) > len(small):\n",
    "            return float(large[0])\n",
    "        return (large[0] - small[0]) /2.0\n",
    "        "
   ]
  },
  {
   "cell_type": "code",
   "execution_count": null,
   "metadata": {},
   "outputs": [],
   "source": [
    "# two pointers method\n",
    "class MedianFinder:\n",
    "    def __init__(self):\n",
    "        "
   ]
  },
  {
   "cell_type": "markdown",
   "metadata": {},
   "source": [
    "## string"
   ]
  },
  {
   "cell_type": "code",
   "execution_count": null,
   "metadata": {},
   "outputs": [],
   "source": [
    "#-----------programming 3.1-------------\n",
    "\"\"\"compare to strings s1 and s2 check if s2 is substring of s1 \"\"\"\n",
    "# BM algorithm\n",
    "def substring(s1, s2):\n",
    "    if not s1:\n",
    "        return False\n",
    "    if not s2:\n",
    "        return True\n",
    "    s = s1+s1\n",
    "    \n",
    "    \n",
    "    \n",
    "    "
   ]
  },
  {
   "cell_type": "code",
   "execution_count": 6,
   "metadata": {},
   "outputs": [
    {
     "data": {
      "text/plain": [
       "'123abcd'"
      ]
     },
     "execution_count": 6,
     "metadata": {},
     "output_type": "execute_result"
    }
   ],
   "source": [
    "#-----------programming 2.17----------\n",
    "\"\"\"move the elements in a string for k steps\"\"\"\n",
    "def movesteps(s, k):\n",
    "    def reversestring(s):\n",
    "        n = len(s)\n",
    "        res = ''\n",
    "        for i in range(n):\n",
    "            res += s[n-1-i]\n",
    "        return res\n",
    "    \n",
    "    sub1 = reversestring(s[:k+1])\n",
    "    sub2 = reversestring(s[k+1:])\n",
    "    return reversestring(sub1+sub2)\n",
    "movesteps('abcd123',3)   \n",
    "        "
   ]
  },
  {
   "cell_type": "code",
   "execution_count": 9,
   "metadata": {},
   "outputs": [
    {
     "data": {
      "text/plain": [
       "True"
      ]
     },
     "execution_count": 9,
     "metadata": {},
     "output_type": "execute_result"
    }
   ],
   "source": [
    "#-----------leetcode 242----------------\n",
    "\"\"\"valid anagram: given two strings, the frequency of letters in two strings are same.\"\"\"\n",
    "from collections import Counter\n",
    "def isAnagram(s, t):\n",
    "    return Counter(s) == Counter(t)\n",
    "isAnagram('anagram','nagaram')\n"
   ]
  },
  {
   "cell_type": "code",
   "execution_count": 1,
   "metadata": {},
   "outputs": [
    {
     "data": {
      "text/plain": [
       "7"
      ]
     },
     "execution_count": 1,
     "metadata": {},
     "output_type": "execute_result"
    }
   ],
   "source": [
    "#-----------leetcode 409-----------\n",
    "\"\"\"longest palindrome:given a string which consists of lower or uppercase letters, find the \n",
    "length of th longest palindromes that can be built those letters\"\"\"\n",
    "from collections import defaultdict\n",
    "def longestpalindrome(s):\n",
    "    if not s or len(s) ==0:\n",
    "        return 0\n",
    "    d = defaultdict(int)\n",
    "    for c in s:\n",
    "        d[c] +=1\n",
    "    res = 0\n",
    "    for c in d:\n",
    "        res += d[c] // 2 * 2\n",
    "        if res % 2 ==0 and d[c] %2 ==1:\n",
    "            res += 1\n",
    "    return res\n",
    "longestpalindrome('sabccccdd')"
   ]
  },
  {
   "cell_type": "code",
   "execution_count": 3,
   "metadata": {},
   "outputs": [
    {
     "data": {
      "text/plain": [
       "7"
      ]
     },
     "execution_count": 3,
     "metadata": {},
     "output_type": "execute_result"
    }
   ],
   "source": [
    "# method2 counter\n",
    "from collections import Counter\n",
    "def longest(s):\n",
    "    res = 0\n",
    "    for v in Counter(s).values():\n",
    "        res += v // 2 *2\n",
    "        if res %2 ==0 and v %2 ==1:\n",
    "            res += 1\n",
    "    return res\n",
    "longest('sabccccdd')"
   ]
  },
  {
   "cell_type": "code",
   "execution_count": 4,
   "metadata": {},
   "outputs": [],
   "source": [
    "#--------------leetcode 205-------------\n",
    "\"\"\"isomorphic strings: the characotors in s can be replaced to t, s and t are isomorphic.\"\"\"\n",
    "def isIsomorphic(s, t):\n",
    "    d1, d2 = {}, {}\n",
    "    for i, val in enumerate(s):\n",
    "        d1[val] = d1.get(val, []) +[i]\n",
    "    for i, val in enumerate(t):\n",
    "        d2[val] = d2.get(val, []) +[i]\n",
    "    return sorted(d1.values()) == sorted(d2.values())\n",
    "def isIso2(s, t):\n",
    "    d1, d2 = [[] for _ in range(256)], [[] for _ in range(256)]\n",
    "    for i, val in enumerate(s):\n",
    "        d1[ord(val)].append(i)\n",
    "    for i, val in enumerate(t):\n",
    "        d2[ord(val)].append(t)\n",
    "    return sorted(d1) == sorted(d2)\n",
    "def isIso3(s, t):\n",
    "    return len(set(zip(s, t))) == len(set(s)) == len(set(t))"
   ]
  },
  {
   "cell_type": "code",
   "execution_count": 6,
   "metadata": {},
   "outputs": [],
   "source": [
    "def isIso4(s, t):\n",
    "    return [s.find(i) for i in s] == [t.find(i) for i in t]\n",
    "\n",
    "def isIso5(s, t):\n",
    "    d1, d2 = [0 for _ in range(256)], [0 for _ in range(256)]\n",
    "    for i in range(len(s)):\n",
    "        if d1[ord(s[i])] != d2[ord(t[i])]:\n",
    "            return False\n",
    "        d1[ord(s[i])] = i+1\n",
    "        d2[ord(t[i])] = i+1\n",
    "    return True"
   ]
  },
  {
   "cell_type": "code",
   "execution_count": null,
   "metadata": {},
   "outputs": [],
   "source": []
  }
 ],
 "metadata": {
  "kernelspec": {
   "display_name": "Python 3",
   "language": "python",
   "name": "python3"
  },
  "language_info": {
   "codemirror_mode": {
    "name": "ipython",
    "version": 3
   },
   "file_extension": ".py",
   "mimetype": "text/x-python",
   "name": "python",
   "nbconvert_exporter": "python",
   "pygments_lexer": "ipython3",
   "version": "3.7.4"
  }
 },
 "nbformat": 4,
 "nbformat_minor": 2
}
