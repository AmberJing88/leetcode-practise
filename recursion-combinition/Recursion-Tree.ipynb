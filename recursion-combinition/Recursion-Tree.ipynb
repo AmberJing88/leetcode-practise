{
 "cells": [
  {
   "cell_type": "markdown",
   "metadata": {},
   "source": [
    "# leetcode problem solutions"
   ]
  },
  {
   "cell_type": "code",
   "execution_count": 11,
   "metadata": {},
   "outputs": [
    {
     "data": {
      "text/plain": [
       "13"
      ]
     },
     "execution_count": 11,
     "metadata": {},
     "output_type": "execute_result"
    }
   ],
   "source": [
    "#-----------leetcode 70----------------\n",
    "\"\"\"climb n steps stairs: each time climb 1 or 2 steps. in how many distinct ways\n",
    "can you climb to the top?\"\"\"\n",
    "# recursion method with memo to save the duplacates computing time: O(n) Space: O(n)\n",
    "def climbStairs(n):\n",
    "    if n == 0: return 0\n",
    "    if n == 1: return 1\n",
    "    memo = [0] * n\n",
    "    \n",
    "    def climb(i, n, memo):\n",
    "        if i > n:\n",
    "            return 0\n",
    "        if i == n:\n",
    "            return 1\n",
    "        if memo[i] >0:\n",
    "            return memo[i]\n",
    "        memo[i] = climb(i+1, n, memo) + climb(i+2, n, memo)\n",
    "        return memo[i]\n",
    "    return climb(0, n, memo)\n",
    "\n",
    "climbStairs(6)"
   ]
  },
  {
   "cell_type": "code",
   "execution_count": 10,
   "metadata": {},
   "outputs": [
    {
     "data": {
      "text/plain": [
       "13"
      ]
     },
     "execution_count": 10,
     "metadata": {},
     "output_type": "execute_result"
    }
   ],
   "source": [
    "# Dynamic Programming method Time: O(n) space: O(1)\n",
    "def climbStairs2(n):\n",
    "    a, b = 1, 1\n",
    "    \n",
    "    for _ in range(n):\n",
    "        a, b = b, a+b\n",
    "    return a\n",
    "\n",
    "climbStairs2(6)\n",
    "         \n",
    "        "
   ]
  },
  {
   "cell_type": "code",
   "execution_count": 21,
   "metadata": {},
   "outputs": [
    {
     "data": {
      "text/plain": [
       "['((()))', '(()())', '(())()', '()(())', '()()()']"
      ]
     },
     "execution_count": 21,
     "metadata": {},
     "output_type": "execute_result"
    }
   ],
   "source": [
    "#-------------leetcode 22-------------------\n",
    "\"\"\"given n pairs of parenthese, generate all well-formed parenthese\"\"\"\n",
    "#recursion method Time: \n",
    "\n",
    "def generateParenthese(n):\n",
    "    if n == 0:\n",
    "        return ''\n",
    "    res = []\n",
    "    \n",
    "    def generate(n, l, r, s):\n",
    "        if l ==n and r == n:\n",
    "            res.append(s)\n",
    "            return \n",
    "        if l < n:\n",
    "            generate(n, l+1, r, s+'(')\n",
    "        if r < l:\n",
    "            generate(n, l, r+1, s+')')\n",
    "            \n",
    "    generate(n,0,0,\"\")\n",
    "    return res\n",
    "\n",
    "generateParenthese(3)        "
   ]
  },
  {
   "cell_type": "code",
   "execution_count": 22,
   "metadata": {},
   "outputs": [
    {
     "ename": "IndentationError",
     "evalue": "expected an indented block (<ipython-input-22-347f3b9099d3>, line 4)",
     "output_type": "error",
     "traceback": [
      "\u001b[1;36m  File \u001b[1;32m\"<ipython-input-22-347f3b9099d3>\"\u001b[1;36m, line \u001b[1;32m4\u001b[0m\n\u001b[1;33m    def minimumDepth(self, root):\u001b[0m\n\u001b[1;37m      ^\u001b[0m\n\u001b[1;31mIndentationError\u001b[0m\u001b[1;31m:\u001b[0m expected an indented block\n"
     ]
    }
   ],
   "source": [
    "#-------------leetcode 111-----------------\n",
    "\"\"\"minimum depth of a binary tree\"\"\"\n",
    "class Solution:\n",
    "    def minimumDepth(self, root):\n",
    "        if not root:\n",
    "            return 0\n",
    "        if root and not root.left and not root.right:\n",
    "            return 1\n",
    "        left = minimumDepth(root.left)\n",
    "        right = minimumDepth(root.right)\n",
    "\n",
    "        return min(left, right) +1\n",
    "        "
   ]
  },
  {
   "cell_type": "code",
   "execution_count": 23,
   "metadata": {},
   "outputs": [],
   "source": [
    "#--------------leetcode 111--------------\n",
    "\"\"\"find the minimum depth of a binary tree\"\"\"\n",
    "# recursion Time: O(n), SpaceO(1)\n",
    "def minDepth(root):\n",
    "    if not root:\n",
    "        return 0\n",
    "    \n",
    "    left = minDepth(root.left)\n",
    "    right = minDepth(root.right)\n",
    "    if left ==0 or right ==0:\n",
    "        return left + right +1\n",
    "    return min(left, right) +1"
   ]
  },
  {
   "cell_type": "code",
   "execution_count": null,
   "metadata": {},
   "outputs": [],
   "source": []
  }
 ],
 "metadata": {
  "kernelspec": {
   "display_name": "Python 3",
   "language": "python",
   "name": "python3"
  },
  "language_info": {
   "codemirror_mode": {
    "name": "ipython",
    "version": 3
   },
   "file_extension": ".py",
   "mimetype": "text/x-python",
   "name": "python",
   "nbconvert_exporter": "python",
   "pygments_lexer": "ipython3",
   "version": "3.7.4"
  }
 },
 "nbformat": 4,
 "nbformat_minor": 2
}
