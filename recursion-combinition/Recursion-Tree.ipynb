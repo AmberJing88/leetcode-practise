{
 "cells": [
  {
   "cell_type": "markdown",
   "metadata": {},
   "source": [
    "# leetcode problem solutions"
   ]
  },
  {
   "cell_type": "code",
   "execution_count": 11,
   "metadata": {},
   "outputs": [
    {
     "data": {
      "text/plain": [
       "13"
      ]
     },
     "execution_count": 11,
     "metadata": {},
     "output_type": "execute_result"
    }
   ],
   "source": [
    "#-----------leetcode 70----------------\n",
    "\"\"\"climb n steps stairs: each time climb 1 or 2 steps. in how many distinct ways\n",
    "can you climb to the top?\"\"\"\n",
    "# recursion method with memo to save the duplacates computing time: O(n) Space: O(n)\n",
    "def climbStairs(n):\n",
    "    if n == 0: return 0\n",
    "    if n == 1: return 1\n",
    "    memo = [0] * n\n",
    "    \n",
    "    def climb(i, n, memo):\n",
    "        if i > n:\n",
    "            return 0\n",
    "        if i == n:\n",
    "            return 1\n",
    "        if memo[i] >0:\n",
    "            return memo[i]\n",
    "        memo[i] = climb(i+1, n, memo) + climb(i+2, n, memo)\n",
    "        return memo[i]\n",
    "    return climb(0, n, memo)\n",
    "\n",
    "climbStairs(6)"
   ]
  },
  {
   "cell_type": "code",
   "execution_count": 10,
   "metadata": {},
   "outputs": [
    {
     "data": {
      "text/plain": [
       "13"
      ]
     },
     "execution_count": 10,
     "metadata": {},
     "output_type": "execute_result"
    }
   ],
   "source": [
    "# Dynamic Programming method Time: O(n) space: O(1)\n",
    "def climbStairs2(n):\n",
    "    a, b = 1, 1\n",
    "    \n",
    "    for _ in range(n):\n",
    "        a, b = b, a+b\n",
    "    return a\n",
    "\n",
    "climbStairs2(6)\n",
    "         \n",
    "        "
   ]
  },
  {
   "cell_type": "code",
   "execution_count": 21,
   "metadata": {},
   "outputs": [
    {
     "data": {
      "text/plain": [
       "['((()))', '(()())', '(())()', '()(())', '()()()']"
      ]
     },
     "execution_count": 21,
     "metadata": {},
     "output_type": "execute_result"
    }
   ],
   "source": [
    "#-------------leetcode 22-------------------\n",
    "\"\"\"given n pairs of parenthese, generate all well-formed parenthese\"\"\"\n",
    "#recursion method Time: \n",
    "\n",
    "def generateParenthese(n):\n",
    "    if n == 0:\n",
    "        return ''\n",
    "    res = []\n",
    "    \n",
    "    def generate(n, l, r, s):\n",
    "        if l ==n and r == n:\n",
    "            res.append(s)\n",
    "            return \n",
    "        if l < n:\n",
    "            generate(n, l+1, r, s+'(')\n",
    "        if r < l:\n",
    "            generate(n, l, r+1, s+')')\n",
    "            \n",
    "    generate(n,0,0,\"\")\n",
    "    return res\n",
    "\n",
    "generateParenthese(3)        "
   ]
  },
  {
   "cell_type": "code",
   "execution_count": 22,
   "metadata": {},
   "outputs": [
    {
     "ename": "IndentationError",
     "evalue": "expected an indented block (<ipython-input-22-347f3b9099d3>, line 4)",
     "output_type": "error",
     "traceback": [
      "\u001b[1;36m  File \u001b[1;32m\"<ipython-input-22-347f3b9099d3>\"\u001b[1;36m, line \u001b[1;32m4\u001b[0m\n\u001b[1;33m    def minimumDepth(self, root):\u001b[0m\n\u001b[1;37m      ^\u001b[0m\n\u001b[1;31mIndentationError\u001b[0m\u001b[1;31m:\u001b[0m expected an indented block\n"
     ]
    }
   ],
   "source": [
    "#-------------leetcode 111-----------------\n",
    "\"\"\"minimum depth of a binary tree\"\"\"\n",
    "class Solution:\n",
    "    def minimumDepth(self, root):\n",
    "        if not root:\n",
    "            return 0\n",
    "        if root and not root.left and not root.right:\n",
    "            return 1\n",
    "        left = minimumDepth(root.left)\n",
    "        right = minimumDepth(root.right)\n",
    "\n",
    "        return min(left, right) +1\n",
    "        "
   ]
  },
  {
   "cell_type": "code",
   "execution_count": 23,
   "metadata": {},
   "outputs": [],
   "source": [
    "#--------------leetcode 111--------------\n",
    "\"\"\"find the minimum depth of a binary tree\"\"\"\n",
    "# recursion Time: O(n), SpaceO(1)\n",
    "def minDepth(root):\n",
    "    if not root:\n",
    "        return 0\n",
    "    \n",
    "    left = minDepth(root.left)\n",
    "    right = minDepth(root.right)\n",
    "    if left ==0 or right ==0:\n",
    "        return left + right +1\n",
    "    return min(left, right) +1"
   ]
  },
  {
   "cell_type": "code",
   "execution_count": 12,
   "metadata": {},
   "outputs": [],
   "source": [
    "#-----------leetcode 297------------------\n",
    "\"\"\"serialize and deserialize a binary tree, serialize: convert a binary tree nodes to a string,\n",
    "deserialize: put a string convert back to a binary tree\"\"\"\n",
    "# preorder seriallize and deserialize try\n",
    "class Codec:\n",
    "    def serialize(self, root):\n",
    "        def inorder(node):\n",
    "            if node:\n",
    "                vals.append(str(node.val))\n",
    "            else:\n",
    "                val.append('#')\n",
    "            inorder(node.left)\n",
    "            inorder(node.right)\n",
    "        \n",
    "        vals = []\n",
    "        inorder(root)\n",
    "        return \" \".join(vals)\n",
    "    \n",
    "    def deseriallize(self, data):\n",
    "        vals = iter(data.split())\n",
    "        def rebuild():\n",
    "            val = next(vals)\n",
    "            if val == '#':\n",
    "                return None\n",
    "            node =TreeNode(int(val))\n",
    "            node.left = rebuild()\n",
    "            node.right = rebuild()\n",
    "            return node\n",
    "        return reduild()   "
   ]
  },
  {
   "cell_type": "code",
   "execution_count": 11,
   "metadata": {},
   "outputs": [
    {
     "data": {
      "text/plain": [
       "2"
      ]
     },
     "execution_count": 11,
     "metadata": {},
     "output_type": "execute_result"
    }
   ],
   "source": [
    "x = [1,2,0,3,4,5]\n",
    "y= iter(x)\n",
    "next(y)\n",
    "next(y)\n"
   ]
  },
  {
   "cell_type": "code",
   "execution_count": 7,
   "metadata": {},
   "outputs": [],
   "source": [
    "# preorder serialize and deserialize\n",
    "class TreeNode(object):\n",
    "    def __init__(self,x):\n",
    "        self.val = x\n",
    "        self.left = None\n",
    "        self.right = None\n",
    "        \n",
    "class Codec:\n",
    "    def seriallize(self,root):\n",
    "        \"\"\"rtype: str\"\"\"\n",
    "        def build(node):\n",
    "            if node:\n",
    "                vals.append(str(node.val))\n",
    "                build(node.left)\n",
    "                build(node.right)\n",
    "            else:\n",
    "                vals.append('#')\n",
    "        vals = []\n",
    "        build(root)\n",
    "        return \" \".join(vals)\n",
    "    \n",
    "    def deserialize(self,data):\n",
    "        def buildt():\n",
    "            val = next(vals)\n",
    "            if val == '#':\n",
    "                return None\n",
    "            node = TreeNode(int(val))\n",
    "            node.left = buildt()\n",
    "            node.right = buildt()\n",
    "            return node\n",
    "        vals = iter(data.split())\n",
    "        return buildt()"
   ]
  },
  {
   "cell_type": "code",
   "execution_count": 14,
   "metadata": {},
   "outputs": [],
   "source": [
    "# BFS iteration\n",
    "class Codec:\n",
    "    def serialize(self, root):\n",
    "        if not root:\n",
    "            return ''\n",
    "        q = [root]\n",
    "        res = []\n",
    "        while q:\n",
    "            node = q.pop(0)\n",
    "            if node:\n",
    "                q.append(node.left)\n",
    "                q.append(node.right)\n",
    "            res.append(str(node.val) if node else '#')\n",
    "        return \" \".join(res)\n",
    "    \n",
    "    def deserialize(self, data):\n",
    "        if not data:return None\n",
    "        nodes = data.split()\n",
    "        root = TreeNode(int(nodes[0]))\n",
    "        q = [root]\n",
    "        index = 1\n",
    "        while q:\n",
    "            node = q.pop(0)\n",
    "            if nodes[index] != '#':\n",
    "                node.left = TreeNode(int(nodes[index]))\n",
    "                q.append(node.left)\n",
    "            index += 1\n",
    "            \n",
    "            if nodes[index] != '#':\n",
    "                node.right= TreeNode(int(nodes[index]))\n",
    "                q.append(node.right)\n",
    "            index += 1\n",
    "            \n",
    "        return root\n",
    "                "
   ]
  },
  {
   "cell_type": "code",
   "execution_count": 15,
   "metadata": {},
   "outputs": [],
   "source": [
    "#---------leetcode 236----------\n",
    "\"\"\"find the LCA of two nodes in a binary tree\"\"\"\n",
    "def LCA(root, p, q):\n",
    "    if not root or root == p or root == q:\n",
    "        return root\n",
    "    left = LCA(root.left, p, q)\n",
    "    right = LCA(root.right, p, q)\n",
    "    if left and right:\n",
    "        return root\n",
    "    return left or right"
   ]
  },
  {
   "cell_type": "code",
   "execution_count": 16,
   "metadata": {},
   "outputs": [],
   "source": [
    "#------------leetcode 77--------------\n",
    "\"\"\"Combinations: given two integers n and k, return all possible combinations \n",
    "of k numbers out of 1...n\"\"\"\n",
    "#\n",
    "def combination(n, k):\n",
    "    combs = []\n",
    "    \n",
    "    def combine(combs, comb, start, n, k):\n",
    "        if k ==0:\n",
    "            combs.append(comb)\n",
    "            return\n",
    "        i = start\n",
    "        while i <= n:\n",
    "            comb.append(i)\n",
    "            combine(combs, comb, i+1,n,k-1)\n",
    "            comb.pop()\n",
    "    combine(combs, [], 1, n, k)\n",
    "    return combs\n",
    "         "
   ]
  },
  {
   "cell_type": "code",
   "execution_count": 18,
   "metadata": {},
   "outputs": [],
   "source": [
    "def combine(n, k):\n",
    "    if k==0:\n",
    "        return [[]]\n",
    "    return [pre + [i] for i in range(k, n+1) for pre in self.combine(i-1, k-1)]\n",
    "def combine(n, k):\n",
    "    return list(combinations(range(1, n+1), k))\n"
   ]
  },
  {
   "cell_type": "code",
   "execution_count": null,
   "metadata": {},
   "outputs": [],
   "source": []
  }
 ],
 "metadata": {
  "kernelspec": {
   "display_name": "Python 3",
   "language": "python",
   "name": "python3"
  },
  "language_info": {
   "codemirror_mode": {
    "name": "ipython",
    "version": 3
   },
   "file_extension": ".py",
   "mimetype": "text/x-python",
   "name": "python",
   "nbconvert_exporter": "python",
   "pygments_lexer": "ipython3",
   "version": "3.7.4"
  }
 },
 "nbformat": 4,
 "nbformat_minor": 2
}
