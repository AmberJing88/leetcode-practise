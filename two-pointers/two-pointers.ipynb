{
 "cells": [
  {
   "cell_type": "markdown",
   "metadata": {},
   "source": [
    "# leetcode problem solutions"
   ]
  },
  {
   "cell_type": "code",
   "execution_count": 6,
   "metadata": {},
   "outputs": [],
   "source": [
    "#----------leetcode 693------------\n",
    "\"\"\"binary number with alternating bits: given a positive integer check whether it has alternating\n",
    "bits: namely, if two adjacent bits will always have different values.\"\"\"\n",
    "# d alternate with 0 and 1\n",
    "def hasAlternatingBits(n):\n",
    "    d = n &1\n",
    "    while (n&1)==d:\n",
    "        d ^= 1\n",
    "        n >>= 1\n",
    "    return n==0"
   ]
  },
  {
   "cell_type": "code",
   "execution_count": 2,
   "metadata": {},
   "outputs": [],
   "source": [
    "# n & (n-1)=0, n^(n-1)=1111\n",
    "def hasalternate(n):\n",
    "    return (n+ (n>>1)+1) & (n + (n>>1)) ==0"
   ]
  },
  {
   "cell_type": "code",
   "execution_count": 7,
   "metadata": {},
   "outputs": [],
   "source": [
    "def hasalternate(n):\n",
    "    s = bin(n)\n",
    "    return '00' not in s and '11' not in s"
   ]
  },
  {
   "cell_type": "code",
   "execution_count": 8,
   "metadata": {},
   "outputs": [
    {
     "data": {
      "text/plain": [
       "2"
      ]
     },
     "execution_count": 8,
     "metadata": {},
     "output_type": "execute_result"
    }
   ],
   "source": [
    "#-----------leetcode 476------------------\n",
    "\"\"\"number complement: given a positive integer n, output its complement number. the complement \n",
    "strategy is to flip the bits of its binary representation.\"\"\"\n",
    "def findcomplements(n):\n",
    "    i = 1\n",
    "    while i<= n:\n",
    "        i <<= 1\n",
    "    return (i-1) ^ n\n",
    "findcomplements(5)    "
   ]
  },
  {
   "cell_type": "code",
   "execution_count": 10,
   "metadata": {},
   "outputs": [],
   "source": [
    "# from the first 1bit to right all change to 1\n",
    "def findcomplements(num):\n",
    "    if num ==0: return 1\n",
    "    mask = num\n",
    "    mask |= mask >> 1\n",
    "    mask |= mask >> 2\n",
    "    mask |= mask >> 4\n",
    "    mask |= mask >> 8\n",
    "    mask |= mask >> 16\n",
    "    return mask ^ num"
   ]
  },
  {
   "cell_type": "code",
   "execution_count": 14,
   "metadata": {},
   "outputs": [],
   "source": [
    "#--------------leetcode 371--------\n",
    "\"\"\"sum of two integers: calculate sum of two integers, but not allowed to use operators + -\"\"\"\n",
    "def getSum(a, b):\n",
    "    MASK = 0xFFFFFFFF\n",
    "    MAX_INT = 0x7FFFFFFF\n",
    "    while b !=0:\n",
    "        total = (a^b) & MASK\n",
    "        carry = ((a&b)<<1) &MASK\n",
    "        a,b = total, carry\n",
    "    return a if a< MAX_INT else ~(a^MASK)"
   ]
  },
  {
   "cell_type": "code",
   "execution_count": null,
   "metadata": {},
   "outputs": [],
   "source": [
    "def getSum(a, b):\n",
    "    return a if b==0 else getSum(a^b, (a&b)<<1)"
   ]
  },
  {
   "cell_type": "code",
   "execution_count": 15,
   "metadata": {},
   "outputs": [],
   "source": [
    "#----------leetcode 318--------------\n",
    "\"\"\"maximum product of word lengths: given a string array words, find the maximum value of len(wor\n",
    "i)*len(wordj) where the two words do not share common letters. you may assume that each word will\n",
    "contain only lower case letters. if no such two words exist, return 0\"\"\"\n",
    "# 32bit represents a word using 26 bits\n",
    "def maxProduct(words):\n",
    "    codes = []\n",
    "    for word in words:\n",
    "        codes.append(sum(1 << (ord(c) - ord('a')) for c in set(word)))\n",
    "    max_product = 0\n",
    "    for i in range(len(codes)-1):\n",
    "        for j in range(i+1, len(codes)):\n",
    "            if not (codes[i] &codes[j]):\n",
    "                max_product = max(max_product, len(words[i])*len(words[j]))\n",
    "    return max_product\n",
    "        "
   ]
  },
  {
   "cell_type": "code",
   "execution_count": 17,
   "metadata": {},
   "outputs": [
    {
     "data": {
      "text/plain": [
       "[0, 1, 1, 2, 1, 2]"
      ]
     },
     "execution_count": 17,
     "metadata": {},
     "output_type": "execute_result"
    }
   ],
   "source": [
    "#-----------leetcode 338--------------\n",
    "\"\"\"counting bits:given a non negative integer number, for every numbers i in range(n+1) calculate\n",
    "the number of 1's in their representation and return them as an array. Note time O(n), space o(n)\"\"\"\n",
    "def countBit(num):\n",
    "    res = [0]\n",
    "    for i in range(1,num+1):\n",
    "        if i %2==0:\n",
    "            res.append(res[i//2])\n",
    "        else:\n",
    "            res.append(res[i//2]+1)\n",
    "    return res\n",
    "countBit(5)"
   ]
  },
  {
   "cell_type": "code",
   "execution_count": 18,
   "metadata": {},
   "outputs": [
    {
     "data": {
      "text/plain": [
       "[0, 1, 1, 2, 1, 2]"
      ]
     },
     "execution_count": 18,
     "metadata": {},
     "output_type": "execute_result"
    }
   ],
   "source": [
    "# use n&(n-1) remove the last 1 bit of n\n",
    "def countbit(num):\n",
    "    res = [0]\n",
    "    for i in range(1, num+1):\n",
    "        res.append(1+ res[i&(i-1)])\n",
    "    return res\n",
    "countbit(5)"
   ]
  },
  {
   "cell_type": "markdown",
   "metadata": {},
   "source": [
    "### two pointers"
   ]
  },
  {
   "cell_type": "code",
   "execution_count": 2,
   "metadata": {},
   "outputs": [
    {
     "data": {
      "text/plain": [
       "[1, 2]"
      ]
     },
     "execution_count": 2,
     "metadata": {},
     "output_type": "execute_result"
    }
   ],
   "source": [
    "#-----------leetcode 167---------------\n",
    "\"\"\"given an array that is already sorted in ascending order, find two numbers such that they add\n",
    "up to a spcific target number. return the indices of the two numbers such that add up to the target.\n",
    "where index1 < index2\"\"\"\n",
    "def twoSum(numbers, target):\n",
    "    if len(numbers) < 2:\n",
    "        return []\n",
    "    low, high = 0, len(numbers)-1\n",
    "    while low < high:\n",
    "        if numbers[low] + numbers[high] == target:\n",
    "            return [low+1, high+1]\n",
    "        elif numbers[low] + numbers[high] > target:\n",
    "            high -= 1\n",
    "        else:\n",
    "            low += 1\n",
    "    return []\n",
    "twoSum([2,7,11,15],9)"
   ]
  },
  {
   "cell_type": "code",
   "execution_count": 4,
   "metadata": {},
   "outputs": [],
   "source": [
    "#binary search\n",
    "def twosum(numbers, target):\n",
    "    for i in range(len(numbers)):\n",
    "        l, r = i+1, len(numbers)-1\n",
    "        temp - target - numbers[i]\n",
    "        while l < r:\n",
    "            mid = l + (r-l)//2\n",
    "            if temp == numbers[mid]:\n",
    "                return [i+1, mid+1]\n",
    "            elif numbers[mid] < temp:\n",
    "                l = mid +1\n",
    "            else:\n",
    "                r = mid -1\n",
    "        return []\n",
    "                "
   ]
  },
  {
   "cell_type": "code",
   "execution_count": 5,
   "metadata": {},
   "outputs": [],
   "source": [
    "# dictionary\n",
    "def twosumm(numbers, target):\n",
    "    dic = {}\n",
    "    for i, num in enumerate(numbers):\n",
    "        if target - num in dic:\n",
    "            return [dic[target-num]-1, i+1]\n",
    "        dic[num] = 1\n",
    "    return []"
   ]
  },
  {
   "cell_type": "code",
   "execution_count": null,
   "metadata": {},
   "outputs": [],
   "source": []
  }
 ],
 "metadata": {
  "kernelspec": {
   "display_name": "Python 3",
   "language": "python",
   "name": "python3"
  },
  "language_info": {
   "codemirror_mode": {
    "name": "ipython",
    "version": 3
   },
   "file_extension": ".py",
   "mimetype": "text/x-python",
   "name": "python",
   "nbconvert_exporter": "python",
   "pygments_lexer": "ipython3",
   "version": "3.7.4"
  }
 },
 "nbformat": 4,
 "nbformat_minor": 2
}
