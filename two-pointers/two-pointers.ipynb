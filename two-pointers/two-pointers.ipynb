{
 "cells": [
  {
   "cell_type": "markdown",
   "metadata": {},
   "source": [
    "# leetcode problem solutions"
   ]
  },
  {
   "cell_type": "code",
   "execution_count": 2,
   "metadata": {},
   "outputs": [
    {
     "data": {
      "text/plain": [
       "[1, 2]"
      ]
     },
     "execution_count": 2,
     "metadata": {},
     "output_type": "execute_result"
    }
   ],
   "source": [
    "#-----------leetcode 167---------------\n",
    "\"\"\"given an array that is already sorted in ascending order, find two numbers such that they add\n",
    "up to a spcific target number. return the indices of the two numbers such that add up to the target.\n",
    "where index1 < index2\"\"\"\n",
    "def twoSum(numbers, target):\n",
    "    if len(numbers) < 2:\n",
    "        return []\n",
    "    low, high = 0, len(numbers)-1\n",
    "    while low < high:\n",
    "        if numbers[low] + numbers[high] == target:\n",
    "            return [low+1, high+1]\n",
    "        elif numbers[low] + numbers[high] > target:\n",
    "            high -= 1\n",
    "        else:\n",
    "            low += 1\n",
    "    return []\n",
    "twoSum([2,7,11,15],9)"
   ]
  },
  {
   "cell_type": "code",
   "execution_count": 4,
   "metadata": {},
   "outputs": [],
   "source": [
    "#binary search\n",
    "def twosum(numbers, target):\n",
    "    for i in range(len(numbers)):\n",
    "        l, r = i+1, len(numbers)-1\n",
    "        temp - target - numbers[i]\n",
    "        while l < r:\n",
    "            mid = l + (r-l)//2\n",
    "            if temp == numbers[mid]:\n",
    "                return [i+1, mid+1]\n",
    "            elif numbers[mid] < temp:\n",
    "                l = mid +1\n",
    "            else:\n",
    "                r = mid -1\n",
    "        return []\n",
    "                "
   ]
  },
  {
   "cell_type": "code",
   "execution_count": 5,
   "metadata": {},
   "outputs": [],
   "source": [
    "# dictionary\n",
    "def twosumm(numbers, target):\n",
    "    dic = {}\n",
    "    for i, num in enumerate(numbers):\n",
    "        if target - num in dic:\n",
    "            return [dic[target-num]-1, i+1]\n",
    "        dic[num] = 1\n",
    "    return []"
   ]
  },
  {
   "cell_type": "code",
   "execution_count": 11,
   "metadata": {},
   "outputs": [
    {
     "data": {
      "text/plain": [
       "True"
      ]
     },
     "execution_count": 11,
     "metadata": {},
     "output_type": "execute_result"
    }
   ],
   "source": [
    "#----------leetcode 633-------------\n",
    "\"\"\"sum of square numbers: given a non_negative integer c, your task is to decide whether there're\n",
    "two integers a and b such that a**2 + b**2= c\"\"\"\n",
    "from math import sqrt\n",
    "def judgesquareSum(c):\n",
    "    high = int(sqrt(c))\n",
    "    low = 0\n",
    "    while low <= high:\n",
    "        if low**2 + high**2 == c:\n",
    "            return True\n",
    "        elif low**2 + high**2 < c:\n",
    "            low += 1\n",
    "        else:\n",
    "            high -= 1\n",
    "    return False\n",
    "judgesquareSum(4)"
   ]
  },
  {
   "cell_type": "code",
   "execution_count": 13,
   "metadata": {},
   "outputs": [],
   "source": [
    "# binary search\n",
    "def judgeSquareSum(c):\n",
    "    for a in range(sqrt(c)):\n",
    "        b = c - a*a\n",
    "        if binary_search(0,b,b):\n",
    "            return True\n",
    "    return False\n",
    "def binary_search(s,e,n):\n",
    "    if s > e:\n",
    "        return False\n",
    "    mid = s + (e-s)//2\n",
    "    if mid *mid ==n:\n",
    "        return True\n",
    "    if mid*mid>n:\n",
    "        return binary_search(s, mid-1,n)\n",
    "    return binary_search(mid+1,e,n)\n",
    "    "
   ]
  },
  {
   "cell_type": "code",
   "execution_count": 21,
   "metadata": {},
   "outputs": [
    {
     "data": {
      "text/plain": [
       "'holle'"
      ]
     },
     "execution_count": 21,
     "metadata": {},
     "output_type": "execute_result"
    }
   ],
   "source": [
    "#---------------leetcode 345-----------\n",
    "\"\"\"reverse vowels of a string: write a function that takes a string as input and reverse only the \n",
    "vowels of a string.\"\"\"\n",
    "def reverseVowels(s):\n",
    "    vowels = ('a','e','o','i','u')\n",
    "    res = ['' for _ in range(len(s))]\n",
    "    l, r = 0, len(s)-1\n",
    "    while l <= r:\n",
    "        if s[l] in vowels and s[r] in vowels:\n",
    "            res[l], res[r] = s[r], s[l]\n",
    "            l += 1\n",
    "            r -= 1\n",
    "        elif s[l] in vowels and s[r] not in vowels:\n",
    "            res[r] = s[r]\n",
    "            r -= 1\n",
    "        elif s[l] not in vowels and s[r] in vowels:\n",
    "            res[l] = s[l]\n",
    "            l += 1\n",
    "        else:\n",
    "            res[l], res[r] = s[l], s[r]\n",
    "            l += 1\n",
    "            r -= 1\n",
    "    return ''.join(res)\n",
    "reverseVowels('hello')"
   ]
  },
  {
   "cell_type": "code",
   "execution_count": 22,
   "metadata": {},
   "outputs": [],
   "source": [
    "def reverseVowels(s):\n",
    "    s = list(s)\n",
    "    vows = set('aeiouAEIOU')\n",
    "    l,r = 0, len(s)-1\n",
    "    while l <= r:\n",
    "        while l <= r and s[l] not in vows:\n",
    "            l += 1\n",
    "        while l <= r and s[r] not in vows:\n",
    "            r -= 1\n",
    "        if l > r: break\n",
    "        s[l], s[r] = s[r], s[l]\n",
    "        l, r = l+1, r-1\n",
    "    return ''.join(s)\n",
    "    "
   ]
  },
  {
   "cell_type": "code",
   "execution_count": 5,
   "metadata": {},
   "outputs": [
    {
     "data": {
      "text/plain": [
       "False"
      ]
     },
     "execution_count": 5,
     "metadata": {},
     "output_type": "execute_result"
    }
   ],
   "source": [
    "#-----------leetcode 680------------\n",
    "\"\"\"valid palindrome II:given a non-empty string s, you may delete at most one character. judge \n",
    "whether you can make it a palinfrome.\"\"\"\n",
    "def validPalindrom(s):\n",
    "    if not s or len(s)==0:\n",
    "        return True\n",
    "    n = len(s)\n",
    "    i =0\n",
    "    while i < n //2:\n",
    "        if s[i] != s[n-1-i]:\n",
    "            del_front = s[i+1:n-i]\n",
    "            del_back = s[i:n-i-1]\n",
    "            return del_front == del_front[::-1] or del_back==del_back[::-1]\n",
    "        i += 1\n",
    "    return True\n",
    "validPalindrom('abc')            "
   ]
  },
  {
   "cell_type": "code",
   "execution_count": 9,
   "metadata": {},
   "outputs": [],
   "source": [
    "#------------leetcode 88-----------------\n",
    "\"\"\"merge sorted array:given two sorted arrays merge array2 into 1 as one sorted array.\"\"\"\n",
    "def merge(nums1, m, nums2, n):\n",
    "    i, j, k = m-1, n-1, m+n-1\n",
    "    while i >=0 and j>=0:\n",
    "        if nums2[j] > nums1[i]:\n",
    "            nums1[k] = nums2[j]\n",
    "            j -= 1\n",
    "        else:\n",
    "            nums1[k] = nums1[i]\n",
    "            i -= 1\n",
    "        k -= 1\n",
    "    if j>=0:\n",
    "        nums1[:j+1]=nums2[:j+1]\n",
    "merge([1,2,3,0,0,0],3,[2,5,6],3)"
   ]
  },
  {
   "cell_type": "code",
   "execution_count": 12,
   "metadata": {},
   "outputs": [],
   "source": [
    "#-------------leetcode 141--------------\n",
    "\"\"\"linked list cycle: determine a linked list if it has cycle in it. to represent a cycle in the \n",
    "given linked list, we use an interger pos which represents the position in the linked list where\n",
    "tail connects to. if pos is -1, then there is no cycle in the linked list.\"\"\"\n",
    "class ListNode:\n",
    "    def __init__(self, x):\n",
    "        self.val= x\n",
    "        self.next = None\n",
    "class Solution:\n",
    "    def hasCycle(self, head):\n",
    "        if not head:\n",
    "            return False\n",
    "        l1, l2 = head, head.next\n",
    "        while l1 and l2 and l2.next:\n",
    "            if l1 == l2:\n",
    "                return True\n",
    "            l1 = l1.next\n",
    "            l2 = l2.next.next\n",
    "        return False"
   ]
  },
  {
   "cell_type": "code",
   "execution_count": 14,
   "metadata": {},
   "outputs": [],
   "source": [
    "#------------leetcode 524-------------\n",
    "\"\"\"longest word in dictionary through deleting: given a string and a string dictionary, find the \n",
    "longest string in the dictionary that can be formed by deleting some characters of the given stri\n",
    "ng. if there are more than one possible results, return the longest word with the smallest lexico\n",
    "graphical order. if there is no possible result, return the empty string.\"\"\"\n",
    "def findLongestWord(s, d):\n",
    "    def is_subsequence(s, t):\n",
    "        i, j = 0,0\n",
    "        while i < len(s) and (len(t)-j) >= (len(s)-i):\n",
    "            if s[i] == t[j]:\n",
    "                i += 1\n",
    "            j += 1\n",
    "        if i == len(s):\n",
    "            return True\n",
    "        return False\n",
    "    d.sort(key=lambda x: (-len(x), x))\n",
    "    for word in d:\n",
    "        if is_subsequence(word, s):\n",
    "            return word\n",
    "    return \"\""
   ]
  },
  {
   "cell_type": "code",
   "execution_count": null,
   "metadata": {},
   "outputs": [],
   "source": []
  }
 ],
 "metadata": {
  "kernelspec": {
   "display_name": "Python 3",
   "language": "python",
   "name": "python3"
  },
  "language_info": {
   "codemirror_mode": {
    "name": "ipython",
    "version": 3
   },
   "file_extension": ".py",
   "mimetype": "text/x-python",
   "name": "python",
   "nbconvert_exporter": "python",
   "pygments_lexer": "ipython3",
   "version": "3.7.4"
  }
 },
 "nbformat": 4,
 "nbformat_minor": 2
}
