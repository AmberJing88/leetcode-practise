{
 "cells": [
  {
   "cell_type": "markdown",
   "metadata": {},
   "source": [
    "# leetcode problem solutions"
   ]
  },
  {
   "cell_type": "code",
   "execution_count": 14,
   "metadata": {},
   "outputs": [],
   "source": [
    "#-----------leetcode 785-----------------\n",
    "\"\"\"bipartite graph:undirected graph, return true if and only if it is bipartite. for each edge, \n",
    "one node in a subset A, and the other node in another subset B.\"\"\"\n",
    "def isBipartite(graph):\n",
    "    colors = [0]* (len(graph))\n",
    "    \n",
    "    def valid(graph, color, curr, colors):\n",
    "        if colors[curr] != 0:\n",
    "            return colors[curr]==color\n",
    "        colors[curr] = color\n",
    "        for i in graph[curr]:\n",
    "            if not valid(graph, -1 * color, i, colors):\n",
    "                return False\n",
    "        return True\n",
    "    for i in range(len(graph)):\n",
    "        if colors[i] ==0 and not valid(graph, 1, i, colors):\n",
    "            return False\n",
    "    return True\n"
   ]
  },
  {
   "cell_type": "code",
   "execution_count": 18,
   "metadata": {},
   "outputs": [],
   "source": [
    "# method 2 iteration\n",
    "def isBipartite(graph):\n",
    "    colors = [0]* (len(graph))\n",
    "    for i in range(len(graph)):\n",
    "        if colors[i] != 0:\n",
    "            continue\n",
    "        colors[i] = 1\n",
    "        queue = [i]\n",
    "        while queue:\n",
    "            t = queue.pop(0)\n",
    "            for a in graph[t]:\n",
    "                if colors[a] == colors[t]:\n",
    "                    return False\n",
    "                if colors[a] == 0:\n",
    "                    colors[a] = -1 * colors[t]\n",
    "                    queue.append(a)\n",
    "    return True\n",
    " "
   ]
  },
  {
   "cell_type": "code",
   "execution_count": 17,
   "metadata": {},
   "outputs": [],
   "source": [
    "# union Find method\n",
    "def isBipartite(graph):\n",
    "    root = [0]* (len(graph))\n",
    "    for i in range(len(graph)):\n",
    "        root[i] = i\n",
    "        \n",
    "    def find(root, i):\n",
    "        if root[i] ==i:\n",
    "            return i\n",
    "        return find(root, root[i])\n",
    "         \n",
    "    for i in range(len(graph)):\n",
    "        if not graph[i]:\n",
    "            continue\n",
    "        x = find(root, i)\n",
    "        y = find(root, graph[i][0])\n",
    "        if x == y:\n",
    "            return False\n",
    "        for j in range(len(graph[i])):\n",
    "            parent = find(root, graph[i][j])\n",
    "            if x ==parent:\n",
    "                return False\n",
    "            root[parent] = y\n",
    "    return True\n",
    "    "
   ]
  },
  {
   "cell_type": "code",
   "execution_count": 19,
   "metadata": {},
   "outputs": [],
   "source": [
    "#-----------leetcode 207---------------\n",
    "\"\"\"topology: course schedule, num of total courses, and the list of prerequisite pairs, is it \n",
    "possible for you to finish all courses?\"\"\"\n",
    "def canFinish(numCourses, prerequisites):\n",
    "    graph = [[] for _ in range(numCourses)]\n",
    "    visite = [0 for _ in range(numCourses)]\n",
    "    for x,y in prerequisites:\n",
    "        graph[x].append(y)\n",
    "        def dfs(i):\n",
    "            if visite[i] == -1:  # visiting\n",
    "                return False\n",
    "            if visit[i] == 1: # visited\n",
    "                return True\n",
    "            visit[i] = -1\n",
    "            for j in graph[i]:\n",
    "                if not dfs(j):\n",
    "                    return False\n",
    "            visit[i] = 1\n",
    "            return True\n",
    "        for i in range(numCourses):\n",
    "            if not dfs(i):\n",
    "                return False\n",
    "        return True\n",
    "    "
   ]
  },
  {
   "cell_type": "code",
   "execution_count": 20,
   "metadata": {},
   "outputs": [],
   "source": [
    "# BFS method find a node with 0 indegree. if fail to do so, there must be a cycle in the graph ad\n",
    "#return false\n",
    "def canFinish(numCourses, prerequisites):\n",
    "    graph ={i:set() for i in range(numCourses)}\n",
    "    indeg = {i:0 for i in range(numCourses)}\n",
    "    for s,e in set(tuple(x) for x in prerequisites):\n",
    "        graph[s] |= {e}\n",
    "        indeg[e] += 1\n",
    "    queue = [i for i in range(numCourses) if not indeg[i]]\n",
    "    visits = set(queue)\n",
    "    for node in queue:\n",
    "        for neigh in graph[node]:\n",
    "            if neigh in visits:\n",
    "                return False\n",
    "            indeg[neigh] -= 1\n",
    "            if not indeg[neigh]:\n",
    "                visites.add(neigh)\n",
    "                queue += neigh\n",
    "    return len(visits) ==n\n",
    "            "
   ]
  },
  {
   "cell_type": "code",
   "execution_count": null,
   "metadata": {},
   "outputs": [],
   "source": []
  }
 ],
 "metadata": {
  "kernelspec": {
   "display_name": "Python 3",
   "language": "python",
   "name": "python3"
  },
  "language_info": {
   "codemirror_mode": {
    "name": "ipython",
    "version": 3
   },
   "file_extension": ".py",
   "mimetype": "text/x-python",
   "name": "python",
   "nbconvert_exporter": "python",
   "pygments_lexer": "ipython3",
   "version": "3.7.4"
  }
 },
 "nbformat": 4,
 "nbformat_minor": 2
}
