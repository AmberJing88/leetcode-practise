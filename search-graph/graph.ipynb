{
 "cells": [
  {
   "cell_type": "markdown",
   "metadata": {},
   "source": [
    "# leetcode problem solutions"
   ]
  },
  {
   "cell_type": "code",
   "execution_count": 14,
   "metadata": {},
   "outputs": [],
   "source": [
    "#-----------leetcode 785-----------------\n",
    "\"\"\"bipartite graph:undirected graph, return true if and only if it is bipartite. for each edge, \n",
    "one node in a subset A, and the other node in another subset B.\"\"\"\n",
    "def isBipartite(graph):\n",
    "    colors = [0]* (len(graph))\n",
    "    \n",
    "    def valid(graph, color, curr, colors):\n",
    "        if colors[curr] != 0:\n",
    "            return colors[curr]==color\n",
    "        colors[curr] = color\n",
    "        for i in graph[curr]:\n",
    "            if not valid(graph, -1 * color, i, colors):\n",
    "                return False\n",
    "        return True\n",
    "    for i in range(len(graph)):\n",
    "        if colors[i] ==0 and not valid(graph, 1, i, colors):\n",
    "            return False\n",
    "    return True\n"
   ]
  },
  {
   "cell_type": "code",
   "execution_count": 18,
   "metadata": {},
   "outputs": [],
   "source": [
    "# method 2 iteration\n",
    "def isBipartite(graph):\n",
    "    colors = [0]* (len(graph))\n",
    "    for i in range(len(graph)):\n",
    "        if colors[i] != 0:\n",
    "            continue\n",
    "        colors[i] = 1\n",
    "        queue = [i]\n",
    "        while queue:\n",
    "            t = queue.pop(0)\n",
    "            for a in graph[t]:\n",
    "                if colors[a] == colors[t]:\n",
    "                    return False\n",
    "                if colors[a] == 0:\n",
    "                    colors[a] = -1 * colors[t]\n",
    "                    queue.append(a)\n",
    "    return True\n",
    " "
   ]
  },
  {
   "cell_type": "code",
   "execution_count": 17,
   "metadata": {},
   "outputs": [],
   "source": [
    "# union Find method\n",
    "def isBipartite(graph):\n",
    "    root = [0]* (len(graph))\n",
    "    for i in range(len(graph)):\n",
    "        root[i] = i\n",
    "        \n",
    "    def find(root, i):\n",
    "        if root[i] ==i:\n",
    "            return i\n",
    "        return find(root, root[i])\n",
    "         \n",
    "    for i in range(len(graph)):\n",
    "        if not graph[i]:\n",
    "            continue\n",
    "        x = find(root, i)\n",
    "        y = find(root, graph[i][0])\n",
    "        if x == y:\n",
    "            return False\n",
    "        for j in range(len(graph[i])):\n",
    "            parent = find(root, graph[i][j])\n",
    "            if x ==parent:\n",
    "                return False\n",
    "            root[parent] = y\n",
    "    return True\n",
    "    "
   ]
  },
  {
   "cell_type": "code",
   "execution_count": 1,
   "metadata": {},
   "outputs": [],
   "source": [
    "#-----------leetcode 207---------------\n",
    "\"\"\"topology: course schedule, num of total courses, and the list of prerequisite pairs, is it \n",
    "possible for you to finish all courses?\"\"\"\n",
    "def canFinish(numCourses, prerequisites):\n",
    "    graph = [[] for _ in range(numCourses)]\n",
    "    visit = [0 for _ in range(numCourses)]\n",
    "    for x,y in prerequisites:\n",
    "        graph[x].append(y)\n",
    "    def dfs(i):\n",
    "        if visit[i] == -1:  # visiting\n",
    "            return False\n",
    "        if visit[i] == 1: # visited\n",
    "            return True\n",
    "        visit[i] = -1\n",
    "        for j in graph[i]:\n",
    "            if not dfs(j):\n",
    "                return False\n",
    "        visit[i] = 1\n",
    "        return True\n",
    "    for i in range(numCourses):\n",
    "        if not dfs(i):\n",
    "            return False\n",
    "    return True\n",
    "    "
   ]
  },
  {
   "cell_type": "code",
   "execution_count": 3,
   "metadata": {},
   "outputs": [],
   "source": [
    "# BFS method find a node with 0 indegree. if fail to do so, there must be a cycle in the graph ad\n",
    "#return false\n",
    "def canFinish(numCourses, prerequisites):\n",
    "    graph ={i:set() for i in range(numCourses)}\n",
    "    indeg = {i:0 for i in range(numCourses)}\n",
    "    for s,e in set(tuple(x) for x in prerequisites):\n",
    "        graph[s] |= {e}\n",
    "        indeg[e] += 1\n",
    "    queue = [i for i in range(numCourses) if not indeg[i]]\n",
    "    visits = set(queue)\n",
    "    for node in queue:\n",
    "        for neigh in graph[node]:\n",
    "            if neigh in visits:\n",
    "                return False\n",
    "            indeg[neigh] -= 1\n",
    "            if not indeg[neigh]:\n",
    "                visites.add(neigh)\n",
    "                queue += [neigh]\n",
    "    return len(visits) ==Courses\n",
    "            "
   ]
  },
  {
   "cell_type": "code",
   "execution_count": 6,
   "metadata": {},
   "outputs": [],
   "source": [
    "#-------------leetcode 210--------------\n",
    "\"\"\"couse schedule II: 0~n-1 represents n courses, some have prerequisites, [0,1] means 1 is the \n",
    "prerequisite of 0, return the course taking order.\"\"\"\n",
    "def findOrder(numCourses, prerequisites):\n",
    "    res = []\n",
    "    graph = [[] for i in range(numCourses)]\n",
    "    visit = [0 for _ in range(numcourses)]\n",
    "    for x, y in prerequisites:\n",
    "        graph[x].append(y)\n",
    "    def dfs(i, graph, visit):\n",
    "        if visit[i] == -1:\n",
    "            return False\n",
    "        if visit[i] == 1:\n",
    "            return True\n",
    "        visit[i] =-1\n",
    "        for j in graph[i]:\n",
    "            if not dfs(j, graph, visit):\n",
    "                return False\n",
    "        visit[i] = 1\n",
    "        res.append(i)\n",
    "        return True\n",
    "    for i in range(numCourses):\n",
    "        if not dfs(i, graph, visit):\n",
    "            return []\n",
    "    return res\n",
    "    "
   ]
  },
  {
   "cell_type": "code",
   "execution_count": 13,
   "metadata": {},
   "outputs": [
    {
     "data": {
      "text/plain": [
       "[0, 1]"
      ]
     },
     "execution_count": 13,
     "metadata": {},
     "output_type": "execute_result"
    }
   ],
   "source": [
    "# BFS\n",
    "from collections import defaultdict\n",
    "def findOrder1(num, prerequisites):\n",
    "    parent = defaultdict(set)\n",
    "    child = defaultdict(set)\n",
    "    for i, j in prerequisites:\n",
    "        parent[i].add(j)\n",
    "        child[j].add(i)\n",
    "    bfs = [i for i in range(num) if not parent[i]]\n",
    "    for i in bfs:\n",
    "        if parent[i]:\n",
    "            return []\n",
    "        for j in child[i]:\n",
    "            parent[j].remove(i)\n",
    "            if not parent[j]:\n",
    "                bfs += [j]\n",
    "    return bfs if len(bfs)==num else []\n",
    "findOrder1(2, [[1,0]])"
   ]
  },
  {
   "cell_type": "code",
   "execution_count": 14,
   "metadata": {},
   "outputs": [],
   "source": [
    "#-----------leetcode 684------------------\n",
    "\"\"\"given a graph presented with edges ( pairs of nodes), remove an edge makes the graph as a tree\n",
    "(undirected and no cycle graph), return the last pairs occured in graph.\"\"\"\n",
    "# DFS METHOD: Time: O(N^2) Space: O(N)\n",
    "def findRedundantConnection(deges):\n",
    "    graph = collections.defaultdict(set)\n",
    "    \n",
    "    def dfs(source, target):\n",
    "        if source not in seen:\n",
    "            seen.add(source)\n",
    "            if source == target:\n",
    "                return True\n",
    "            return any(dfs(neigh, target) for neigh in graph[source])\n",
    "    for u,v in edges:\n",
    "        seen = set()\n",
    "        if u in graph and v in graph and dfs(u,v):\n",
    "            return u,v\n",
    "        graph[u].add(v)\n",
    "        graph[v].add(u)"
   ]
  },
  {
   "cell_type": "code",
   "execution_count": 16,
   "metadata": {},
   "outputs": [],
   "source": [
    "# Union Find Time: O(NlogN) Space: O(N)\n",
    "def findRedundant(deges):\n",
    "    parent = [0] * len(edges)\n",
    "    \n",
    "    def find(x):\n",
    "        if parent[x] == 0:\n",
    "            return x\n",
    "        parent[x] = find(parent[x])\n",
    "        return parent[x]\n",
    "    \n",
    "    def union(x, y):\n",
    "        rootx = find(x)\n",
    "        rooty = find(y)\n",
    "        if rootx == rooty:\n",
    "            return False\n",
    "        parent[rootx] = rooty\n",
    "        return True\n",
    "    \n",
    "    for x, y in deges:\n",
    "        if not union(x-1, y-1):\n",
    "            return [x,y]\n",
    "    raise ValueError(\"illegal input\")"
   ]
  },
  {
   "cell_type": "code",
   "execution_count": 18,
   "metadata": {},
   "outputs": [],
   "source": [
    "# union Find \n",
    "def findredundant(edges):\n",
    "    parents = {}\n",
    "    def find_parent(n):\n",
    "        if n not in parents:\n",
    "            return n\n",
    "        parents[n] = find_parent(parents[n])\n",
    "        return parents[n]\n",
    "    \n",
    "    for a,b in edges:\n",
    "        parent_a, parent_b = find_parent(a), find_parent(b)\n",
    "        if parent_a == parent_b:\n",
    "            return [a,b]\n",
    "        parents[parent_a] = parent_b\n",
    "        "
   ]
  },
  {
   "cell_type": "code",
   "execution_count": null,
   "metadata": {},
   "outputs": [],
   "source": []
  }
 ],
 "metadata": {
  "kernelspec": {
   "display_name": "Python 3",
   "language": "python",
   "name": "python3"
  },
  "language_info": {
   "codemirror_mode": {
    "name": "ipython",
    "version": 3
   },
   "file_extension": ".py",
   "mimetype": "text/x-python",
   "name": "python",
   "nbconvert_exporter": "python",
   "pygments_lexer": "ipython3",
   "version": "3.7.4"
  }
 },
 "nbformat": 4,
 "nbformat_minor": 2
}
