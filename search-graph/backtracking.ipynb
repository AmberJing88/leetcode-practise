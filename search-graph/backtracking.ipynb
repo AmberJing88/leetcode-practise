{
 "cells": [
  {
   "cell_type": "markdown",
   "metadata": {},
   "source": [
    "# leetcode problem solutions"
   ]
  },
  {
   "cell_type": "code",
   "execution_count": 8,
   "metadata": {},
   "outputs": [
    {
     "data": {
      "text/plain": [
       "[[], [1], [2], [3], [1, 2], [1, 3], [2, 3], [1, 2, 3]]"
      ]
     },
     "execution_count": 8,
     "metadata": {},
     "output_type": "execute_result"
    }
   ],
   "source": [
    "#-----------leetcode 78----------------\n",
    "\"\"\"given a set of distinct integers, nums, return all possible subsets(the power set)\n",
    "solution must not contain duplicate subsets.\"\"\"\n",
    "def subsets(nums):\n",
    "    if nums == []:\n",
    "        return []\n",
    "    res = []\n",
    "    \n",
    "    def dfs(sub, start):\n",
    "        if len(sub) == k:\n",
    "            res.append(sub[:])\n",
    "        \n",
    "        for i in range(start, len(nums)):\n",
    "            sub.append(nums[i])\n",
    "            dfs(sub, i+1)\n",
    "            sub.pop()\n",
    "    for k in range(len(nums) +1): # k is the size of subsets\n",
    "        dfs([], 0)\n",
    "    return res\n",
    "subsets([1,2,3])"
   ]
  },
  {
   "cell_type": "code",
   "execution_count": 24,
   "metadata": {},
   "outputs": [
    {
     "data": {
      "text/plain": [
       "[[], [1], [1, 2], [1, 2, 3], [1, 3], [2], [2, 3], [3]]"
      ]
     },
     "execution_count": 24,
     "metadata": {},
     "output_type": "execute_result"
    }
   ],
   "source": [
    "def sub(nums):\n",
    "    def dfs(start, end,tmp):\n",
    "        ans.append(tmp[:])\n",
    "        for i in range(start, end):\n",
    "            tmp.append(nums[i])\n",
    "            dfs(i+1, end, tmp)\n",
    "            tmp.pop()\n",
    "    ans = []\n",
    "    dfs(0,len(nums), [])\n",
    "    return ans\n",
    "sub([1,2,3])"
   ]
  },
  {
   "cell_type": "code",
   "execution_count": 13,
   "metadata": {},
   "outputs": [
    {
     "data": {
      "text/plain": [
       "[[], [1], [2], [1, 2], [3], [1, 3], [2, 3], [1, 2, 3]]"
      ]
     },
     "execution_count": 13,
     "metadata": {},
     "output_type": "execute_result"
    }
   ],
   "source": [
    "#Method 2 for each element two options, choose or not choose:\n",
    "# []-> [],[1]->[],[1],[2],[1,2]->[],[1],[2],[1,2],[3],[1,3],[2,3],[1,2,3]\n",
    "def subsets2(nums):\n",
    "    n = len(nums)\n",
    "    output = [[]]\n",
    "    \n",
    "    for num in nums:\n",
    "        output += [curr + [num] for curr in output]\n",
    "    return output\n",
    "subsets2([1,2,3])"
   ]
  },
  {
   "cell_type": "code",
   "execution_count": 31,
   "metadata": {},
   "outputs": [
    {
     "data": {
      "text/plain": [
       "[[], [5], [5, 5], [5, 5, 5]]"
      ]
     },
     "execution_count": 31,
     "metadata": {},
     "output_type": "execute_result"
    }
   ],
   "source": [
    "#-------------leetcode 90-------------------\n",
    "\"\"\"given a collection of integers that might contain duplicates, nums, return \n",
    "all possible subsets. Note: the solution must not contain duplicate subsets.\"\"\"\n",
    "# dfs recursion\n",
    "def subsetsWithDup(nums):\n",
    "    def dfs(start, sub):\n",
    "        res.append(sub[:])\n",
    "        for i in range(start, len(nums)):\n",
    "            if i>start and nums[i-1]==nums[i]:\n",
    "                continue\n",
    "            sub.append(nums[i])\n",
    "            dfs(i+1, sub)\n",
    "            sub.pop()\n",
    "    if not nums:\n",
    "        return []\n",
    "    nums.sort()\n",
    "    res = []\n",
    "    dfs(0, [])\n",
    "    return res\n",
    "subsetsWithDup([5,5,5])\n",
    "    "
   ]
  },
  {
   "cell_type": "code",
   "execution_count": 33,
   "metadata": {},
   "outputs": [
    {
     "data": {
      "text/plain": [
       "[[1, 2], [1, 3], [1, 4], [2, 3], [2, 4], [3, 4]]"
      ]
     },
     "execution_count": 33,
     "metadata": {},
     "output_type": "execute_result"
    }
   ],
   "source": [
    "#------------leetcode 77-------------\n",
    "'''combination: given two integers, n and k, return all possible combinations of k numbers\n",
    "out of 1...n'''\n",
    "def combine(n, k):\n",
    "    def dfs(start, sub):\n",
    "        if len(sub) == k:\n",
    "            res.append(sub[:])\n",
    "        for i in range(start, n+1):\n",
    "            sub.append(i)\n",
    "            dfs(i+1, sub)\n",
    "            sub.pop()\n",
    "    res = []\n",
    "    dfs(1, [])\n",
    "    return res\n",
    "combine(4,2)"
   ]
  },
  {
   "cell_type": "code",
   "execution_count": 38,
   "metadata": {},
   "outputs": [
    {
     "data": {
      "text/plain": [
       "[[1, 2], [1, 3], [2, 3], [1, 4], [2, 4], [3, 4]]"
      ]
     },
     "execution_count": 38,
     "metadata": {},
     "output_type": "execute_result"
    }
   ],
   "source": [
    "# method 2: recursion by each element two optins, choose or not choose\n",
    "def combine2(n, k):\n",
    "    combs = [[]]\n",
    "    for _ in range(k):\n",
    "        combs = [[i]+c for c in combs for i in range(1,c[0] if c else n+1)]\n",
    "    return combs\n",
    "combine2(4,2)\n",
    "            "
   ]
  },
  {
   "cell_type": "code",
   "execution_count": 45,
   "metadata": {},
   "outputs": [
    {
     "data": {
      "text/plain": [
       "[[2, 2, 2, 2], [2, 3, 3], [3, 5]]"
      ]
     },
     "execution_count": 45,
     "metadata": {},
     "output_type": "execute_result"
    }
   ],
   "source": [
    "#------------leetcode 39---------------\n",
    "\"\"\"a set of candidates numbers, and a target number, find all unique combinations in \n",
    "candidates where the candidates unilimited number of times\"\"\"\n",
    "def combinationSum(candidates, target):\n",
    "    res = []\n",
    "    n = len(candidates)\n",
    "    def helper(target, curr, start):\n",
    "        if target < 0:\n",
    "            return\n",
    "        if target ==0:\n",
    "            res.append(curr[:])\n",
    "        else:\n",
    "            for i in range(start, n):\n",
    "                curr.append(candidates[i])\n",
    "                helper(target-candidates[i], curr, i)\n",
    "                curr.pop()\n",
    "    \n",
    "    helper(target, [], 0)\n",
    "    return res\n",
    "combinationSum([2,3,5],8)"
   ]
  },
  {
   "cell_type": "code",
   "execution_count": 3,
   "metadata": {},
   "outputs": [
    {
     "data": {
      "text/plain": [
       "[[1, 2, 2], [2, 3]]"
      ]
     },
     "execution_count": 3,
     "metadata": {},
     "output_type": "execute_result"
    }
   ],
   "source": [
    "#--------------leetcode 40--------------\n",
    "\"\"\"Combination Sum II:a collection of candiadates and a target, find all unique combination of \n",
    "candidates sum to target, each number can only use once\"\"\"\n",
    "def combineSum(nums, target):\n",
    "    res = []\n",
    "    def backtrack(start, sub, left):\n",
    "        if left < 0:\n",
    "            return\n",
    "        if left == 0:\n",
    "            res.append(sub[:])\n",
    "        else:\n",
    "            for i in range(start, len(nums)):\n",
    "                if i>start and nums[i]==nums[i-1]:\n",
    "                    continue\n",
    "                sub.append(nums[i])\n",
    "                backtrack(i+1, sub, left-nums[i])\n",
    "                sub.pop()\n",
    "    nums.sort()            \n",
    "    backtrack(0, [], target)\n",
    "    return res\n",
    "combineSum([2,1,2,3,2], 5)"
   ]
  },
  {
   "cell_type": "code",
   "execution_count": 4,
   "metadata": {},
   "outputs": [
    {
     "data": {
      "text/plain": [
       "[[1, 2, 2], [2, 3]]"
      ]
     },
     "execution_count": 4,
     "metadata": {},
     "output_type": "execute_result"
    }
   ],
   "source": [
    "#-modified method, test if element > target, break if true\n",
    "def combinesum(nums, target):\n",
    "    def dfs(target, index, path):\n",
    "        if target <0:\n",
    "            return\n",
    "        if target ==0:\n",
    "            res.append(path)\n",
    "            return\n",
    "        for i in range(index, len(nums)):\n",
    "            if i> index and nums[i]==nums[i-1]:\n",
    "                continue\n",
    "            if nums[i]> target:\n",
    "                break\n",
    "            dfs(target-nums[i], i+1, path+[nums[i]])\n",
    "    nums.sort()\n",
    "    res = []\n",
    "    dfs(target, 0, [])\n",
    "    return res\n",
    "combinesum([2,1,2,3,2], 5)    \n",
    "                    "
   ]
  },
  {
   "cell_type": "code",
   "execution_count": 1,
   "metadata": {},
   "outputs": [],
   "source": [
    "#-------------leetcode 46--------------\n",
    "\"\"\"Permutation: given a collection of distinct integers, return all possible permutations.\n",
    "e.g.: [1,2,3]->[[1,3,2],[1,2,3],[2,1,3],[2,3,1],[3,1,2],[3,2,1]]\"\"\"\n",
    "# recursion\n",
    "def permute(nums):\n",
    "    def backtrack(start,end):\n",
    "        if start == end:\n",
    "            ans.append(nums.copy())\n",
    "        for i in range(start, end):\n",
    "            nums[start], nums[i] = nums[i], nums[start]\n",
    "            backtrack(start+1, end)\n",
    "            nums[start], nums[i] = nums[i], nums[start]\n",
    "    ans = []\n",
    "    backtrack(0, len(nums))\n",
    "    return ans\n",
    "            \n",
    "            \n",
    "        "
   ]
  },
  {
   "cell_type": "code",
   "execution_count": 9,
   "metadata": {},
   "outputs": [
    {
     "data": {
      "text/plain": [
       "[[1, 2, 3], [1, 3, 2], [2, 1, 3], [2, 3, 1], [3, 1, 2], [3, 2, 1]]"
      ]
     },
     "execution_count": 9,
     "metadata": {},
     "output_type": "execute_result"
    }
   ],
   "source": [
    "def permute(nums):\n",
    "    def backtrack(sub):\n",
    "        if len(sub) == n:\n",
    "            res.append(sub[:])\n",
    "        for i in range(n):\n",
    "            if nums[i] in sub:\n",
    "                continue\n",
    "            sub.append(nums[i])\n",
    "            backtrack(sub)\n",
    "            sub.pop()\n",
    "    res = []\n",
    "    n = len(nums)\n",
    "    backtrack([])\n",
    "    return res\n",
    "permute([1,2,3])"
   ]
  },
  {
   "cell_type": "code",
   "execution_count": 13,
   "metadata": {},
   "outputs": [
    {
     "data": {
      "text/plain": [
       "[[1, 2, 4]]"
      ]
     },
     "execution_count": 13,
     "metadata": {},
     "output_type": "execute_result"
    }
   ],
   "source": [
    "#----------------leetcode 216-------------\n",
    "\"\"\"combinations III: find all possible combinations of k numbers that add up to a number n, \n",
    "given that only numbers from 1 to 9,each number can be used only onece.no duplicate in \n",
    "solution set\"\"\"\n",
    "def combine3(n, k):\n",
    "    def backtrack(sub, k, n, start):\n",
    "        if n<0:\n",
    "            return\n",
    "        if len(sub)==k and n==0:\n",
    "            res.append(sub[:])\n",
    "        for i in range(start, 10):\n",
    "            if i in sub:\n",
    "                continue\n",
    "            if i>n:\n",
    "                break\n",
    "            sub.append(i)\n",
    "            backtrack(sub, k, n-i, i+1)\n",
    "            sub.pop()\n",
    "    res = []\n",
    "    backtrack([], k, n, 1)\n",
    "    return res\n",
    "combine3(7,3)"
   ]
  },
  {
   "cell_type": "code",
   "execution_count": 3,
   "metadata": {},
   "outputs": [],
   "source": [
    "#-----------leetcode 47-----------\n",
    "\"\"\"given a collection of numbers that might contain duplicates, return all possible unique \n",
    "permutaions.\"\"\"\n",
    "def permuteUnique(nums):\n",
    "    res = []\n",
    "    def DFS(nums, start):\n",
    "        if start == n-1:\n",
    "            res.append(nums[:])\n",
    "            return\n",
    "        for i in range(start, n):\n",
    "            if i>start and nums[i] ==nums[start]:\n",
    "                continue\n",
    "            nums[start], nums[i] = nums[i], nums[start]\n",
    "            DFS(nums[:], start+1)\n",
    "    nums.sort()\n",
    "    n= len(nums)\n",
    "    DFS(nums, 0)\n",
    "    return res"
   ]
  },
  {
   "cell_type": "code",
   "execution_count": 8,
   "metadata": {},
   "outputs": [
    {
     "data": {
      "text/plain": [
       "True"
      ]
     },
     "execution_count": 8,
     "metadata": {},
     "output_type": "execute_result"
    }
   ],
   "source": [
    "#-------------leetcode 44------------------\n",
    "\"\"\"given an input string and a pattern, inplement wildcard pattern matching with support '?' to\n",
    "match any charactor, and '*' matches any sequence include empty sequence\"\"\"\n",
    "def isMatch(s, p):\n",
    "    i,j, star  = 0, 0, -1\n",
    "    while i<len(s):\n",
    "        if j>= len(p) or (p[j] not in {'*', '?'} and p[j]!=s[i]):\n",
    "            if star==-1:\n",
    "                return False\n",
    "            j=star+1\n",
    "            star_i += 1\n",
    "            i = star_i\n",
    "        elif p[j]=='*':\n",
    "            star = j\n",
    "            star_i = i\n",
    "            j+=1\n",
    "        else:\n",
    "            i += 1\n",
    "            j += 1\n",
    "    while j<len(p):\n",
    "        if p[j] != '*':\n",
    "            return False\n",
    "        j += 1\n",
    "    return True\n",
    "isMatch('aa','a*')\n",
    "            "
   ]
  },
  {
   "cell_type": "code",
   "execution_count": 12,
   "metadata": {},
   "outputs": [
    {
     "data": {
      "text/plain": [
       "True"
      ]
     },
     "execution_count": 12,
     "metadata": {},
     "output_type": "execute_result"
    }
   ],
   "source": [
    "# DP solution\n",
    "def isMatching2(s, p):\n",
    "    dp = [[False for _ in range(len(p)+1)] for _ in range(len(s)+1)]\n",
    "    \n",
    "    for i in range(len(s) +1):\n",
    "        for j in range(len(p) +1):\n",
    "            start_s, start_p = i-1, j-1\n",
    "            if i==0 and j==0:\n",
    "                dp[i][j] = True\n",
    "            elif i==0:\n",
    "                dp[i][j] = p[start_p] =='*' and dp[i][j-1]\n",
    "            elif j==0:\n",
    "                dp[i][j] = False\n",
    "            elif p[start_p] =='*':\n",
    "                dp[i][j] = dp[i][j-1] or dp[i-1][j]\n",
    "            elif s[start_s] ==p[start_p] or p[start_p] =='?':\n",
    "                dp[i][j] = dp[i-1][j-1]\n",
    "    return dp[len(s)][len(p)]\n",
    "isMatching2('abb', '*?')"
   ]
  },
  {
   "cell_type": "code",
   "execution_count": 17,
   "metadata": {},
   "outputs": [
    {
     "data": {
      "text/plain": [
       "False"
      ]
     },
     "execution_count": 17,
     "metadata": {},
     "output_type": "execute_result"
    }
   ],
   "source": [
    "# recursion method\n",
    "def isMatch2(s, p):\n",
    "    \n",
    "    def helper(s, p, i,j):\n",
    "        if i== len(s) and j==len(p):\n",
    "            return 2\n",
    "        if i==len(s) and p[j] !='*':\n",
    "            return 0\n",
    "        if j==len(p):\n",
    "            return 1\n",
    "        if s[i]==p[j] or p[j] =='?':\n",
    "            return helper(s,p,i+1,j+1)\n",
    "        if p[j] =='*':\n",
    "            if j+1< len(p) and p[j+1]=='*':\n",
    "                return helper(s,p,i,j+1)\n",
    "            for k in range(len(s)-i+1):\n",
    "                res = helper(s,p,i+k, j+1)\n",
    "                if res==0 or res ==2:\n",
    "                    return res\n",
    "        return 1\n",
    "    return helper(s,p,0,0)>1\n",
    "isMatch('mississippi','m??*ss*?i*pi')\n",
    "# this method still has some bugs, need correct \n",
    "                "
   ]
  },
  {
   "cell_type": "code",
   "execution_count": 21,
   "metadata": {},
   "outputs": [
    {
     "data": {
      "text/plain": [
       "['ad', 'ae', 'af', 'bd', 'be', 'bf', 'cd', 'ce', 'cf']"
      ]
     },
     "execution_count": 21,
     "metadata": {},
     "output_type": "execute_result"
    }
   ],
   "source": [
    "#-----------leetcode 17-------------------\n",
    "\"\"\"Letter combinations of a phone number:2-9 inclusive return all possible combinations that \n",
    "the number could represent\"\"\"\n",
    "def letterCombinations(digits):\n",
    "    res = []\n",
    "    mapp = {'2':'abc', '3':'def','4':'ghi','5':'jkl','6':'mno','7':'pqrs','8':'tuv','9':'wxyz'}\n",
    "    def backtrack(sub, start, mapp):\n",
    "        if len(sub) ==len(digits):\n",
    "            res.append(sub[:])\n",
    "        for i in range(start, len(digits)):\n",
    "            for j in mapp[digits[i]]:\n",
    "                backtrack(sub+j, i+1, mapp)\n",
    "                \n",
    "    backtrack(\"\", 0, mapp)\n",
    "    return res\n",
    "letterCombinations('23')"
   ]
  },
  {
   "cell_type": "code",
   "execution_count": 24,
   "metadata": {},
   "outputs": [
    {
     "data": {
      "text/plain": [
       "['ad', 'ae', 'af', 'bd', 'be', 'bf', 'cd', 'ce', 'cf']"
      ]
     },
     "execution_count": 24,
     "metadata": {},
     "output_type": "execute_result"
    }
   ],
   "source": [
    "# method 2\n",
    "def letterCombine(digits):\n",
    "    res = []\n",
    "    keys =['','','abc','def','ghi','jkl','mno','pqrs','tuv','wxyz']\n",
    "    if not digits or len(digits)==0:\n",
    "        return []\n",
    "    def DFS(sub, index, keys):\n",
    "        if len(sub) == len(digits):\n",
    "            res.append(sub[:])\n",
    "            return\n",
    "        curDigit = int(digits[index])\n",
    "        letters = keys[curDigit]\n",
    "        for i in letters:\n",
    "            sub += i\n",
    "            DFS(sub, index+1, keys)\n",
    "            sub = sub[:-1]\n",
    "    DFS(\"\",0, keys)\n",
    "    return res\n",
    "letterCombine('23')"
   ]
  },
  {
   "cell_type": "code",
   "execution_count": 5,
   "metadata": {},
   "outputs": [
    {
     "data": {
      "text/plain": [
       "['255.255.11.135', '255.255.111.35']"
      ]
     },
     "execution_count": 5,
     "metadata": {},
     "output_type": "execute_result"
    }
   ],
   "source": [
    "#-------------leetcode 93---------------\n",
    "\"\"\"restore ip address: given a string with digits,restore it by returning all possible valid ip\n",
    "address combinations. Note: ip address has 4 parts, each part between 0-255\"\"\"\n",
    "def IPAddress(s):\n",
    "    addresses = []\n",
    "    if len(s)>12 or len(s)==0:\n",
    "        return []\n",
    "    def doRestore(k, temp, s):\n",
    "        if k==4 or len(s)==0:\n",
    "            if k==4 and len(s)==0:\n",
    "                addresses.append(temp[:])\n",
    "                return\n",
    "        for i in range(len(s)):\n",
    "            if i <= 2:\n",
    "                if i !=0 and s[0]=='0':\n",
    "                    break\n",
    "                part = s[:i+1]\n",
    "                if int(part) <= 255:\n",
    "                    if len(temp) !=0:\n",
    "                        part = \".\" + part\n",
    "                    temp += part\n",
    "                    doRestore(k+1, temp, s[i+1:])\n",
    "                    temp = temp[:(len(temp)-len(part))]\n",
    "    doRestore(0,\"\",s)\n",
    "    return addresses\n",
    "IPAddress('25525511135')\n"
   ]
  },
  {
   "cell_type": "code",
   "execution_count": 19,
   "metadata": {},
   "outputs": [
    {
     "data": {
      "text/plain": [
       "False"
      ]
     },
     "execution_count": 19,
     "metadata": {},
     "output_type": "execute_result"
    }
   ],
   "source": [
    "#-------------leetcode 79-------------\n",
    "\"\"\"from a 2D bord find the given word if it exist in the grid. the word can be constructed from \n",
    "letters of sequentially neighboring. the same letter cell may not be used more than once.\"\"\"\n",
    "def exist(board, word):\n",
    "    if not board:\n",
    "        return False\n",
    "    \n",
    "    def find(r, c, word, visited):\n",
    "        if len(word)==0:\n",
    "            return True\n",
    "        if r <0 or r >= m or c <0 or c>=n or visited[r][c] or board[r][c] != word[0]:\n",
    "            return False\n",
    "        visited[r][c] = True\n",
    "        res = find(r-1, c, word[1:], visited) or find(r+1, c, word[1:], visited) \\\n",
    "        or find(r, c-1, word[1:], visited) or find(r, c+1, word[1:], visited)\n",
    "        visited[r][c] = False\n",
    "        return res\n",
    "    m, n = len(board), len(board[0])\n",
    "    visited = [[None]*n]*m\n",
    "    for i in range(m):\n",
    "            for j in range(n):\n",
    "                if find(i,j,word,visited):\n",
    "                    return True\n",
    "    return False    \n",
    "exist([[\"A\",\"B\",\"C\",\"E\"],[\"S\",\"F\",\"C\",\"S\"],[\"A\",\"D\",\"E\",\"E\"]],\"ABCCED\")\n",
    "# wrong answer need correct  "
   ]
  },
  {
   "cell_type": "code",
   "execution_count": 17,
   "metadata": {},
   "outputs": [
    {
     "data": {
      "text/plain": [
       "True"
      ]
     },
     "execution_count": 17,
     "metadata": {},
     "output_type": "execute_result"
    }
   ],
   "source": [
    "# alternative method\n",
    "def exist2(board, word):\n",
    "    if not board:\n",
    "        return False\n",
    "    \n",
    "    def dfs(board, i, j, word):\n",
    "        if len(word) ==0:\n",
    "            return True\n",
    "        if i<0 or i>=len(board) or j<0 or j>=len(board[0]) or word[0] != board[i][j]:\n",
    "            return False\n",
    "        temp = board[i][j]\n",
    "        board[i][j] = \"#\"\n",
    "        res = dfs(board, i+1, j, word[1:]) or dfs(board, i-1, j, word[1:]) \\\n",
    "        or dfs(board, i, j-1, word[1:]) or dfs(board, i, j+1, word[1:])\n",
    "        board[i][j] = temp\n",
    "        return res\n",
    "    \n",
    "    for i in range(len(board)):\n",
    "        for j in range(len(board[0])):\n",
    "            if dfs(board, i, j, word):\n",
    "                return True\n",
    "    return False\n",
    "exist2([[\"A\",\"B\",\"C\",\"E\"],[\"S\",\"F\",\"C\",\"S\"],[\"A\",\"D\",\"E\",\"E\"]],\"ABCCED\")\n"
   ]
  },
  {
   "cell_type": "code",
   "execution_count": null,
   "metadata": {},
   "outputs": [],
   "source": []
  }
 ],
 "metadata": {
  "kernelspec": {
   "display_name": "Python 3",
   "language": "python",
   "name": "python3"
  },
  "language_info": {
   "codemirror_mode": {
    "name": "ipython",
    "version": 3
   },
   "file_extension": ".py",
   "mimetype": "text/x-python",
   "name": "python",
   "nbconvert_exporter": "python",
   "pygments_lexer": "ipython3",
   "version": "3.7.4"
  }
 },
 "nbformat": 4,
 "nbformat_minor": 2
}
