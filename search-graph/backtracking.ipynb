{
 "cells": [
  {
   "cell_type": "markdown",
   "metadata": {},
   "source": [
    "# leetcode problem solutions"
   ]
  },
  {
   "cell_type": "code",
   "execution_count": 8,
   "metadata": {},
   "outputs": [
    {
     "data": {
      "text/plain": [
       "[[], [1], [2], [3], [1, 2], [1, 3], [2, 3], [1, 2, 3]]"
      ]
     },
     "execution_count": 8,
     "metadata": {},
     "output_type": "execute_result"
    }
   ],
   "source": [
    "#-----------leetcode 78----------------\n",
    "\"\"\"given a set of distinct integers, nums, return all possible subsets(the power set)\n",
    "solution must not contain duplicate subsets.\"\"\"\n",
    "def subsets(nums):\n",
    "    if nums == []:\n",
    "        return []\n",
    "    res = []\n",
    "    \n",
    "    def dfs(sub, start):\n",
    "        if len(sub) == k:\n",
    "            res.append(sub[:])\n",
    "        \n",
    "        for i in range(start, len(nums)):\n",
    "            sub.append(nums[i])\n",
    "            dfs(sub, i+1)\n",
    "            sub.pop()\n",
    "    for k in range(len(nums) +1): # k is the size of subsets\n",
    "        dfs([], 0)\n",
    "    return res\n",
    "subsets([1,2,3])"
   ]
  },
  {
   "cell_type": "code",
   "execution_count": 24,
   "metadata": {},
   "outputs": [
    {
     "data": {
      "text/plain": [
       "[[], [1], [1, 2], [1, 2, 3], [1, 3], [2], [2, 3], [3]]"
      ]
     },
     "execution_count": 24,
     "metadata": {},
     "output_type": "execute_result"
    }
   ],
   "source": [
    "def sub(nums):\n",
    "    def dfs(start, end,tmp):\n",
    "        ans.append(tmp[:])\n",
    "        for i in range(start, end):\n",
    "            tmp.append(nums[i])\n",
    "            dfs(i+1, end, tmp)\n",
    "            tmp.pop()\n",
    "    ans = []\n",
    "    dfs(0,len(nums), [])\n",
    "    return ans\n",
    "sub([1,2,3])"
   ]
  },
  {
   "cell_type": "code",
   "execution_count": 13,
   "metadata": {},
   "outputs": [
    {
     "data": {
      "text/plain": [
       "[[], [1], [2], [1, 2], [3], [1, 3], [2, 3], [1, 2, 3]]"
      ]
     },
     "execution_count": 13,
     "metadata": {},
     "output_type": "execute_result"
    }
   ],
   "source": [
    "#Method 2 for each element two options, choose or not choose:\n",
    "# []-> [],[1]->[],[1],[2],[1,2]->[],[1],[2],[1,2],[3],[1,3],[2,3],[1,2,3]\n",
    "def subsets2(nums):\n",
    "    n = len(nums)\n",
    "    output = [[]]\n",
    "    \n",
    "    for num in nums:\n",
    "        output += [curr + [num] for curr in output]\n",
    "    return output\n",
    "subsets2([1,2,3])"
   ]
  },
  {
   "cell_type": "code",
   "execution_count": 31,
   "metadata": {},
   "outputs": [
    {
     "data": {
      "text/plain": [
       "[[], [5], [5, 5], [5, 5, 5]]"
      ]
     },
     "execution_count": 31,
     "metadata": {},
     "output_type": "execute_result"
    }
   ],
   "source": [
    "#-------------leetcode 90-------------------\n",
    "\"\"\"given a collection of integers that might contain duplicates, nums, return \n",
    "all possible subsets. Note: the solution must not contain duplicate subsets.\"\"\"\n",
    "# dfs recursion\n",
    "def subsetsWithDup(nums):\n",
    "    def dfs(start, sub):\n",
    "        res.append(sub[:])\n",
    "        for i in range(start, len(nums)):\n",
    "            if i>start and nums[i-1]==nums[i]:\n",
    "                continue\n",
    "            sub.append(nums[i])\n",
    "            dfs(i+1, sub)\n",
    "            sub.pop()\n",
    "    if not nums:\n",
    "        return []\n",
    "    nums.sort()\n",
    "    res = []\n",
    "    dfs(0, [])\n",
    "    return res\n",
    "subsetsWithDup([5,5,5])\n",
    "    "
   ]
  },
  {
   "cell_type": "code",
   "execution_count": 33,
   "metadata": {},
   "outputs": [
    {
     "data": {
      "text/plain": [
       "[[1, 2], [1, 3], [1, 4], [2, 3], [2, 4], [3, 4]]"
      ]
     },
     "execution_count": 33,
     "metadata": {},
     "output_type": "execute_result"
    }
   ],
   "source": [
    "#------------leetcode 77-------------\n",
    "'''combination: given two integers, n and k, return all possible combinations of k numbers\n",
    "out of 1...n'''\n",
    "def combine(n, k):\n",
    "    def dfs(start, sub):\n",
    "        if len(sub) == k:\n",
    "            res.append(sub[:])\n",
    "        for i in range(start, n+1):\n",
    "            sub.append(i)\n",
    "            dfs(i+1, sub)\n",
    "            sub.pop()\n",
    "    res = []\n",
    "    dfs(1, [])\n",
    "    return res\n",
    "combine(4,2)"
   ]
  },
  {
   "cell_type": "code",
   "execution_count": 38,
   "metadata": {},
   "outputs": [
    {
     "data": {
      "text/plain": [
       "[[1, 2], [1, 3], [2, 3], [1, 4], [2, 4], [3, 4]]"
      ]
     },
     "execution_count": 38,
     "metadata": {},
     "output_type": "execute_result"
    }
   ],
   "source": [
    "# method 2: recursion by each element two optins, choose or not choose\n",
    "def combine2(n, k):\n",
    "    combs = [[]]\n",
    "    for _ in range(k):\n",
    "        combs = [[i]+c for c in combs for i in range(1,c[0] if c else n+1)]\n",
    "    return combs\n",
    "combine2(4,2)\n",
    "            "
   ]
  },
  {
   "cell_type": "code",
   "execution_count": 45,
   "metadata": {},
   "outputs": [
    {
     "data": {
      "text/plain": [
       "[[2, 2, 2, 2], [2, 3, 3], [3, 5]]"
      ]
     },
     "execution_count": 45,
     "metadata": {},
     "output_type": "execute_result"
    }
   ],
   "source": [
    "#------------leetcode 39---------------\n",
    "\"\"\"a set of candidates numbers, and a target number, find all unique combinations in \n",
    "candidates where the candidates unilimited number of times\"\"\"\n",
    "def combinationSum(candidates, target):\n",
    "    res = []\n",
    "    n = len(candidates)\n",
    "    def helper(target, curr, start):\n",
    "        if target < 0:\n",
    "            return\n",
    "        if target ==0:\n",
    "            res.append(curr[:])\n",
    "        else:\n",
    "            for i in range(start, n):\n",
    "                curr.append(candidates[i])\n",
    "                helper(target-candidates[i], curr, i)\n",
    "                curr.pop()\n",
    "    \n",
    "    helper(target, [], 0)\n",
    "    return res\n",
    "combinationSum([2,3,5],8)"
   ]
  },
  {
   "cell_type": "code",
   "execution_count": 3,
   "metadata": {},
   "outputs": [
    {
     "data": {
      "text/plain": [
       "[[1, 2, 2], [2, 3]]"
      ]
     },
     "execution_count": 3,
     "metadata": {},
     "output_type": "execute_result"
    }
   ],
   "source": [
    "#--------------leetcode 40--------------\n",
    "\"\"\"Combination Sum II:a collection of candiadates and a target, find all unique combination of \n",
    "candidates sum to target, each number can only use once\"\"\"\n",
    "def combineSum(nums, target):\n",
    "    res = []\n",
    "    def backtrack(start, sub, left):\n",
    "        if left < 0:\n",
    "            return\n",
    "        if left == 0:\n",
    "            res.append(sub[:])\n",
    "        else:\n",
    "            for i in range(start, len(nums)):\n",
    "                if i>start and nums[i]==nums[i-1]:\n",
    "                    continue\n",
    "                sub.append(nums[i])\n",
    "                backtrack(i+1, sub, left-nums[i])\n",
    "                sub.pop()\n",
    "    nums.sort()            \n",
    "    backtrack(0, [], target)\n",
    "    return res\n",
    "combineSum([2,1,2,3,2], 5)"
   ]
  },
  {
   "cell_type": "code",
   "execution_count": 4,
   "metadata": {},
   "outputs": [
    {
     "data": {
      "text/plain": [
       "[[1, 2, 2], [2, 3]]"
      ]
     },
     "execution_count": 4,
     "metadata": {},
     "output_type": "execute_result"
    }
   ],
   "source": [
    "#-modified method, test if element > target, break if true\n",
    "def combinesum(nums, target):\n",
    "    def dfs(target, index, path):\n",
    "        if target <0:\n",
    "            return\n",
    "        if target ==0:\n",
    "            res.append(path)\n",
    "            return\n",
    "        for i in range(index, len(nums)):\n",
    "            if i> index and nums[i]==nums[i-1]:\n",
    "                continue\n",
    "            if nums[i]> target:\n",
    "                break\n",
    "            dfs(target-nums[i], i+1, path+[nums[i]])\n",
    "    nums.sort()\n",
    "    res = []\n",
    "    dfs(target, 0, [])\n",
    "    return res\n",
    "combinesum([2,1,2,3,2], 5)    \n",
    "                    "
   ]
  },
  {
   "cell_type": "code",
   "execution_count": 1,
   "metadata": {},
   "outputs": [],
   "source": [
    "#-------------leetcode 46--------------\n",
    "\"\"\"Permutation: given a collection of distinct integers, return all possible permutations.\n",
    "e.g.: [1,2,3]->[[1,3,2],[1,2,3],[2,1,3],[2,3,1],[3,1,2],[3,2,1]]\"\"\"\n",
    "# recursion\n",
    "def permute(nums):\n",
    "    def backtrack(start,end):\n",
    "        if start == end:\n",
    "            ans.append(nums.copy())\n",
    "        for i in range(start, end):\n",
    "            nums[start], nums[i] = nums[i], nums[start]\n",
    "            backtrack(start+1, end)\n",
    "            nums[start], nums[i] = nums[i], nums[start]\n",
    "    ans = []\n",
    "    backtrack(0, len(nums))\n",
    "    return ans\n",
    "            \n",
    "            \n",
    "        "
   ]
  },
  {
   "cell_type": "code",
   "execution_count": 9,
   "metadata": {},
   "outputs": [
    {
     "data": {
      "text/plain": [
       "[[1, 2, 3], [1, 3, 2], [2, 1, 3], [2, 3, 1], [3, 1, 2], [3, 2, 1]]"
      ]
     },
     "execution_count": 9,
     "metadata": {},
     "output_type": "execute_result"
    }
   ],
   "source": [
    "def permute(nums):\n",
    "    def backtrack(sub):\n",
    "        if len(sub) == n:\n",
    "            res.append(sub[:])\n",
    "        for i in range(n):\n",
    "            if nums[i] in sub:\n",
    "                continue\n",
    "            sub.append(nums[i])\n",
    "            backtrack(sub)\n",
    "            sub.pop()\n",
    "    res = []\n",
    "    n = len(nums)\n",
    "    backtrack([])\n",
    "    return res\n",
    "permute([1,2,3])"
   ]
  },
  {
   "cell_type": "code",
   "execution_count": 13,
   "metadata": {},
   "outputs": [
    {
     "data": {
      "text/plain": [
       "[[1, 2, 4]]"
      ]
     },
     "execution_count": 13,
     "metadata": {},
     "output_type": "execute_result"
    }
   ],
   "source": [
    "#----------------leetcode 216-------------\n",
    "\"\"\"combinations III: find all possible combinations of k numbers that add up to a number n, \n",
    "given that only numbers from 1 to 9,each number can be used only onece.no duplicate in \n",
    "solution set\"\"\"\n",
    "def combine3(n, k):\n",
    "    def backtrack(sub, k, n, start):\n",
    "        if n<0:\n",
    "            return\n",
    "        if len(sub)==k and n==0:\n",
    "            res.append(sub[:])\n",
    "        for i in range(start, 10):\n",
    "            if i in sub:\n",
    "                continue\n",
    "            if i>n:\n",
    "                break\n",
    "            sub.append(i)\n",
    "            backtrack(sub, k, n-i, i+1)\n",
    "            sub.pop()\n",
    "    res = []\n",
    "    backtrack([], k, n, 1)\n",
    "    return res\n",
    "combine3(7,3)"
   ]
  },
  {
   "cell_type": "code",
   "execution_count": 3,
   "metadata": {},
   "outputs": [],
   "source": [
    "#-----------leetcode 47-----------\n",
    "\"\"\"given a collection of numbers that might contain duplicates, return all possible unique \n",
    "permutaions.\"\"\"\n",
    "def permuteUnique(nums):\n",
    "    res = []\n",
    "    def DFS(nums, start):\n",
    "        if start == n-1:\n",
    "            res.append(nums[:])\n",
    "            return\n",
    "        for i in range(start, n):\n",
    "            if i>start and nums[i] ==nums[start]:\n",
    "                continue\n",
    "            nums[start], nums[i] = nums[i], nums[start]\n",
    "            DFS(nums[:], start+1)\n",
    "    nums.sort()\n",
    "    n= len(nums)\n",
    "    DFS(nums, 0)\n",
    "    return res"
   ]
  },
  {
   "cell_type": "code",
   "execution_count": null,
   "metadata": {},
   "outputs": [],
   "source": [
    "#-------------leetcode 44------------------\n",
    "\"\"\"given an input string and a pattern, inplement wildcard pattern matching with support '?' to\n",
    "match any charactor, and '*' matches any sequence include empty sequence\"\"\"\n",
    "def isMatch(s, p):\n",
    "    "
   ]
  }
 ],
 "metadata": {
  "kernelspec": {
   "display_name": "Python 3",
   "language": "python",
   "name": "python3"
  },
  "language_info": {
   "codemirror_mode": {
    "name": "ipython",
    "version": 3
   },
   "file_extension": ".py",
   "mimetype": "text/x-python",
   "name": "python",
   "nbconvert_exporter": "python",
   "pygments_lexer": "ipython3",
   "version": "3.7.4"
  }
 },
 "nbformat": 4,
 "nbformat_minor": 2
}
