{
 "cells": [
  {
   "cell_type": "markdown",
   "metadata": {},
   "source": [
    "# leetcode problem solutions"
   ]
  },
  {
   "cell_type": "code",
   "execution_count": 8,
   "metadata": {},
   "outputs": [
    {
     "data": {
      "text/plain": [
       "[[], [1], [2], [3], [1, 2], [1, 3], [2, 3], [1, 2, 3]]"
      ]
     },
     "execution_count": 8,
     "metadata": {},
     "output_type": "execute_result"
    }
   ],
   "source": [
    "#-----------leetcode 78----------------\n",
    "\"\"\"given a set of distinct integers, nums, return all possible subsets(the power set)\n",
    "solution must not contain duplicate subsets.\"\"\"\n",
    "def subsets(nums):\n",
    "    if nums == []:\n",
    "        return []\n",
    "    res = []\n",
    "    \n",
    "    def dfs(sub, start):\n",
    "        if len(sub) == k:\n",
    "            res.append(sub[:])\n",
    "        \n",
    "        for i in range(start, len(nums)):\n",
    "            sub.append(nums[i])\n",
    "            dfs(sub, i+1)\n",
    "            sub.pop()\n",
    "    for k in range(len(nums) +1): # k is the size of subsets\n",
    "        dfs([], 0)\n",
    "    return res\n",
    "subsets([1,2,3])"
   ]
  },
  {
   "cell_type": "code",
   "execution_count": 24,
   "metadata": {},
   "outputs": [
    {
     "data": {
      "text/plain": [
       "[[], [1], [1, 2], [1, 2, 3], [1, 3], [2], [2, 3], [3]]"
      ]
     },
     "execution_count": 24,
     "metadata": {},
     "output_type": "execute_result"
    }
   ],
   "source": [
    "def sub(nums):\n",
    "    def dfs(start, end,tmp):\n",
    "        ans.append(tmp[:])\n",
    "        for i in range(start, end):\n",
    "            tmp.append(nums[i])\n",
    "            dfs(i+1, end, tmp)\n",
    "            tmp.pop()\n",
    "    ans = []\n",
    "    dfs(0,len(nums), [])\n",
    "    return ans\n",
    "sub([1,2,3])"
   ]
  },
  {
   "cell_type": "code",
   "execution_count": 13,
   "metadata": {},
   "outputs": [
    {
     "data": {
      "text/plain": [
       "[[], [1], [2], [1, 2], [3], [1, 3], [2, 3], [1, 2, 3]]"
      ]
     },
     "execution_count": 13,
     "metadata": {},
     "output_type": "execute_result"
    }
   ],
   "source": [
    "#Method 2 for each element two options, choose or not choose:\n",
    "# []-> [],[1]->[],[1],[2],[1,2]->[],[1],[2],[1,2],[3],[1,3],[2,3],[1,2,3]\n",
    "def subsets2(nums):\n",
    "    n = len(nums)\n",
    "    output = [[]]\n",
    "    \n",
    "    for num in nums:\n",
    "        output += [curr + [num] for curr in output]\n",
    "    return output\n",
    "subsets2([1,2,3])"
   ]
  },
  {
   "cell_type": "code",
   "execution_count": 31,
   "metadata": {},
   "outputs": [
    {
     "data": {
      "text/plain": [
       "[[], [5], [5, 5], [5, 5, 5]]"
      ]
     },
     "execution_count": 31,
     "metadata": {},
     "output_type": "execute_result"
    }
   ],
   "source": [
    "#-------------leetcode 90-------------------\n",
    "\"\"\"given a collection of integers that might contain duplicates, nums, return \n",
    "all possible subsets. Note: the solution must not contain duplicate subsets.\"\"\"\n",
    "# dfs recursion\n",
    "def subsetsWithDup(nums):\n",
    "    def dfs(start, sub):\n",
    "        res.append(sub[:])\n",
    "        for i in range(start, len(nums)):\n",
    "            if i>start and nums[i-1]==nums[i]:\n",
    "                continue\n",
    "            sub.append(nums[i])\n",
    "            dfs(i+1, sub)\n",
    "            sub.pop()\n",
    "    if not nums:\n",
    "        return []\n",
    "    nums.sort()\n",
    "    res = []\n",
    "    dfs(0, [])\n",
    "    return res\n",
    "subsetsWithDup([5,5,5])\n",
    "    "
   ]
  },
  {
   "cell_type": "code",
   "execution_count": null,
   "metadata": {},
   "outputs": [],
   "source": []
  },
  {
   "cell_type": "code",
   "execution_count": null,
   "metadata": {},
   "outputs": [],
   "source": []
  },
  {
   "cell_type": "code",
   "execution_count": null,
   "metadata": {},
   "outputs": [],
   "source": []
  },
  {
   "cell_type": "code",
   "execution_count": null,
   "metadata": {},
   "outputs": [],
   "source": []
  },
  {
   "cell_type": "code",
   "execution_count": 1,
   "metadata": {},
   "outputs": [],
   "source": [
    "#-------------leetcode 46--------------\n",
    "\"\"\"Permutation: given a collection of distinct integers, return all possible permutations.\n",
    "e.g.: [1,2,3]->[[1,3,2],[1,2,3],[2,1,3],[2,3,1],[3,1,2],[3,2,1]]\"\"\"\n",
    "# recursion\n",
    "def permute(nums):\n",
    "    def backtrack(start,end):\n",
    "        if start == end:\n",
    "            ans.append(nums.copy())\n",
    "        for i in range(start, end):\n",
    "            nums[start], nums[i] = nums[i], nums[start]\n",
    "            backtrack(start+1, end)\n",
    "            nums[start], nums[i] = nums[i], nums[start]\n",
    "    ans = []\n",
    "    backtrack(0, len(nums))\n",
    "    return ans\n",
    "            \n",
    "            \n",
    "        "
   ]
  },
  {
   "cell_type": "code",
   "execution_count": null,
   "metadata": {},
   "outputs": [],
   "source": []
  }
 ],
 "metadata": {
  "kernelspec": {
   "display_name": "Python 3",
   "language": "python",
   "name": "python3"
  },
  "language_info": {
   "codemirror_mode": {
    "name": "ipython",
    "version": 3
   },
   "file_extension": ".py",
   "mimetype": "text/x-python",
   "name": "python",
   "nbconvert_exporter": "python",
   "pygments_lexer": "ipython3",
   "version": "3.7.4"
  }
 },
 "nbformat": 4,
 "nbformat_minor": 2
}
