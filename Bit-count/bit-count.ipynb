{
 "cells": [
  {
   "cell_type": "markdown",
   "metadata": {},
   "source": [
    "# leetcode problem solutions"
   ]
  },
  {
   "cell_type": "markdown",
   "metadata": {},
   "source": [
    "## 0-1 knapsack dp problems"
   ]
  },
  {
   "cell_type": "code",
   "execution_count": 2,
   "metadata": {},
   "outputs": [],
   "source": [
    "#-----------leetcode 139-------------\n",
    "\"\"\"word break:given a string and dict, containing words, determine if s can be segmented into a \n",
    "space-seperated sequence of one or more dictionary words. same words can be reused multiple times\n",
    "no duplicate in dictionary.\"\"\"\n",
    "def wordBreak(s, wordDict):\n",
    "    if not wordDict or len(wordDict)==0:\n",
    "        return False\n",
    "    dp = [False for _ in range(len(s)+1)]\n",
    "    dp[0] = True\n",
    "    for i in range(1, len(s)+1):\n",
    "        for word in wordDict:\n",
    "            n = len(word)\n",
    "            if n <= i and word == s[i-n:i]:\n",
    "                dp[i] = dp[i] or dp[i-n]\n",
    "    return dp[len(s)]"
   ]
  },
  {
   "cell_type": "markdown",
   "metadata": {},
   "source": [
    "## string edit distance"
   ]
  },
  {
   "cell_type": "code",
   "execution_count": 2,
   "metadata": {},
   "outputs": [],
   "source": [
    "#-----------leetcode 583--------------\n",
    "\"\"\"delete operation for two strings:given two strings, find the minimum number of steps required to make \n",
    "the strings same, where in each step you can delete one character in dither string.\"\"\"\n",
    "# dp lcs method find the lcs of two strings\n",
    "def minDistance(word1, word2):\n",
    "    m,n = len(word1), len(word2)\n",
    "    if m==0: return n\n",
    "    if n==0: return m\n",
    "    dp = [[0 for _ in range(n+1)] for _ in range(m+1)]\n",
    "    for i in range(1, m+1):\n",
    "        for j in range(1, n+1):\n",
    "            if word1[i-1] == word2[j-1]:\n",
    "                dp[i][j] = dp[i-1][j-1] +1\n",
    "            else:\n",
    "                dp[i][j] = max(dp[i-1][j], dp[i][j-1])\n",
    "    return m+n- 2*dp[m][n]    "
   ]
  },
  {
   "cell_type": "code",
   "execution_count": 3,
   "metadata": {},
   "outputs": [],
   "source": [
    "# method 2: dp edit distance\n",
    "def minDistance2(word1, word2):\n",
    "    m, n = len(word1), len(word2)\n",
    "    dp = [[0 for _ in range(n+1)] for _ in range(m+1)]\n",
    "    for i in range(m+1):\n",
    "        dp[i][0] = i\n",
    "    for j in range(n+1):\n",
    "        dp[0][j] = j\n",
    "    for i in range(1, m+1):\n",
    "        for j in range(1, n+1):\n",
    "            if word1[i-1] == word2[j-1]:\n",
    "                dp[i][j] = dp[i-1][j-1]\n",
    "            else:\n",
    "                dp[i][j] = min(dp[i-1][j], dp[i][j-1])+1\n",
    "    return dp[m][n]        "
   ]
  },
  {
   "cell_type": "code",
   "execution_count": 9,
   "metadata": {},
   "outputs": [
    {
     "data": {
      "text/plain": [
       "8"
      ]
     },
     "execution_count": 9,
     "metadata": {},
     "output_type": "execute_result"
    }
   ],
   "source": [
    "# method 3 dfs + memo\n",
    "def mindistance(word1, word2):\n",
    "    m,n = len(word1), len(word2)\n",
    "    memo = [[0 for _ in range(n+1)] for _ in range(m+1)]\n",
    "    \n",
    "    def dfs(word1, word2, p1, p2, memo):\n",
    "        if memo[p1][p2] !=0:\n",
    "            return memo[p1][p2]\n",
    "        n1, n2 = len(word1), len(word2)\n",
    "        if p1==n1 or p2 ==n2:\n",
    "            return n1-p1 +n2-p2\n",
    "        if word1[p1]==word2[p2]:\n",
    "            memo[p1][p2] = dfs(word1, word2, p1+1, p2+1, memo)\n",
    "        else:\n",
    "            memo[p1][p2] = 1+ min(dfs(word1,word2,p1+1,p2,memo), dfs(word1,word2,p1,p2+1,memo))\n",
    "        return memo[p1][p2]\n",
    "    return dfs(word1, word2, 0, 0, memo)\n",
    "mindistance('intention', 'execution')\n"
   ]
  },
  {
   "cell_type": "code",
   "execution_count": 12,
   "metadata": {},
   "outputs": [],
   "source": [
    "#-------------leetcode 72----------------\n",
    "\"\"\"edit distance:given two words, find the minimum number of opereations required to convert word1\n",
    " to word2. you can insert or delete or replace a character.\"\"\"\n",
    "def minDistance(word1, word2):\n",
    "    m, n = len(word1), len(word2)\n",
    "    dp = [[0 for _ in range(n+1)] for _ in range(m+1)]\n",
    "    for i in range(m+1):\n",
    "        dp[i][0] = i\n",
    "    for i in range(n+1):\n",
    "        dp[0][i] = i\n",
    "    for i in range(1, m+1):\n",
    "        for j in range(1, n+1):\n",
    "            if word1[i-1] == word2[j-1]:\n",
    "                dp[i][j] = dp[i-1][j-1]\n",
    "            else:\n",
    "                dp[i][j] = min(dp[i-1][j-1], dp[i-1][j], dp[i][j-1])+1\n",
    "    return dp[m][n]"
   ]
  },
  {
   "cell_type": "code",
   "execution_count": 14,
   "metadata": {},
   "outputs": [],
   "source": [
    "# method 2\n",
    "def minDistace(word1, word2):\n",
    "    def helper(i,j):\n",
    "        if i<0 or j<0:\n",
    "            return i+1+j+1\n",
    "        if (i,j) in memo:\n",
    "            return memo[(i,j)]\n",
    "        if word1[i] ==word2[j]:\n",
    "            result = helper(i-1,j-1)\n",
    "        else:\n",
    "            result = 1+ min(helper(i-1,j-1),\n",
    "                           helper(i,j-1),\n",
    "                           helper(i-1,j))\n",
    "        memo[(i,j)] = result\n",
    "        return result\n",
    "    memo = {}\n",
    "    return helper(len(word1)-1, len(word2)-1)"
   ]
  },
  {
   "cell_type": "code",
   "execution_count": 27,
   "metadata": {},
   "outputs": [
    {
     "data": {
      "text/plain": [
       "6"
      ]
     },
     "execution_count": 27,
     "metadata": {},
     "output_type": "execute_result"
    }
   ],
   "source": [
    "#-------------leetcode 650--------------\n",
    "\"\"\"2 keys keyboard: initially on anotepad only one charactor is present, you can perform two operation\n",
    "on this notepad for each step.1. copy all. 2.paste the charactor copied last time.\"\"\"\n",
    "# method 2 recursion time O(n*m)\n",
    "def minSteps2(n):\n",
    "    if n==1: return 0\n",
    "    res = n\n",
    "    for i in range(n-1, 1, -1):\n",
    "        if n % i ==0:\n",
    "            res = min(res, minSteps2(n//i)+i)\n",
    "    return res\n",
    "minSteps2(9)\n"
   ]
  },
  {
   "cell_type": "code",
   "execution_count": 32,
   "metadata": {},
   "outputs": [
    {
     "data": {
      "text/plain": [
       "6"
      ]
     },
     "execution_count": 32,
     "metadata": {},
     "output_type": "execute_result"
    }
   ],
   "source": [
    "# dp method time O(n**2)\n",
    "\n",
    "def minsteps(n):\n",
    "    dp = [0 for _ in range(n+1)]\n",
    "    h = int(math.sqrt(n))\n",
    "    for i in range(2, n+1):\n",
    "        dp[i] = i\n",
    "        for j in range(2, h+1):\n",
    "            if i % j ==0:\n",
    "                dp[i] = dp[j]+ dp[i//j]\n",
    "                break\n",
    "    return dp[n]\n",
    "minsteps(9)"
   ]
  },
  {
   "cell_type": "code",
   "execution_count": 28,
   "metadata": {},
   "outputs": [
    {
     "data": {
      "text/plain": [
       "5"
      ]
     },
     "execution_count": 28,
     "metadata": {},
     "output_type": "execute_result"
    }
   ],
   "source": [
    "# math: prime factors method time limit exceeded\n",
    "def minSteps(n):\n",
    "    if n <= 1:\n",
    "        return 0\n",
    "    for i in range(2, int(sqrt(n))+1):\n",
    "        if n % i ==0:\n",
    "            return i +minSteps(n//i)\n",
    "    return n"
   ]
  },
  {
   "cell_type": "markdown",
   "metadata": {},
   "source": [
    "# bit count leetcode"
   ]
  },
  {
   "cell_type": "code",
   "execution_count": 12,
   "metadata": {},
   "outputs": [
    {
     "data": {
      "text/plain": [
       "True"
      ]
     },
     "execution_count": 12,
     "metadata": {},
     "output_type": "execute_result"
    }
   ],
   "source": [
    "x=3\n",
    "y=5\n",
    "-y == ~y+1"
   ]
  },
  {
   "cell_type": "code",
   "execution_count": 13,
   "metadata": {},
   "outputs": [
    {
     "data": {
      "text/plain": [
       "2"
      ]
     },
     "execution_count": 13,
     "metadata": {},
     "output_type": "execute_result"
    }
   ],
   "source": [
    "#--------------leetcode 461---------------\n",
    "\"\"\"hamming distance: between two integers is the number of positions at which the corresponding \n",
    "bits are different. calculate the hamming distance of two numbers.\"\"\"\n",
    "def hammingdistance(x, y):\n",
    "    return bin(x^y).count('1')\n",
    "hammingdistance(1, 4)"
   ]
  },
  {
   "cell_type": "code",
   "execution_count": 14,
   "metadata": {},
   "outputs": [
    {
     "data": {
      "text/plain": [
       "2"
      ]
     },
     "execution_count": 14,
     "metadata": {},
     "output_type": "execute_result"
    }
   ],
   "source": [
    "def hammingDistance(x, y):\n",
    "    xor = x ^ y\n",
    "    count = 0\n",
    "    for _ in range(32):\n",
    "        count += xor & 1\n",
    "        xor = xor >> 1\n",
    "    return count\n",
    "hammingDistance(1, 4)    "
   ]
  },
  {
   "cell_type": "code",
   "execution_count": 15,
   "metadata": {},
   "outputs": [
    {
     "ename": "KeyboardInterrupt",
     "evalue": "",
     "output_type": "error",
     "traceback": [
      "\u001b[1;31m---------------------------------------------------------------------------\u001b[0m",
      "\u001b[1;31mKeyboardInterrupt\u001b[0m                         Traceback (most recent call last)",
      "\u001b[1;32m<ipython-input-15-bef1ebe7ca08>\u001b[0m in \u001b[0;36m<module>\u001b[1;34m\u001b[0m\n\u001b[0;32m      6\u001b[0m         \u001b[0mcount\u001b[0m \u001b[1;33m+=\u001b[0m \u001b[1;36m1\u001b[0m\u001b[1;33m\u001b[0m\u001b[1;33m\u001b[0m\u001b[0m\n\u001b[0;32m      7\u001b[0m     \u001b[1;32mreturn\u001b[0m \u001b[0mcount\u001b[0m\u001b[1;33m\u001b[0m\u001b[1;33m\u001b[0m\u001b[0m\n\u001b[1;32m----> 8\u001b[1;33m \u001b[0mhammingdis\u001b[0m\u001b[1;33m(\u001b[0m\u001b[1;36m1\u001b[0m\u001b[1;33m,\u001b[0m \u001b[1;36m4\u001b[0m\u001b[1;33m)\u001b[0m\u001b[1;33m\u001b[0m\u001b[1;33m\u001b[0m\u001b[0m\n\u001b[0m",
      "\u001b[1;32m<ipython-input-15-bef1ebe7ca08>\u001b[0m in \u001b[0;36mhammingdis\u001b[1;34m(x, y)\u001b[0m\n\u001b[0;32m      4\u001b[0m     \u001b[1;32mwhile\u001b[0m \u001b[0mz\u001b[0m \u001b[1;33m!=\u001b[0m\u001b[1;36m0\u001b[0m\u001b[1;33m:\u001b[0m\u001b[1;33m\u001b[0m\u001b[1;33m\u001b[0m\u001b[0m\n\u001b[0;32m      5\u001b[0m         \u001b[0mz\u001b[0m \u001b[1;33m&\u001b[0m \u001b[1;33m(\u001b[0m\u001b[0mz\u001b[0m\u001b[1;33m-\u001b[0m\u001b[1;36m1\u001b[0m\u001b[1;33m)\u001b[0m\u001b[1;33m\u001b[0m\u001b[1;33m\u001b[0m\u001b[0m\n\u001b[1;32m----> 6\u001b[1;33m         \u001b[0mcount\u001b[0m \u001b[1;33m+=\u001b[0m \u001b[1;36m1\u001b[0m\u001b[1;33m\u001b[0m\u001b[1;33m\u001b[0m\u001b[0m\n\u001b[0m\u001b[0;32m      7\u001b[0m     \u001b[1;32mreturn\u001b[0m \u001b[0mcount\u001b[0m\u001b[1;33m\u001b[0m\u001b[1;33m\u001b[0m\u001b[0m\n\u001b[0;32m      8\u001b[0m \u001b[0mhammingdis\u001b[0m\u001b[1;33m(\u001b[0m\u001b[1;36m1\u001b[0m\u001b[1;33m,\u001b[0m \u001b[1;36m4\u001b[0m\u001b[1;33m)\u001b[0m\u001b[1;33m\u001b[0m\u001b[1;33m\u001b[0m\u001b[0m\n",
      "\u001b[1;31mKeyboardInterrupt\u001b[0m: "
     ]
    }
   ],
   "source": [
    "# too slow \n",
    "def hammingdis(x, y):\n",
    "    z = x ^y\n",
    "    count = 0\n",
    "    while z !=0:\n",
    "        z & (z-1)\n",
    "        count += 1\n",
    "    return count\n",
    "hammingdis(1, 4)"
   ]
  },
  {
   "cell_type": "code",
   "execution_count": 17,
   "metadata": {},
   "outputs": [
    {
     "data": {
      "text/plain": [
       "4"
      ]
     },
     "execution_count": 17,
     "metadata": {},
     "output_type": "execute_result"
    }
   ],
   "source": [
    "#-----------leetcode 136--------------\n",
    "\"\"\"single number:given a non-empty array of integers, every element appears twice except for one.\n",
    "find that single that single one.Note: time O(n). space: O(1)\"\"\"\n",
    "# bit manipulation\n",
    "def singleNumber(nums):\n",
    "    res = nums[0]\n",
    "    for i in range(1, len(nums)):\n",
    "        res = res ^ nums[i]\n",
    "    return res\n",
    "singleNumber([4,2,1,2,1])"
   ]
  },
  {
   "cell_type": "code",
   "execution_count": 19,
   "metadata": {},
   "outputs": [
    {
     "data": {
      "text/plain": [
       "4"
      ]
     },
     "execution_count": 19,
     "metadata": {},
     "output_type": "execute_result"
    }
   ],
   "source": [
    "# math 2*(a+b)-(a+b+a) time O(n), space O(n)\n",
    "def singleNumber2(nums):\n",
    "    return 2* sum(set(nums)) - sum(nums)\n",
    "singleNumber2([4,2,1,2,1])"
   ]
  },
  {
   "cell_type": "code",
   "execution_count": null,
   "metadata": {},
   "outputs": [],
   "source": [
    "#----------leetcode 268---------------\n",
    "\"\"\"missing number:\"\"\""
   ]
  }
 ],
 "metadata": {
  "kernelspec": {
   "display_name": "Python 3",
   "language": "python",
   "name": "python3"
  },
  "language_info": {
   "codemirror_mode": {
    "name": "ipython",
    "version": 3
   },
   "file_extension": ".py",
   "mimetype": "text/x-python",
   "name": "python",
   "nbconvert_exporter": "python",
   "pygments_lexer": "ipython3",
   "version": "3.7.4"
  }
 },
 "nbformat": 4,
 "nbformat_minor": 2
}
