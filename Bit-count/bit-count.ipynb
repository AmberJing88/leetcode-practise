{
 "cells": [
  {
   "cell_type": "markdown",
   "metadata": {},
   "source": [
    "# leetcode problem solutions"
   ]
  },
  {
   "cell_type": "code",
   "execution_count": 12,
   "metadata": {},
   "outputs": [
    {
     "data": {
      "text/plain": [
       "True"
      ]
     },
     "execution_count": 12,
     "metadata": {},
     "output_type": "execute_result"
    }
   ],
   "source": [
    "x=3\n",
    "y=5\n",
    "-y == ~y+1"
   ]
  },
  {
   "cell_type": "code",
   "execution_count": 13,
   "metadata": {},
   "outputs": [
    {
     "data": {
      "text/plain": [
       "2"
      ]
     },
     "execution_count": 13,
     "metadata": {},
     "output_type": "execute_result"
    }
   ],
   "source": [
    "#--------------leetcode 461---------------\n",
    "\"\"\"hamming distance: between two integers is the number of positions at which the corresponding \n",
    "bits are different. calculate the hamming distance of two numbers.\"\"\"\n",
    "def hammingdistance(x, y):\n",
    "    return bin(x^y).count('1')\n",
    "hammingdistance(1, 4)"
   ]
  },
  {
   "cell_type": "code",
   "execution_count": 14,
   "metadata": {},
   "outputs": [
    {
     "data": {
      "text/plain": [
       "2"
      ]
     },
     "execution_count": 14,
     "metadata": {},
     "output_type": "execute_result"
    }
   ],
   "source": [
    "def hammingDistance(x, y):\n",
    "    xor = x ^ y\n",
    "    count = 0\n",
    "    for _ in range(32):\n",
    "        count += xor & 1\n",
    "        xor = xor >> 1\n",
    "    return count\n",
    "hammingDistance(1, 4)    "
   ]
  },
  {
   "cell_type": "code",
   "execution_count": 1,
   "metadata": {},
   "outputs": [],
   "source": [
    "# too slow \n",
    "def hammingdis(x, y):\n",
    "    z = x ^y\n",
    "    count = 0\n",
    "    while z !=0:\n",
    "        z & (z-1)\n",
    "        count += 1\n",
    "    return count\n"
   ]
  },
  {
   "cell_type": "code",
   "execution_count": 17,
   "metadata": {},
   "outputs": [
    {
     "data": {
      "text/plain": [
       "4"
      ]
     },
     "execution_count": 17,
     "metadata": {},
     "output_type": "execute_result"
    }
   ],
   "source": [
    "#-----------leetcode 136--------------\n",
    "\"\"\"single number:given a non-empty array of integers, every element appears twice except for one.\n",
    "find that single that single one.Note: time O(n). space: O(1)\"\"\"\n",
    "# bit manipulation\n",
    "def singleNumber(nums):\n",
    "    res = nums[0]\n",
    "    for i in range(1, len(nums)):\n",
    "        res = res ^ nums[i]\n",
    "    return res\n",
    "singleNumber([4,2,1,2,1])"
   ]
  },
  {
   "cell_type": "code",
   "execution_count": 19,
   "metadata": {},
   "outputs": [
    {
     "data": {
      "text/plain": [
       "4"
      ]
     },
     "execution_count": 19,
     "metadata": {},
     "output_type": "execute_result"
    }
   ],
   "source": [
    "# math 2*(a+b)-(a+b+a) time O(n), space O(n)\n",
    "def singleNumber2(nums):\n",
    "    return 2* sum(set(nums)) - sum(nums)\n",
    "singleNumber2([4,2,1,2,1])"
   ]
  },
  {
   "cell_type": "code",
   "execution_count": 20,
   "metadata": {},
   "outputs": [
    {
     "data": {
      "text/plain": [
       "8"
      ]
     },
     "execution_count": 20,
     "metadata": {},
     "output_type": "execute_result"
    }
   ],
   "source": [
    "#----------leetcode 268---------------\n",
    "\"\"\"missing number: given array with n distinct numbers taken from 0,1,2,...,n, find the one that is\n",
    "missing from the array. Note: time O(n), space O(n)\"\"\"\n",
    "# hashset time O(n), space O(n)\n",
    "def missingNumber(nums):\n",
    "    numset = set(nums)\n",
    "    n = len(nums)+1\n",
    "    for num in range(n):\n",
    "        if num not in numset:\n",
    "            return num\n",
    "missingNumber([9,6,4,2,3,5,7,0,1])"
   ]
  },
  {
   "cell_type": "code",
   "execution_count": 21,
   "metadata": {},
   "outputs": [
    {
     "data": {
      "text/plain": [
       "8"
      ]
     },
     "execution_count": 21,
     "metadata": {},
     "output_type": "execute_result"
    }
   ],
   "source": [
    "# bit manipulation time O(n), space O(1)\n",
    "def missingNumber2(nums):\n",
    "    res = len(nums)\n",
    "    for i, n in enumerate(nums):\n",
    "        res = res ^i ^n\n",
    "    return res\n",
    "missingNumber2([9,6,4,2,3,5,7,0,1])"
   ]
  },
  {
   "cell_type": "code",
   "execution_count": 22,
   "metadata": {},
   "outputs": [
    {
     "data": {
      "text/plain": [
       "8"
      ]
     },
     "execution_count": 22,
     "metadata": {},
     "output_type": "execute_result"
    }
   ],
   "source": [
    "# math (1+n)*n/2 ==sum(1+...+n) time O(n), space O(1)\n",
    "def missingnum(nums):\n",
    "    exepected_sum = len(nums)* (len(nums)+1)//2\n",
    "    return exepected_sum - sum(nums)\n",
    "missingnum([9,6,4,2,3,5,7,0,1])"
   ]
  },
  {
   "cell_type": "code",
   "execution_count": 24,
   "metadata": {},
   "outputs": [
    {
     "data": {
      "text/plain": [
       "[3, 5]"
      ]
     },
     "execution_count": 24,
     "metadata": {},
     "output_type": "execute_result"
    }
   ],
   "source": [
    "#----------leetcode 260------------\n",
    "\"\"\"single number III: given array, in which exactly two elements appear only once and all the other\n",
    "elsements appear twice. find the two single numbers. Note: time O(n), space O(1)\"\"\"\n",
    "# bit manipulation\n",
    "def singleNumbers3(nums):\n",
    "    xor = 0\n",
    "    a, b = 0, 0\n",
    "    for num in nums:\n",
    "        xor ^= num\n",
    "    diff = xor & (-xor)\n",
    "    for num in nums:\n",
    "        if num & diff:\n",
    "            a ^= num\n",
    "        else:\n",
    "            b ^= num\n",
    "    return [a,b]\n",
    "singleNumbers3([1,2,1,3,2,5])"
   ]
  },
  {
   "cell_type": "code",
   "execution_count": 2,
   "metadata": {},
   "outputs": [],
   "source": [
    "#------------leetcode 190----------------\n",
    "\"\"\"reverse bits: reverse bits of given 32 bits unsigned integer. Follow up optimize the frequently\n",
    "called fuction.\"\"\"\n",
    "# move bit by bit\n",
    "# @param n, an integer\n",
    "# @return an integer\n",
    "def reverseBits(n):\n",
    "    res = 0\n",
    "    for i in range(32):\n",
    "        if n &1 == 1:\n",
    "            res = (res << 1) +1\n",
    "        else:\n",
    "            res = res <<1\n",
    "        n = n >> 1\n",
    "    return res"
   ]
  },
  {
   "cell_type": "code",
   "execution_count": 3,
   "metadata": {},
   "outputs": [],
   "source": [
    "def reverseBits(n):\n",
    "    res = 0\n",
    "    for i in range(32):\n",
    "        res = (res << 1) + (n &1)\n",
    "        n >>= 1\n",
    "    return res"
   ]
  },
  {
   "cell_type": "code",
   "execution_count": 5,
   "metadata": {},
   "outputs": [],
   "source": [
    "# for frequently call use\n",
    "# \"reverse the bits in a byte with 3 operations\" algorithm\n",
    "from functools import lru_cache\n",
    "def reversebits(n):\n",
    "    res, power = 0, 24\n",
    "    while n:\n",
    "        res += self.reverseByte(n & 0xff) << power\n",
    "        n = n >> 8\n",
    "        power -= 8\n",
    "    return res\n",
    "@ lru_cache(maxsize=256)\n",
    "def reverseByte(self, byte):\n",
    "    return (byte * 0x0202020202 & 0x010884422010) % 1023"
   ]
  },
  {
   "cell_type": "code",
   "execution_count": 6,
   "metadata": {},
   "outputs": [],
   "source": [
    "# mask + shift amazing answer\n",
    "def reverseBits(n):\n",
    "    n = (n >> 16) | (n << 16)\n",
    "    n = ((n & 0xff00ff00) >> 8) | ((n & 0x00ff00ff) << 8)\n",
    "    n = ((n & 0xf0f0f0f0) >> 4) | ((n & 0x0f0f0f0f) << 4)\n",
    "    n = ((n & 0xcccccccc) >> 2) | ((n & 0x33333333) << 2)\n",
    "    n = ((n & 0xaaaaaaaa) >> 1) | ((n & 0x55555555) << 1)\n",
    "    return n"
   ]
  },
  {
   "cell_type": "code",
   "execution_count": 10,
   "metadata": {},
   "outputs": [
    {
     "data": {
      "text/plain": [
       "(7, 3)"
      ]
     },
     "execution_count": 10,
     "metadata": {},
     "output_type": "execute_result"
    }
   ],
   "source": [
    "# 程序员面试指南 317\n",
    "\"\"\"不用额外变量交换两个变量的值\"\"\"\n",
    "def shiftValue(a, b):\n",
    "    a = a ^ b\n",
    "    b = a ^ b\n",
    "    a = a ^ b\n",
    "    return (a,b)\n",
    "shiftValue(3, 7)"
   ]
  },
  {
   "cell_type": "code",
   "execution_count": 8,
   "metadata": {},
   "outputs": [],
   "source": [
    "#-------------leetcode 231---------------\n",
    "\"\"\"power of 2: determine the given number is the power of 2\"\"\"\n",
    "def isPowerOfTwo(n):\n",
    "    return n >0 and bin(n).count(\"1\")==1\n",
    "\n",
    "def isPowertwo(n):\n",
    "    return n>0 and not n&(n-1)"
   ]
  },
  {
   "cell_type": "code",
   "execution_count": 9,
   "metadata": {},
   "outputs": [],
   "source": [
    "#--------------leetcode 342----------------\n",
    "\"\"\"power of 4: determine the given number (signed 32 bit) is the power of 4.\"\"\"\n",
    "def isPowerofFour(num):\n",
    "    if num <=0:\n",
    "        return False\n",
    "    return not num&(num-1) and (num & 0b01010101010101010101010101010101)!=0"
   ]
  },
  {
   "cell_type": "code",
   "execution_count": 6,
   "metadata": {},
   "outputs": [],
   "source": [
    "#----------leetcode 693------------\n",
    "\"\"\"binary number with alternating bits: given a positive integer check whether it has alternating\n",
    "bits: namely, if two adjacent bits will always have different values.\"\"\"\n",
    "# d alternate with 0 and 1\n",
    "def hasAlternatingBits(n):\n",
    "    d = n &1\n",
    "    while (n&1)==d:\n",
    "        d ^= 1\n",
    "        n >>= 1\n",
    "    return n==0"
   ]
  },
  {
   "cell_type": "code",
   "execution_count": 2,
   "metadata": {},
   "outputs": [],
   "source": [
    "# n & (n-1)=0, n^(n-1)=1111\n",
    "def hasalternate(n):\n",
    "    return (n+ (n>>1)+1) & (n + (n>>1)) ==0"
   ]
  },
  {
   "cell_type": "code",
   "execution_count": 7,
   "metadata": {},
   "outputs": [],
   "source": [
    "def hasalternate(n):\n",
    "    s = bin(n)\n",
    "    return '00' not in s and '11' not in s"
   ]
  },
  {
   "cell_type": "code",
   "execution_count": 8,
   "metadata": {},
   "outputs": [
    {
     "data": {
      "text/plain": [
       "2"
      ]
     },
     "execution_count": 8,
     "metadata": {},
     "output_type": "execute_result"
    }
   ],
   "source": [
    "#-----------leetcode 476------------------\n",
    "\"\"\"number complement: given a positive integer n, output its complement number. the complement \n",
    "strategy is to flip the bits of its binary representation.\"\"\"\n",
    "def findcomplements(n):\n",
    "    i = 1\n",
    "    while i<= n:\n",
    "        i <<= 1\n",
    "    return (i-1) ^ n\n",
    "findcomplements(5)    "
   ]
  },
  {
   "cell_type": "code",
   "execution_count": 10,
   "metadata": {},
   "outputs": [],
   "source": [
    "# from the first 1bit to right all change to 1\n",
    "def findcomplements(num):\n",
    "    if num ==0: return 1\n",
    "    mask = num\n",
    "    mask |= mask >> 1\n",
    "    mask |= mask >> 2\n",
    "    mask |= mask >> 4\n",
    "    mask |= mask >> 8\n",
    "    mask |= mask >> 16\n",
    "    return mask ^ num"
   ]
  },
  {
   "cell_type": "code",
   "execution_count": 14,
   "metadata": {},
   "outputs": [],
   "source": [
    "#--------------leetcode 371--------\n",
    "\"\"\"sum of two integers: calculate sum of two integers, but not allowed to use operators + -\"\"\"\n",
    "def getSum(a, b):\n",
    "    MASK = 0xFFFFFFFF\n",
    "    MAX_INT = 0x7FFFFFFF\n",
    "    while b !=0:\n",
    "        total = (a^b) & MASK\n",
    "        carry = ((a&b)<<1) &MASK\n",
    "        a,b = total, carry\n",
    "    return a if a< MAX_INT else ~(a^MASK)"
   ]
  },
  {
   "cell_type": "code",
   "execution_count": null,
   "metadata": {},
   "outputs": [],
   "source": [
    "def getSum(a, b):\n",
    "    return a if b==0 else getSum(a^b, (a&b)<<1)"
   ]
  },
  {
   "cell_type": "code",
   "execution_count": null,
   "metadata": {},
   "outputs": [],
   "source": []
  }
 ],
 "metadata": {
  "kernelspec": {
   "display_name": "Python 3",
   "language": "python",
   "name": "python3"
  },
  "language_info": {
   "codemirror_mode": {
    "name": "ipython",
    "version": 3
   },
   "file_extension": ".py",
   "mimetype": "text/x-python",
   "name": "python",
   "nbconvert_exporter": "python",
   "pygments_lexer": "ipython3",
   "version": "3.7.4"
  }
 },
 "nbformat": 4,
 "nbformat_minor": 2
}
