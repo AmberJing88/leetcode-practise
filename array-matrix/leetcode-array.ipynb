{
 "cells": [
  {
   "cell_type": "markdown",
   "metadata": {},
   "source": [
    "# leetcode array problems"
   ]
  },
  {
   "cell_type": "code",
   "execution_count": 9,
   "metadata": {},
   "outputs": [],
   "source": [
    "#--------------leetcode283-----------\n",
    "\"\"\"move all zeros in list to end\"\"\"\n",
    "\n",
    "def move_zeros(L):\n",
    "    index = 0\n",
    "    for n in L:\n",
    "        if n != 0:\n",
    "            L[i] = n\n",
    "            i += 1\n",
    "        \n",
    "    L[i:] = [0] * (len(L) -i)\n",
    "    return L"
   ]
  },
  {
   "cell_type": "code",
   "execution_count": 13,
   "metadata": {},
   "outputs": [],
   "source": [
    "#----------leetcode566-------------\n",
    "\"\"\"reshape matrix with given row and column\"\"\"\n",
    "# this method is too slow at append the slices\n",
    "def reshape_matrix(original, r, c):\n",
    "    temp = [] # store matrix elements in to an array\n",
    "    for n in original:\n",
    "        temp += n\n",
    "        \n",
    "    if r *c == len(temp):\n",
    "        reshape = []\n",
    "        for i in range(0, len(temp), c):\n",
    "            reshape.append(temp[i:i+c]) # takes too long time when matrix is large\n",
    "    return reshape\n",
    "   "
   ]
  },
  {
   "cell_type": "code",
   "execution_count": 15,
   "metadata": {},
   "outputs": [],
   "source": [
    "\"\"\"alternative method for leetcode 566\"\"\"\n",
    "def reshape_2(original, r, c):\n",
    "    row, col = len(original), len(original[0])\n",
    "    if row *col == r *c:\n",
    "        reshape = [[]]\n",
    "        for i in range(row):\n",
    "            for j in range(col):\n",
    "                if len(reshape[-1]) == c:\n",
    "                    reshape.append([])\n",
    "                reshape[-1].append(original[i][j])\n",
    "        return reshape"
   ]
  },
  {
   "cell_type": "code",
   "execution_count": 16,
   "metadata": {},
   "outputs": [
    {
     "data": {
      "text/plain": [
       "[[1, 2], [3, 4], [5, 6]]"
      ]
     },
     "execution_count": 16,
     "metadata": {},
     "output_type": "execute_result"
    }
   ],
   "source": [
    "L = [[1,2,3],[4,5,6]]\n",
    "reshape_2(L, 3,2)"
   ]
  },
  {
   "cell_type": "code",
   "execution_count": 18,
   "metadata": {},
   "outputs": [
    {
     "data": {
      "text/plain": [
       "3"
      ]
     },
     "execution_count": 18,
     "metadata": {},
     "output_type": "execute_result"
    }
   ],
   "source": [
    "#----------------leetcode485-----------------\n",
    "\"\"\"max consecutive ones\"\"\"\n",
    "\n",
    "def max_ones(nums):\n",
    "    max, curr = 0, 0\n",
    "    for n in nums:\n",
    "        if n == 1:\n",
    "            curr += 1\n",
    "        \n",
    "            if curr > max: # this statement should same with curr == 1, anytime curr > max, max update\n",
    "                max = curr\n",
    "        else:\n",
    "            curr = 0\n",
    "            \n",
    "    return max\n",
    "\n",
    "def max_al(nums):\n",
    "    max_list = []\n",
    "    curr = 0\n",
    "    for n in nums:\n",
    "        if n == 1:\n",
    "            curr += 1\n",
    "        else:\n",
    "            max_list.append(curr)\n",
    "            curr = 0\n",
    "            \n",
    "    return max(max_list)\n",
    "\n",
    "nums = [1,2,1,1,3,1,1,1,5]\n",
    "max_al(nums)"
   ]
  },
  {
   "cell_type": "code",
   "execution_count": 23,
   "metadata": {},
   "outputs": [
    {
     "data": {
      "text/plain": [
       "True"
      ]
     },
     "execution_count": 23,
     "metadata": {},
     "output_type": "execute_result"
    }
   ],
   "source": [
    "#-----------------leetcode240---------------\n",
    "def searchMatrix(matrix, target):\n",
    "    if not matrix or ( len(matrix) ==0 or len(matrix[0])==0):\n",
    "        return False\n",
    "    \n",
    "    m, n= len(matrix), len(matrix[0])\n",
    "    row = 0\n",
    "    col = n-1\n",
    "    \n",
    "    while row<m and col >=0:\n",
    "        if matrix[row][col] == target:\n",
    "            return True\n",
    "        if matrix[row][col] < target:\n",
    "            row += 1\n",
    "        else:\n",
    "            col -= 1\n",
    "    return False\n",
    "    \n",
    "    \n",
    "n = [\n",
    "    [1,4,7,11,15],\n",
    "    [2,5,8,12,19],\n",
    "    [3,6,9,16,22],\n",
    "    [10,13,14,17,24],\n",
    "    [18,21,23,26,30]\n",
    "]\n",
    "searchMatrix(n, 5)\n",
    "\n",
    "        \n"
   ]
  },
  {
   "cell_type": "code",
   "execution_count": 26,
   "metadata": {},
   "outputs": [
    {
     "ename": "KeyboardInterrupt",
     "evalue": "",
     "output_type": "error",
     "traceback": [
      "\u001b[1;31m---------------------------------------------------------------------------\u001b[0m",
      "\u001b[1;31mKeyboardInterrupt\u001b[0m                         Traceback (most recent call last)",
      "\u001b[1;32m<ipython-input-26-64096184f484>\u001b[0m in \u001b[0;36m<module>\u001b[1;34m\u001b[0m\n\u001b[0;32m     28\u001b[0m ]\n\u001b[0;32m     29\u001b[0m \u001b[1;33m\u001b[0m\u001b[0m\n\u001b[1;32m---> 30\u001b[1;33m \u001b[0msearch_kth\u001b[0m\u001b[1;33m(\u001b[0m\u001b[0mn\u001b[0m\u001b[1;33m,\u001b[0m \u001b[1;36m6\u001b[0m\u001b[1;33m)\u001b[0m\u001b[1;33m\u001b[0m\u001b[1;33m\u001b[0m\u001b[0m\n\u001b[0m\u001b[0;32m     31\u001b[0m \u001b[1;33m\u001b[0m\u001b[0m\n",
      "\u001b[1;32m<ipython-input-26-64096184f484>\u001b[0m in \u001b[0;36msearch_kth\u001b[1;34m(matrix, k)\u001b[0m\n\u001b[0;32m     13\u001b[0m             \u001b[1;32mfor\u001b[0m \u001b[0mj\u001b[0m \u001b[1;32min\u001b[0m \u001b[0mrange\u001b[0m\u001b[1;33m(\u001b[0m\u001b[0mn\u001b[0m\u001b[1;33m)\u001b[0m\u001b[1;33m:\u001b[0m\u001b[1;33m\u001b[0m\u001b[1;33m\u001b[0m\u001b[0m\n\u001b[0;32m     14\u001b[0m                 \u001b[1;32mif\u001b[0m \u001b[0mmatrix\u001b[0m\u001b[1;33m[\u001b[0m\u001b[0mi\u001b[0m\u001b[1;33m]\u001b[0m\u001b[1;33m[\u001b[0m\u001b[0mj\u001b[0m\u001b[1;33m]\u001b[0m \u001b[1;33m<=\u001b[0m \u001b[0mmid\u001b[0m\u001b[1;33m:\u001b[0m\u001b[1;33m\u001b[0m\u001b[1;33m\u001b[0m\u001b[0m\n\u001b[1;32m---> 15\u001b[1;33m                     \u001b[0mcount\u001b[0m \u001b[1;33m+=\u001b[0m\u001b[1;36m1\u001b[0m\u001b[1;33m\u001b[0m\u001b[1;33m\u001b[0m\u001b[0m\n\u001b[0m\u001b[0;32m     16\u001b[0m         \u001b[1;32mif\u001b[0m \u001b[0mcount\u001b[0m \u001b[1;33m<\u001b[0m \u001b[0mk\u001b[0m\u001b[1;33m:\u001b[0m\u001b[1;33m\u001b[0m\u001b[1;33m\u001b[0m\u001b[0m\n\u001b[0;32m     17\u001b[0m             \u001b[0mlow\u001b[0m \u001b[1;33m=\u001b[0m \u001b[0mmid\u001b[0m \u001b[1;33m+\u001b[0m \u001b[1;36m1\u001b[0m\u001b[1;33m\u001b[0m\u001b[1;33m\u001b[0m\u001b[0m\n",
      "\u001b[1;31mKeyboardInterrupt\u001b[0m: "
     ]
    }
   ],
   "source": [
    "#------------------leetcode378----------\n",
    "\"\"\"find the kth smallest element in a given matrix, the numbers sorted ascending in both directions\"\"\"\n",
    "\n",
    "def search_kth(matrix, k):  # binary search\n",
    "    \n",
    "    m, n = len(matrix), len(matrix[0])\n",
    "    low = matrix[0][0]\n",
    "    high = matrix[m-1][n-1]\n",
    "    while low < high:\n",
    "        count = 0\n",
    "        mid = low + (low+high) // 2\n",
    "        for i in range(m):\n",
    "            for j in range(n):\n",
    "                if matrix[i][j] <= mid:\n",
    "                    count +=1\n",
    "        if count < k:\n",
    "            low = mid + 1\n",
    "        else:\n",
    "            high = mid -1\n",
    "    return low\n",
    "\n",
    "n = [\n",
    "    [1,4,7,11,15],\n",
    "    [2,5,8,12,19],\n",
    "    [3,6,9,16,22],\n",
    "    [10,13,14,17,24],\n",
    "    [18,21,23,26,30]\n",
    "]\n",
    "\n",
    "search_kth(n, 6)\n",
    "    "
   ]
  },
  {
   "cell_type": "code",
   "execution_count": 33,
   "metadata": {},
   "outputs": [
    {
     "data": {
      "text/plain": [
       "[3, 6]"
      ]
     },
     "execution_count": 33,
     "metadata": {},
     "output_type": "execute_result"
    }
   ],
   "source": [
    "#------------leetcode645------------\n",
    "\"\"\"find out missing and replacement number in an array (unsorted) from 1 to n\"\"\"\n",
    "\n",
    "from collections import defaultdict\n",
    "\n",
    "def findErrornum(nums):\n",
    "    count = defaultdict(int)\n",
    "    for n in nums:\n",
    "        count[n] +=1\n",
    "    \n",
    "    for i in range(1, len(nums)+1):\n",
    "        if i not in count:\n",
    "            missing = i\n",
    "        if count[i] > 1:\n",
    "            duplicate = i\n",
    "            \n",
    "    \n",
    "    return [duplicate, missing]\n",
    "\n",
    "nums = [1,2,3,4,3,5]\n",
    "findErrornum(nums)\n"
   ]
  },
  {
   "cell_type": "code",
   "execution_count": 36,
   "metadata": {},
   "outputs": [
    {
     "data": {
      "text/plain": [
       "[3, 6]"
      ]
     },
     "execution_count": 36,
     "metadata": {},
     "output_type": "execute_result"
    }
   ],
   "source": [
    "\"\"\"leetcode645 alternative method, wxchange the value of visited\"\"\"\n",
    "\n",
    "def findnums2(nums):\n",
    "    for n in nums:\n",
    "        if nums[abs(n)-1] <0:\n",
    "            duplicate = n\n",
    "        else:\n",
    "            nums[abs(n)-1] *= -1\n",
    "            \n",
    "    for i, n in enumerate(nums):\n",
    "        if n>0:\n",
    "            missing = n+1\n",
    "            break\n",
    "    return [duplicate, missing]\n",
    "\n",
    "nums = [1,2,3,4,3,5]\n",
    "findnums2(nums)\n"
   ]
  },
  {
   "cell_type": "code",
   "execution_count": 1,
   "metadata": {},
   "outputs": [
    {
     "data": {
      "text/plain": [
       "[5, 6]"
      ]
     },
     "execution_count": 1,
     "metadata": {},
     "output_type": "execute_result"
    }
   ],
   "source": [
    "#--------------leetcode448---------------------\n",
    "\"\"\"find out missing numbers from an array which include numbers 1~N\"\"\"\n",
    "\n",
    "def find_missing(nums):\n",
    "    for n in nums:\n",
    "        n = abs(n)\n",
    "        nums[n-1] = -abs(nums[n-1])    # mark  elements as negative \n",
    "    \n",
    "    result = []\n",
    "    for i in range(len(nums)):\n",
    "        if nums[i] > 0:\n",
    "            result.append(i+1)\n",
    "            \n",
    "    return result\n",
    "\n",
    "nums = [4,3,2,7,8,2,3,1]\n",
    "find_missing(nums)\n",
    "            "
   ]
  },
  {
   "cell_type": "code",
   "execution_count": 14,
   "metadata": {},
   "outputs": [
    {
     "data": {
      "text/plain": [
       "5"
      ]
     },
     "execution_count": 14,
     "metadata": {},
     "output_type": "execute_result"
    }
   ],
   "source": [
    "#----------------leetcode697----------------\n",
    "\"\"\"degree of array the longest distance of the repeated numbers in an array\"\"\"\n",
    "from collections import defaultdict\n",
    "\n",
    "def arrary_degree(nums):\n",
    "    count = defaultdict(list)\n",
    "    \n",
    "    for i in range(len(nums)):\n",
    "        count[nums[i]].append(i)\n",
    "        \n",
    "    frequency = []        \n",
    "    for c in count:\n",
    "        frequency.append(max)\n",
    "            result.append(count[c][-1]-count[c][0]+1)\n",
    "            \n",
    "    return min(result)\n",
    "\n",
    "\n",
    "arrary_degree([1,2,2,3,1,4,2])\n"
   ]
  },
  {
   "cell_type": "code",
   "execution_count": 1,
   "metadata": {},
   "outputs": [
    {
     "data": {
      "text/plain": [
       "[2, 3]"
      ]
     },
     "execution_count": 1,
     "metadata": {},
     "output_type": "execute_result"
    }
   ],
   "source": [
    "#-----------------442----------------------\n",
    "\"\"\"find all duplicate 1~n in an array  O(n) time and O(1) space\n",
    "the key is chane the positive to negative of nums[n-1] \"\"\"\n",
    "\n",
    "def findDUplicate(nums):\n",
    "    result = []\n",
    "    for i in range(len(nums)):\n",
    "        n = abs(nums[i])\n",
    "        if nums[n-1] < 0:\n",
    "            result.append(n)\n",
    "            continue  # find a duplicate, go to next iterate\n",
    "        nums[n-1] = -abs(nums[n-1])\n",
    "    \n",
    "    return result\n",
    "findDUplicate([4,3,2,7,8,2,3,1])"
   ]
  },
  {
   "cell_type": "code",
   "execution_count": 3,
   "metadata": {},
   "outputs": [
    {
     "data": {
      "text/plain": [
       "2"
      ]
     },
     "execution_count": 3,
     "metadata": {},
     "output_type": "execute_result"
    }
   ],
   "source": [
    "#---------------leetcode 287-----------------\n",
    "\"\"\"find the duplicate numbers: do not change the original array, O(1) space O(n) time.\n",
    "Cannot use the method for leetcode442 which changed the array element\"\"\"\n",
    "# Binary search method\n",
    "def find_duel(nums):\n",
    "    low = 1\n",
    "    high = len(nums)\n",
    "    while low < high:\n",
    "        middle = low + (high-low)//2\n",
    "        count = 0\n",
    "        for n in nums:\n",
    "            if n <= middle:\n",
    "                count += 1\n",
    "                \n",
    "        if count <= middle:\n",
    "            low = middle+1\n",
    "        else:\n",
    "            high = middle\n",
    "            \n",
    "    return high\n",
    "\n",
    "find_duel([1,3,4,2,2])\n",
    "    \n"
   ]
  },
  {
   "cell_type": "code",
   "execution_count": 4,
   "metadata": {},
   "outputs": [
    {
     "data": {
      "text/plain": [
       "2"
      ]
     },
     "execution_count": 4,
     "metadata": {},
     "output_type": "execute_result"
    }
   ],
   "source": [
    "# leetcode287--------fast and slow pointers method----------\n",
    "\n",
    "def find_duel2(nums):\n",
    "    slow = nums[0]\n",
    "    fast = nums[slow]\n",
    "    \n",
    "    while slow != fast:\n",
    "        slow = nums[slow]   # slow moves 1 step per time\n",
    "        fast = nums[nums[fast]]  #fast moves 2 steps per time\n",
    "        \n",
    "    fast = 0\n",
    "    while slow != fast:\n",
    "        slow = nums[slow]\n",
    "        fast = nums[fast]\n",
    "    return fast\n",
    "\n",
    "find_duel2([1,3,4,2,2])"
   ]
  },
  {
   "cell_type": "code",
   "execution_count": 7,
   "metadata": {},
   "outputs": [
    {
     "data": {
      "text/plain": [
       "[1, 6, 2, 5, 3, 4, 7, 8]"
      ]
     },
     "execution_count": 7,
     "metadata": {},
     "output_type": "execute_result"
    }
   ],
   "source": [
    "#--------------leetcode667--------------------\n",
    "\"\"\"beautiful arrangement: construct an array a1~an, which has k distinct distance \n",
    "|an-an-1|, |an-1 - an-2|...|a2-a1| has exactly k distinct integers\n",
    "metod: for the a1~ak+1 makes k distinct integers 1~k, ak+2~an creasing by 1\"\"\"\n",
    "\n",
    "def beautiful_array(n, k):\n",
    "    if k ==1:\n",
    "        return list(range(1, n+1))\n",
    "    result= [1]\n",
    "    sign = 1\n",
    "    for i in range(k, 0, -1):\n",
    "        result.append(result[-1] + i * sign)\n",
    "        sign *= -1\n",
    "        \n",
    "    return result +list(range(k+2, n+1))\n",
    "\n",
    "beautiful_array(8,5)"
   ]
  },
  {
   "cell_type": "code",
   "execution_count": 11,
   "metadata": {},
   "outputs": [
    {
     "data": {
      "text/plain": [
       "[1, 7, 2, 6, 3, 5, 4, 8]"
      ]
     },
     "execution_count": 11,
     "metadata": {},
     "output_type": "execute_result"
    }
   ],
   "source": [
    "#----------------leetcode667--two pointers method----------\n",
    "\"\"\"low and high pointers take turns inserting to array.\n",
    "1 k 2 k-1...\"\"\"\n",
    "\n",
    "def beautiful_array2(n, k):\n",
    "    low = 1\n",
    "    high = k+1\n",
    "    next_low = True\n",
    "    result = []\n",
    "    while low <= high:\n",
    "        if next_low:\n",
    "            result.append(low)\n",
    "            low += 1\n",
    "            \n",
    "        else:\n",
    "            result.append(high)\n",
    "            high -= 1\n",
    "        next_low = not next_low\n",
    "        \n",
    "    return result + list(range(k+2, n+1))\n",
    "\n",
    "beautiful_array2(8,6)           "
   ]
  },
  {
   "cell_type": "code",
   "execution_count": null,
   "metadata": {},
   "outputs": [],
   "source": [
    "#-------------leetcode766-------------\n",
    "\"\"\"toeplitz matrix: every diagonal from top-left to bottom-right has the same element.\"\"\"\n",
    "\n",
    "def "
   ]
  },
  {
   "cell_type": "code",
   "execution_count": null,
   "metadata": {},
   "outputs": [],
   "source": []
  }
 ],
 "metadata": {
  "kernelspec": {
   "display_name": "Python 3",
   "language": "python",
   "name": "python3"
  },
  "language_info": {
   "codemirror_mode": {
    "name": "ipython",
    "version": 3
   },
   "file_extension": ".py",
   "mimetype": "text/x-python",
   "name": "python",
   "nbconvert_exporter": "python",
   "pygments_lexer": "ipython3",
   "version": "3.7.4"
  }
 },
 "nbformat": 4,
 "nbformat_minor": 2
}
