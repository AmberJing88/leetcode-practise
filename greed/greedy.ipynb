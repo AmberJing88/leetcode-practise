{
 "cells": [
  {
   "cell_type": "markdown",
   "metadata": {},
   "source": [
    "# leetcode problem solutions"
   ]
  },
  {
   "cell_type": "code",
   "execution_count": 14,
   "metadata": {},
   "outputs": [],
   "source": [
    "#------------leetcode 524-------------\n",
    "\"\"\"longest word in dictionary through deleting: given a string and a string dictionary, find the \n",
    "longest string in the dictionary that can be formed by deleting some characters of the given stri\n",
    "ng. if there are more than one possible results, return the longest word with the smallest lexico\n",
    "graphical order. if there is no possible result, return the empty string.\"\"\"\n",
    "def findLongestWord(s, d):\n",
    "    def is_subsequence(s, t):\n",
    "        i, j = 0,0\n",
    "        while i < len(s) and (len(t)-j) >= (len(s)-i):\n",
    "            if s[i] == t[j]:\n",
    "                i += 1\n",
    "            j += 1\n",
    "        if i == len(s):\n",
    "            return True\n",
    "        return False\n",
    "    d.sort(key=lambda x: (-len(x), x))\n",
    "    for word in d:\n",
    "        if is_subsequence(word, s):\n",
    "            return word\n",
    "    return \"\""
   ]
  },
  {
   "cell_type": "code",
   "execution_count": 3,
   "metadata": {},
   "outputs": [
    {
     "data": {
      "text/plain": [
       "1"
      ]
     },
     "execution_count": 3,
     "metadata": {},
     "output_type": "execute_result"
    }
   ],
   "source": [
    "#----------leetcode 455--------------\n",
    "\"\"\"assign cookies: give child i with cookie j if the sj >= gi, maximize the number of your content\n",
    "children and output the maximum number. Note: greed factor always positive. cannot assign more th\n",
    "an one cookie to one child.\"\"\"\n",
    "def findContentChildren(g, s):\n",
    "    if not s or len(s)==0:\n",
    "        return 0\n",
    "    gi, sj = 0, 0\n",
    "    g.sort()\n",
    "    s.sort()\n",
    "    while gi < len(g) and sj < len(s):\n",
    "        if s[sj] >= g[gi]:\n",
    "            gi += 1\n",
    "        sj += 1\n",
    "    return gi\n",
    "findContentChildren([1,2,3], [1,1])   "
   ]
  },
  {
   "cell_type": "code",
   "execution_count": 4,
   "metadata": {},
   "outputs": [
    {
     "data": {
      "text/plain": [
       "1"
      ]
     },
     "execution_count": 4,
     "metadata": {},
     "output_type": "execute_result"
    }
   ],
   "source": [
    "#-------------leetcode 435--------------\n",
    "\"\"\"non-overlapping intervals: given a collection of intervals, find the minimum numver of interval\n",
    "you need to remove to make the rest of the invervals non-overlapping.\"\"\"\n",
    "def eraseOverlapIntervals(intervals):\n",
    "    if len(intervals)==0 or not intervals:\n",
    "        return 0\n",
    "    end, count = float('-inf'), 0\n",
    "    for s, e in sorted(intervals, key=lambda x: x[1]):\n",
    "        if s >= end:\n",
    "            end = e\n",
    "        else:\n",
    "            count += 1\n",
    "    return count\n",
    "eraseOverlapIntervals([[1,2],[2,3],[3,4],[1,3]])"
   ]
  },
  {
   "cell_type": "code",
   "execution_count": 5,
   "metadata": {},
   "outputs": [],
   "source": [
    "# which interval would be the best first interval to keep? one that end first, as it leaves the \n",
    "# most room for the rest. So take one with smallest end, remove all the bad ones overlapping it,\n",
    "# and repeat. for overlap test, just keep track the current end, initialized with negative infinity.\n",
    "\n",
    "def eraseoverlap(intervals):\n",
    "    end = float('-inf')\n",
    "    erased = 0\n",
    "    for i in sorted(intervals, key= lambda i: i.end):\n",
    "        if i.start >= end:\n",
    "            end = i.end\n",
    "        else:\n",
    "            erased += 1\n",
    "    return erased"
   ]
  },
  {
   "cell_type": "code",
   "execution_count": 7,
   "metadata": {},
   "outputs": [
    {
     "data": {
      "text/plain": [
       "2"
      ]
     },
     "execution_count": 7,
     "metadata": {},
     "output_type": "execute_result"
    }
   ],
   "source": [
    "#-------------leetcode 452-------------\n",
    "\"\"\"minimum number of arrows to burst balloons: there are a number of spherical balloons spread in \n",
    "two dimensional space. given coordinates it occupied (start, end), if arrow in the range of coor-\n",
    "dinates, start <=x <= end, ballone will burst. find the minimum number of arrows that must be shot\n",
    "to burst all balloons.\"\"\"\n",
    "def findMinArrowsShots(pointes):\n",
    "    if not pointes or len(pointes)==0:\n",
    "        return 0\n",
    "    pointes.sort(key=lambda x: x[1])\n",
    "    end, count = pointes[0][1], 1\n",
    "    for i in range(len(pointes)):\n",
    "        if pointes[i][0] <= end:\n",
    "            continue\n",
    "        count += 1\n",
    "        end = pointes[i][1]\n",
    "    return count\n",
    "findMinArrowsShots([[10,16], [2,8], [1,6], [7,12]])"
   ]
  },
  {
   "cell_type": "code",
   "execution_count": 9,
   "metadata": {},
   "outputs": [],
   "source": [
    "#----------leetcode 406------------------\n",
    "\"\"\"queue reconstruction by height: random list of people standing in a queue. each person is de\n",
    "described by a pair of integers (h, k), where h is height and k is the number of perple in front \n",
    "of this person who have a height greater than or equal to h. write an algorithm to reconstruct\n",
    "the queue.\"\"\"\n",
    "# method: 1. sort the highest people with their order k; 2. insert next highest people by k;3. repeat\n",
    "# step 2 untill every one inserted in the queue.\n",
    "def reconstructQueue(people):\n",
    "    if not people:\n",
    "        return []\n",
    "    # obtain everyone's info\n",
    "    # key=height, value=k-value, index in original array\n",
    "    peopledict, height, res = {}, [], []\n",
    "    for i in range(len(people)):\n",
    "        p = people[i]\n",
    "        if p[0] in peopledict:\n",
    "            peopledict[p[0]] += (p[1], i),\n",
    "        else:\n",
    "            peopledict[p[0]] = [(p[1], i)]\n",
    "            height += p[0],\n",
    "    height.sort() # for different heights \n",
    "    \n",
    "    # sort from the tallest group\n",
    "    for h in height[::-1]:\n",
    "        peopledict[h].sort()\n",
    "        for p in peopledict[h]:\n",
    "            res.insert(p[0], people[p[1]])\n",
    "    return res"
   ]
  },
  {
   "cell_type": "code",
   "execution_count": 10,
   "metadata": {},
   "outputs": [],
   "source": [
    "# sort + insert\n",
    "def reconstructQueue(people):\n",
    "    people.sort(key=lambda x: (-x[0], x[1]))\n",
    "    queue = []\n",
    "    for p in people:\n",
    "        queue.insert(p[1], p)\n",
    "    return queue"
   ]
  },
  {
   "cell_type": "code",
   "execution_count": 2,
   "metadata": {},
   "outputs": [],
   "source": [
    "#------------leetcode 121----------------\n",
    "\"\"\"best time to buy and sell stock: given array of ith elements is the price of stock on day i.\n",
    "only permitted to complete at most one transaction. design an algorithm to find the maximum proft\n",
    "Note: cannot sell a stock before you buy one.\"\"\"\n",
    "# dp method\n",
    "def maxProfit(prices):\n",
    "    if len(prices) < 2:\n",
    "        return 0\n",
    "    gain = [0 for _ in range(len(prices)+1)]\n",
    "    for i in range(len(gain)):\n",
    "        gain[i] = prices[i+1] - prices[i]\n",
    "    localmax, globalmax = 0, 0\n",
    "    for i in range(1, len(prices)):\n",
    "        localmax = max(0, localmax+gain[i-1])\n",
    "        globalmax = max(localmax, globalmax)\n",
    "    return globalmax"
   ]
  },
  {
   "cell_type": "code",
   "execution_count": 3,
   "metadata": {},
   "outputs": [
    {
     "data": {
      "text/plain": [
       "5"
      ]
     },
     "execution_count": 3,
     "metadata": {},
     "output_type": "execute_result"
    }
   ],
   "source": [
    "# greed algorithm method\n",
    "def maxprofit(prices):\n",
    "    n = len(prices)\n",
    "    if n==0:\n",
    "        return 0\n",
    "    sofarmin = prices[0]\n",
    "    maxgain = 0\n",
    "    for i in range(1, n):\n",
    "        if sofarmin > prices[i]:\n",
    "            sofarmin = prices[i]\n",
    "        else:\n",
    "            maxgain = max(maxgain, prices[i]-sofarmin)\n",
    "    return maxgain\n",
    "maxprofit([7,1,5,3,6,4])"
   ]
  },
  {
   "cell_type": "code",
   "execution_count": 5,
   "metadata": {},
   "outputs": [],
   "source": [
    "#-----------------leetcode 122------------------\n",
    "\"\"\"best time to buy and sell stock: given array of ith elements is the price of stock on day i.\n",
    "you can complete at many transactions you like. design an algorithm to find the maximum profit.\n",
    "Note: cannot sell a stock before you buy one.\"\"\"\n",
    "# greed method\n",
    "def maxProfit2(prices):\n",
    "    if len(prices)<2:\n",
    "        return 0\n",
    "    profit = 0\n",
    "    for i in range(1, len(prices)):\n",
    "        if prices[i] > prices[i-1]:\n",
    "            profit += prices[i]-prices[i-1]\n",
    "    return profit"
   ]
  },
  {
   "cell_type": "code",
   "execution_count": 13,
   "metadata": {},
   "outputs": [
    {
     "data": {
      "text/plain": [
       "False"
      ]
     },
     "execution_count": 13,
     "metadata": {},
     "output_type": "execute_result"
    }
   ],
   "source": [
    "#------------leetcode 605------------\n",
    "\"\"\"can place flowers:given a long flowerbed in which some of the plots are planted and some are not\n",
    "flowers cannot be planted in adjacent plots.0 is not planted, 1 is planted, and give a number n, \n",
    "and return if n new flowers can be planted in it without violating the no-adjacent rule.\"\"\"\n",
    "def canPlaceFlowers(flowerbed, n):\n",
    "    if not flowerbed or len(flowerbed)==0:\n",
    "        return False\n",
    "    for i, x in enumerate(flowerbed):\n",
    "        if (not x and (i==0 or flowerbed[i-1]==0) and (i==len(flowerbed)-1 or flowerbed[i+1]==0)):\n",
    "            n -= 1\n",
    "            flowerbed[i]=1\n",
    "    return n <=0\n",
    "\n",
    "canPlaceFlowers([1,0,0,0,1], 2)  "
   ]
  },
  {
   "cell_type": "code",
   "execution_count": 15,
   "metadata": {},
   "outputs": [],
   "source": [
    "def canplaceflowers(flowerbed, n):\n",
    "    flowerbed.insert(0,0) # insert 0 at left edge\n",
    "    flowerbed.append(0)   # insert 0 at right edge\n",
    "    count = 0\n",
    "    for f in flowerbed:\n",
    "        if f==0:\n",
    "            count += 1\n",
    "        else:\n",
    "            count = 0\n",
    "        if count ==3:    # find 3 continuous empty spot, plant 1 at the middle\n",
    "            n -= 1\n",
    "            count = 1\n",
    "        if n==0:\n",
    "            return True\n",
    "    return False"
   ]
  },
  {
   "cell_type": "code",
   "execution_count": 16,
   "metadata": {},
   "outputs": [],
   "source": [
    "#------------leetcode 392-----------------\n",
    "\"\"\"is subsequence: given string s and t, check if s is the subsequence of t.\"\"\"\n",
    "def isSubsequence(s, t):\n",
    "    if not s:\n",
    "        return True\n",
    "    i = 0\n",
    "    for c in t:\n",
    "        if c ==s[i]:\n",
    "            i += 1\n",
    "            if i == len(s):\n",
    "                return True\n",
    "    return False\n",
    "        "
   ]
  },
  {
   "cell_type": "code",
   "execution_count": 11,
   "metadata": {},
   "outputs": [
    {
     "data": {
      "text/plain": [
       "False"
      ]
     },
     "execution_count": 11,
     "metadata": {},
     "output_type": "execute_result"
    }
   ],
   "source": [
    "#-------------leetcode 665---------------\n",
    "\"\"\"Non-decreasing array: given array nums, with n integers, check if it could become non-decreasi\n",
    "ng by modifying at most 1 element.\"\"\"\n",
    "def checkPossibility(nums):\n",
    "    n, cnt = len(nums), 1\n",
    "    for i in range(1, n):\n",
    "        if nums[i] < nums[i-1]:\n",
    "            if cnt ==0:\n",
    "                return False\n",
    "            if i ==1 or nums[i] >= nums[i-2]:\n",
    "                nums[i-1] = nums[i]\n",
    "            else:\n",
    "                nums[i] = nums[i-1]\n",
    "            cnt -= 1\n",
    "    return True\n",
    "            \n",
    "checkPossibility([4,2,1])\n",
    "    "
   ]
  },
  {
   "cell_type": "code",
   "execution_count": null,
   "metadata": {},
   "outputs": [],
   "source": [
    "#---------leetcode 53----------\n",
    "\"\"\"maximum subarray: integer array, find the contiguous subarray which has the largest sum and \n",
    "return its sum. Note: time O(n) with divide and conquer approach.\"\"\"\n",
    "def maxSubArray(nums):\n",
    "    \n"
   ]
  }
 ],
 "metadata": {
  "kernelspec": {
   "display_name": "Python 3",
   "language": "python",
   "name": "python3"
  },
  "language_info": {
   "codemirror_mode": {
    "name": "ipython",
    "version": 3
   },
   "file_extension": ".py",
   "mimetype": "text/x-python",
   "name": "python",
   "nbconvert_exporter": "python",
   "pygments_lexer": "ipython3",
   "version": "3.7.4"
  }
 },
 "nbformat": 4,
 "nbformat_minor": 2
}
