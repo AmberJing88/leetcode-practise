{
 "cells": [
  {
   "cell_type": "markdown",
   "metadata": {},
   "source": [
    "# leetcode problem solutions"
   ]
  },
  {
   "cell_type": "code",
   "execution_count": 14,
   "metadata": {},
   "outputs": [],
   "source": [
    "#------------leetcode 524-------------\n",
    "\"\"\"longest word in dictionary through deleting: given a string and a string dictionary, find the \n",
    "longest string in the dictionary that can be formed by deleting some characters of the given stri\n",
    "ng. if there are more than one possible results, return the longest word with the smallest lexico\n",
    "graphical order. if there is no possible result, return the empty string.\"\"\"\n",
    "def findLongestWord(s, d):\n",
    "    def is_subsequence(s, t):\n",
    "        i, j = 0,0\n",
    "        while i < len(s) and (len(t)-j) >= (len(s)-i):\n",
    "            if s[i] == t[j]:\n",
    "                i += 1\n",
    "            j += 1\n",
    "        if i == len(s):\n",
    "            return True\n",
    "        return False\n",
    "    d.sort(key=lambda x: (-len(x), x))\n",
    "    for word in d:\n",
    "        if is_subsequence(word, s):\n",
    "            return word\n",
    "    return \"\""
   ]
  },
  {
   "cell_type": "code",
   "execution_count": 3,
   "metadata": {},
   "outputs": [
    {
     "data": {
      "text/plain": [
       "1"
      ]
     },
     "execution_count": 3,
     "metadata": {},
     "output_type": "execute_result"
    }
   ],
   "source": [
    "#----------leetcode 455--------------\n",
    "\"\"\"assign cookies: give child i with cookie j if the sj >= gi, maximize the number of your content\n",
    "children and output the maximum number. Note: greed factor always positive. cannot assign more th\n",
    "an one cookie to one child.\"\"\"\n",
    "def findContentChildren(g, s):\n",
    "    if not s or len(s)==0:\n",
    "        return 0\n",
    "    gi, sj = 0, 0\n",
    "    g.sort()\n",
    "    s.sort()\n",
    "    while gi < len(g) and sj < len(s):\n",
    "        if s[sj] >= g[gi]:\n",
    "            gi += 1\n",
    "        sj += 1\n",
    "    return gi\n",
    "findContentChildren([1,2,3], [1,1])   "
   ]
  },
  {
   "cell_type": "code",
   "execution_count": 4,
   "metadata": {},
   "outputs": [
    {
     "data": {
      "text/plain": [
       "1"
      ]
     },
     "execution_count": 4,
     "metadata": {},
     "output_type": "execute_result"
    }
   ],
   "source": [
    "#-------------leetcode 435--------------\n",
    "\"\"\"non-overlapping intervals: given a collection of intervals, find the minimum numver of interval\n",
    "you need to remove to make the rest of the invervals non-overlapping.\"\"\"\n",
    "def eraseOverlapIntervals(intervals):\n",
    "    if len(intervals)==0 or not intervals:\n",
    "        return 0\n",
    "    end, count = float('-inf'), 0\n",
    "    for s, e in sorted(intervals, key=lambda x: x[1]):\n",
    "        if s >= end:\n",
    "            end = e\n",
    "        else:\n",
    "            count += 1\n",
    "    return count\n",
    "eraseOverlapIntervals([[1,2],[2,3],[3,4],[1,3]])"
   ]
  },
  {
   "cell_type": "code",
   "execution_count": null,
   "metadata": {},
   "outputs": [],
   "source": []
  }
 ],
 "metadata": {
  "kernelspec": {
   "display_name": "Python 3",
   "language": "python",
   "name": "python3"
  },
  "language_info": {
   "codemirror_mode": {
    "name": "ipython",
    "version": 3
   },
   "file_extension": ".py",
   "mimetype": "text/x-python",
   "name": "python",
   "nbconvert_exporter": "python",
   "pygments_lexer": "ipython3",
   "version": "3.7.4"
  }
 },
 "nbformat": 4,
 "nbformat_minor": 2
}
