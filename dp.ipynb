{
 "cells": [
  {
   "cell_type": "code",
   "execution_count": 4,
   "metadata": {},
   "outputs": [],
   "source": [
    "\"\"\" \n",
    "complexicity:\n",
    "Time:O(n)\n",
    "Space: O(1)\n",
    "\"\"\"\n",
    "#Dynamic Programming    \n",
    "\n",
    "def numDecodings(s):\n",
    "        \n",
    "    if s[0] == '0':\n",
    "        return 0\n",
    "        \n",
    "    prev1 = 1\n",
    "    if s[0] != 0:\n",
    "        curr = 1\n",
    "        prev2 = curr\n",
    "            \n",
    "    for i in range(1, len(s)):\n",
    "        curr = 0\n",
    "        if s[i] != '0':\n",
    "            curr += prev2\n",
    "                \n",
    "        if 10 <= int(s[i-1:i+1]) <= 26:\n",
    "            curr += prev1\n",
    "                \n",
    "        prev1 = prev2\n",
    "        prev2 = curr\n",
    "            \n",
    "    return curr\n",
    "            "
   ]
  },
  {
   "cell_type": "code",
   "execution_count": 5,
   "metadata": {},
   "outputs": [
    {
     "data": {
      "text/plain": [
       "1"
      ]
     },
     "execution_count": 5,
     "metadata": {},
     "output_type": "execute_result"
    }
   ],
   "source": [
    "numDecodings('10')"
   ]
  },
  {
   "cell_type": "code",
   "execution_count": null,
   "metadata": {},
   "outputs": [],
   "source": []
  }
 ],
 "metadata": {
  "kernelspec": {
   "display_name": "Python 3",
   "language": "python",
   "name": "python3"
  },
  "language_info": {
   "codemirror_mode": {
    "name": "ipython",
    "version": 3
   },
   "file_extension": ".py",
   "mimetype": "text/x-python",
   "name": "python",
   "nbconvert_exporter": "python",
   "pygments_lexer": "ipython3",
   "version": "3.7.4"
  }
 },
 "nbformat": 4,
 "nbformat_minor": 2
}
