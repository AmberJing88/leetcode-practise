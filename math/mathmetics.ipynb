{
 "cells": [
  {
   "cell_type": "markdown",
   "metadata": {},
   "source": [
    "# leetcode problem solutions"
   ]
  },
  {
   "cell_type": "markdown",
   "metadata": {},
   "source": [
    "prime number"
   ]
  },
  {
   "cell_type": "code",
   "execution_count": 8,
   "metadata": {},
   "outputs": [
    {
     "data": {
      "text/plain": [
       "4"
      ]
     },
     "execution_count": 8,
     "metadata": {},
     "output_type": "execute_result"
    }
   ],
   "source": [
    "#-----------leetcode 204--------------\n",
    "\"\"\"count prime: count the number of prime numbers less than a non-negative number,n.\"\"\"\n",
    "def countPrimes(n):\n",
    "    notPrime = [False for _ in range(n+1)]\n",
    "    count = 0\n",
    "    for i in range(2, n):\n",
    "        if notPrime[i]: continue\n",
    "        count += 1\n",
    "        for j in range(i*i, n, i):\n",
    "            notPrime[j] = True\n",
    "    return count\n",
    "countPrimes(10)"
   ]
  },
  {
   "cell_type": "code",
   "execution_count": 9,
   "metadata": {},
   "outputs": [
    {
     "data": {
      "text/plain": [
       "4"
      ]
     },
     "execution_count": 9,
     "metadata": {},
     "output_type": "execute_result"
    }
   ],
   "source": [
    "# method two\n",
    "def countprime(n):\n",
    "    sieve = [False, False] + [True for _ in range(n-2)]\n",
    "    for i in range(2, int(n**0.5)+1):\n",
    "        if sieve[i]:\n",
    "            sieve[i*i:n:i] = [False] * len(sieve[i*i:n:i])\n",
    "    return sum(sieve)\n",
    "countprime(10)\n",
    "    "
   ]
  },
  {
   "cell_type": "code",
   "execution_count": 1,
   "metadata": {},
   "outputs": [],
   "source": [
    "#-----------leetcode 762---------------\n",
    "\"\"\"prime number of set bits in binary representation: \"\"\"\n",
    "def countPrimeSetBits(L,R):\n",
    "    return len([1 for i in range(L,R+1) if bin(i).count('1') in [2,3,5,7,11,13,17,19]])"
   ]
  },
  {
   "cell_type": "code",
   "execution_count": 2,
   "metadata": {},
   "outputs": [
    {
     "data": {
      "text/plain": [
       "6"
      ]
     },
     "execution_count": 2,
     "metadata": {},
     "output_type": "execute_result"
    }
   ],
   "source": [
    "#----largest common divisor-------------\n",
    "\"\"\"given to integers, find the largest common divisor of them.\"\"\"\n",
    "def gcd(a,b):\n",
    "    return a if b==0 else gcd(b, a%b)\n",
    "gcd(12, 6)"
   ]
  },
  {
   "cell_type": "code",
   "execution_count": 3,
   "metadata": {},
   "outputs": [
    {
     "data": {
      "text/plain": [
       "12"
      ]
     },
     "execution_count": 3,
     "metadata": {},
     "output_type": "execute_result"
    }
   ],
   "source": [
    "#-------smallest common multiple-------\n",
    "\"\"\"given two integers, find the smallest common multiple of them.\"\"\"\n",
    "def lcm(a, b):\n",
    "    return a*b // (gcd(a,b))\n",
    "lcm(12,6)"
   ]
  },
  {
   "cell_type": "code",
   "execution_count": 4,
   "metadata": {},
   "outputs": [
    {
     "data": {
      "text/plain": [
       "6"
      ]
     },
     "execution_count": 4,
     "metadata": {},
     "output_type": "execute_result"
    }
   ],
   "source": [
    "# 编程之美 2.7\n",
    "\"\"\"find the largest common divisor using bit manipulation and divise operation.\"\"\"\n",
    "def gcd2(a, b):\n",
    "    if a < b:\n",
    "        return gcd(b,a)\n",
    "    if b==0:\n",
    "        return a\n",
    "    if a%2 ==0: isAeven = True\n",
    "    if b%2 ==0: isBeven = True\n",
    "    if isAeven and isBeven:\n",
    "        return 2* gcd(a>>1, b>>1)\n",
    "    elif isAeven and not isBeven:\n",
    "        return gcd(a>>1, b)\n",
    "    elif isBeven and not isAeven:\n",
    "        return gcd(a, b>>1)\n",
    "    else:\n",
    "        return gcd(b, a-b)\n",
    "gcd2(12,6)\n",
    "    "
   ]
  },
  {
   "cell_type": "markdown",
   "metadata": {},
   "source": [
    "进制转换"
   ]
  },
  {
   "cell_type": "code",
   "execution_count": 5,
   "metadata": {},
   "outputs": [
    {
     "name": "stdout",
     "output_type": "stream",
     "text": [
      "166\n"
     ]
    }
   ],
   "source": [
    "#------------leetcode 504---------------\n",
    "\"\"\"Base 7:given an integer, return its base 7 string representation. \"\"\"\n",
    "def convertToBase7(num):\n",
    "    negative = num<0\n",
    "    num = abs(num)\n",
    "    base_7 = []\n",
    "    while num:\n",
    "        num, digit = divmod(num, 7)\n",
    "        base_7.append(str(digit))\n",
    "    if negative:\n",
    "        base_7.append('-')\n",
    "    return ''.join(base_7[::-1]) or '0'\n",
    "print(convertToBase7(97))"
   ]
  },
  {
   "cell_type": "code",
   "execution_count": 6,
   "metadata": {},
   "outputs": [],
   "source": [
    "# recursion solution\n",
    "def converttoBase7(n):\n",
    "    if n< 0:\n",
    "        return '-' + convertoBase7(-n)\n",
    "    if n < 7:\n",
    "        return str(n)\n",
    "    return converttoBase7(n//7) + str(n%7)"
   ]
  },
  {
   "cell_type": "code",
   "execution_count": 7,
   "metadata": {},
   "outputs": [
    {
     "data": {
      "text/plain": [
       "'ffffffff'"
      ]
     },
     "execution_count": 7,
     "metadata": {},
     "output_type": "execute_result"
    }
   ],
   "source": [
    "#------------leetcode 405---------------\n",
    "\"\"\"convert num to hexadicimal: write an algorithm to convert a number to hexadicimal. for negetive\n",
    "integer, two's complement method is used. Note: use a-f lowercase. no extra leading '0'.cannot use\n",
    "any library providesd methods.\"\"\"\n",
    "def toHex(num):\n",
    "    if num==0:\n",
    "        return '0'\n",
    "    mapp = '0123456789abcdef'\n",
    "    ans = ''\n",
    "    for i in range(8):\n",
    "        n = num & 15 # num & 1111b\n",
    "        c = mapp[n]  # get the hex char\n",
    "        ans = c + ans\n",
    "        num = num >> 4\n",
    "    return ans.lstrip('0') # strip leading zeros\n",
    "toHex(-1)"
   ]
  },
  {
   "cell_type": "code",
   "execution_count": 20,
   "metadata": {},
   "outputs": [
    {
     "data": {
      "text/plain": [
       "'eeeeeeee'"
      ]
     },
     "execution_count": 20,
     "metadata": {},
     "output_type": "execute_result"
    }
   ],
   "source": [
    "# recursion method\n",
    "def toHex2(n):\n",
    "    if n==0: return '0'\n",
    "    mapp = {10:'a', 11:'b', 12:'c',13:'d',14:'e',15:'e'}\n",
    "    ans = []\n",
    "    if n <0:\n",
    "        n = n + 2**32 \n",
    "    while n !=0:\n",
    "        n, digit = divmod(n, 16)\n",
    "        if 9 < digit:\n",
    "            digit = mapp[digit]\n",
    "        else:\n",
    "            digit = str(digit)\n",
    "        ans.append(digit)\n",
    "    return ''.join(ans[::-1])\n",
    "toHex2(-1)\n",
    "            "
   ]
  },
  {
   "cell_type": "code",
   "execution_count": 23,
   "metadata": {},
   "outputs": [
    {
     "data": {
      "text/plain": [
       "'AC'"
      ]
     },
     "execution_count": 23,
     "metadata": {},
     "output_type": "execute_result"
    }
   ],
   "source": [
    "#------------leetcode 168--------------\n",
    "\"\"\"excel sheet column title: given a positive integer, return its corresponding column title as\n",
    "appear in an excel sheet.\"\"\"\n",
    "# iteration\n",
    "def convertToTitle(n):\n",
    "    capitals = [chr(x) for x in range(ord(\"A\"), ord(\"Z\")+1)]\n",
    "    res = []\n",
    "    while n > 0:\n",
    "        res.append(capitals[(n-1)%26])\n",
    "        n = (n-1) // 26\n",
    "    return ''.join(res[::-1])\n",
    "convertToTitle(29)"
   ]
  },
  {
   "cell_type": "code",
   "execution_count": 21,
   "metadata": {},
   "outputs": [
    {
     "data": {
      "text/plain": [
       "'AB'"
      ]
     },
     "execution_count": 21,
     "metadata": {},
     "output_type": "execute_result"
    }
   ],
   "source": [
    "#recursion\n",
    "def converttitle(n):\n",
    "    if n==0: return ''\n",
    "    n -= 1\n",
    "    return converttitle(n//26)+ chr(n%26 + ord('A'))\n",
    "converttitle(28)"
   ]
  },
  {
   "cell_type": "code",
   "execution_count": 4,
   "metadata": {},
   "outputs": [
    {
     "data": {
      "text/plain": [
       "1"
      ]
     },
     "execution_count": 4,
     "metadata": {},
     "output_type": "execute_result"
    }
   ],
   "source": [
    "#-------------leetcode 172--------------\n",
    "\"\"\"factorial trailing zeroes: given an integer n, return the number of trailing zeroes in n! \n",
    "Note: time: O(logn)\"\"\"\n",
    "def trailingZeroes(n):\n",
    "    return 0 if n==0 else n//5+ trailingZeroes(n//5)\n",
    "\n",
    "trailingZeroes(5)"
   ]
  },
  {
   "cell_type": "markdown",
   "metadata": {},
   "source": [
    "## 编程之美2.2\n",
    "题目解析：若末位为1，则无法整除2，因此将原数除以2， 即右移1位，直到无法整除二为止。"
   ]
  },
  {
   "cell_type": "code",
   "execution_count": 11,
   "metadata": {},
   "outputs": [
    {
     "data": {
      "text/plain": [
       "3"
      ]
     },
     "execution_count": 11,
     "metadata": {},
     "output_type": "execute_result"
    }
   ],
   "source": [
    "#----------the beauty of programming 2.2------------\n",
    "\"\"\"factorial trailing ones: given an integer n, return the position of the most right trailing 1\n",
    "in n! Note: time: O(logn)\"\"\"\n",
    "def trailingones(n):\n",
    "    return 0 if n==0 else n//2+trailingones(n//2)\n",
    "trailingones(4)"
   ]
  },
  {
   "cell_type": "code",
   "execution_count": 20,
   "metadata": {},
   "outputs": [
    {
     "data": {
      "text/plain": [
       "'100'"
      ]
     },
     "execution_count": 20,
     "metadata": {},
     "output_type": "execute_result"
    }
   ],
   "source": [
    "#------------leetcode 67----------------\n",
    "\"\"\"add binary: given two binary strings, return their sum(also a binary string)\"\"\"\n",
    "#too slow\n",
    "def addBinary(a,b):\n",
    "    i, j, carry = len(a)-1, len(b)-1, 0\n",
    "    res = []\n",
    "    while carry==1 or i>=0 or j >=0:\n",
    "        \n",
    "        if i >=0 and a[i]=='1':\n",
    "            i -= 1\n",
    "            carry += 1\n",
    "        if j >=0 and b[j]=='1':\n",
    "            j -= 1\n",
    "            carry += 1\n",
    "        res.append(str(carry%2)) \n",
    "        carry = carry//2\n",
    "    \n",
    "    return ''.join(res[::-1])\n",
    "addBinary('11','1')"
   ]
  },
  {
   "cell_type": "code",
   "execution_count": null,
   "metadata": {},
   "outputs": [],
   "source": [
    "def addbinary(a,b):\n",
    "    "
   ]
  }
 ],
 "metadata": {
  "kernelspec": {
   "display_name": "Python 3",
   "language": "python",
   "name": "python3"
  },
  "language_info": {
   "codemirror_mode": {
    "name": "ipython",
    "version": 3
   },
   "file_extension": ".py",
   "mimetype": "text/x-python",
   "name": "python",
   "nbconvert_exporter": "python",
   "pygments_lexer": "ipython3",
   "version": "3.7.4"
  }
 },
 "nbformat": 4,
 "nbformat_minor": 2
}
