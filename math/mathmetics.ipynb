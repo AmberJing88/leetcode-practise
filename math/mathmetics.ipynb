{
 "cells": [
  {
   "cell_type": "markdown",
   "metadata": {},
   "source": [
    "# leetcode problem solutions"
   ]
  },
  {
   "cell_type": "markdown",
   "metadata": {},
   "source": [
    "prime number"
   ]
  },
  {
   "cell_type": "code",
   "execution_count": 8,
   "metadata": {},
   "outputs": [
    {
     "data": {
      "text/plain": [
       "4"
      ]
     },
     "execution_count": 8,
     "metadata": {},
     "output_type": "execute_result"
    }
   ],
   "source": [
    "#-----------leetcode 204--------------\n",
    "\"\"\"count prime: count the number of prime numbers less than a non-negative number,n.\"\"\"\n",
    "def countPrimes(n):\n",
    "    notPrime = [False for _ in range(n+1)]\n",
    "    count = 0\n",
    "    for i in range(2, n):\n",
    "        if notPrime[i]: continue\n",
    "        count += 1\n",
    "        for j in range(i*i, n, i):\n",
    "            notPrime[j] = True\n",
    "    return count\n",
    "countPrimes(10)"
   ]
  },
  {
   "cell_type": "code",
   "execution_count": 9,
   "metadata": {},
   "outputs": [
    {
     "data": {
      "text/plain": [
       "4"
      ]
     },
     "execution_count": 9,
     "metadata": {},
     "output_type": "execute_result"
    }
   ],
   "source": [
    "# method two\n",
    "def countprime(n):\n",
    "    sieve = [False, False] + [True for _ in range(n-2)]\n",
    "    for i in range(2, int(n**0.5)+1):\n",
    "        if sieve[i]:\n",
    "            sieve[i*i:n:i] = [False] * len(sieve[i*i:n:i])\n",
    "    return sum(sieve)\n",
    "countprime(10)\n",
    "    "
   ]
  },
  {
   "cell_type": "code",
   "execution_count": 1,
   "metadata": {},
   "outputs": [],
   "source": [
    "#-----------leetcode 762---------------\n",
    "\"\"\"prime number of set bits in binary representation: \"\"\"\n",
    "def countPrimeSetBits(L,R):\n",
    "    return len([1 for i in range(L,R+1) if bin(i).count('1') in [2,3,5,7,11,13,17,19]])"
   ]
  },
  {
   "cell_type": "code",
   "execution_count": 2,
   "metadata": {},
   "outputs": [
    {
     "data": {
      "text/plain": [
       "6"
      ]
     },
     "execution_count": 2,
     "metadata": {},
     "output_type": "execute_result"
    }
   ],
   "source": [
    "#----largest common divisor-------------\n",
    "\"\"\"given to integers, find the largest common divisor of them.\"\"\"\n",
    "def gcd(a,b):\n",
    "    return a if b==0 else gcd(b, a%b)\n",
    "gcd(12, 6)"
   ]
  },
  {
   "cell_type": "code",
   "execution_count": 3,
   "metadata": {},
   "outputs": [
    {
     "data": {
      "text/plain": [
       "12"
      ]
     },
     "execution_count": 3,
     "metadata": {},
     "output_type": "execute_result"
    }
   ],
   "source": [
    "#-------smallest common multiple-------\n",
    "\"\"\"given two integers, find the smallest common multiple of them.\"\"\"\n",
    "def lcm(a, b):\n",
    "    return a*b // (gcd(a,b))\n",
    "lcm(12,6)"
   ]
  },
  {
   "cell_type": "code",
   "execution_count": 4,
   "metadata": {},
   "outputs": [
    {
     "data": {
      "text/plain": [
       "6"
      ]
     },
     "execution_count": 4,
     "metadata": {},
     "output_type": "execute_result"
    }
   ],
   "source": [
    "# 编程之美 2.7\n",
    "\"\"\"find the largest common divisor using bit manipulation and divise operation.\"\"\"\n",
    "def gcd2(a, b):\n",
    "    if a < b:\n",
    "        return gcd(b,a)\n",
    "    if b==0:\n",
    "        return a\n",
    "    if a%2 ==0: isAeven = True\n",
    "    if b%2 ==0: isBeven = True\n",
    "    if isAeven and isBeven:\n",
    "        return 2* gcd(a>>1, b>>1)\n",
    "    elif isAeven and not isBeven:\n",
    "        return gcd(a>>1, b)\n",
    "    elif isBeven and not isAeven:\n",
    "        return gcd(a, b>>1)\n",
    "    else:\n",
    "        return gcd(b, a-b)\n",
    "gcd2(12,6)\n",
    "    "
   ]
  },
  {
   "cell_type": "markdown",
   "metadata": {},
   "source": [
    "进制转换"
   ]
  },
  {
   "cell_type": "code",
   "execution_count": null,
   "metadata": {},
   "outputs": [],
   "source": [
    "#------------leetcode 504---------------\n",
    "\"\"\"Base 7:given an integer, return its base 7 string representation. \"\"\"\n",
    "def convertToBase7(num):\n",
    "    "
   ]
  }
 ],
 "metadata": {
  "kernelspec": {
   "display_name": "Python 3",
   "language": "python",
   "name": "python3"
  },
  "language_info": {
   "codemirror_mode": {
    "name": "ipython",
    "version": 3
   },
   "file_extension": ".py",
   "mimetype": "text/x-python",
   "name": "python",
   "nbconvert_exporter": "python",
   "pygments_lexer": "ipython3",
   "version": "3.7.4"
  }
 },
 "nbformat": 4,
 "nbformat_minor": 2
}
