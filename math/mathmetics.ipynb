{
 "cells": [
  {
   "cell_type": "markdown",
   "metadata": {},
   "source": [
    "# leetcode problem solutions"
   ]
  },
  {
   "cell_type": "markdown",
   "metadata": {},
   "source": [
    "prime number"
   ]
  },
  {
   "cell_type": "code",
   "execution_count": 8,
   "metadata": {},
   "outputs": [
    {
     "data": {
      "text/plain": [
       "4"
      ]
     },
     "execution_count": 8,
     "metadata": {},
     "output_type": "execute_result"
    }
   ],
   "source": [
    "#-----------leetcode 204--------------\n",
    "\"\"\"count prime: count the number of prime numbers less than a non-negative number,n.\"\"\"\n",
    "def countPrimes(n):\n",
    "    notPrime = [False for _ in range(n+1)]\n",
    "    count = 0\n",
    "    for i in range(2, n):\n",
    "        if notPrime[i]: continue\n",
    "        count += 1\n",
    "        for j in range(i*i, n, i):\n",
    "            notPrime[j] = True\n",
    "    return count\n",
    "countPrimes(10)"
   ]
  },
  {
   "cell_type": "code",
   "execution_count": 9,
   "metadata": {},
   "outputs": [
    {
     "data": {
      "text/plain": [
       "4"
      ]
     },
     "execution_count": 9,
     "metadata": {},
     "output_type": "execute_result"
    }
   ],
   "source": [
    "# method two\n",
    "def countprime(n):\n",
    "    sieve = [False, False] + [True for _ in range(n-2)]\n",
    "    for i in range(2, int(n**0.5)+1):\n",
    "        if sieve[i]:\n",
    "            sieve[i*i:n:i] = [False] * len(sieve[i*i:n:i])\n",
    "    return sum(sieve)\n",
    "countprime(10)\n",
    "    "
   ]
  },
  {
   "cell_type": "code",
   "execution_count": null,
   "metadata": {},
   "outputs": [],
   "source": [
    "#-----------leetcode 762---------------\n",
    "\"\"\"prime number of set bits in binary representation: \"\"\""
   ]
  }
 ],
 "metadata": {
  "kernelspec": {
   "display_name": "Python 3",
   "language": "python",
   "name": "python3"
  },
  "language_info": {
   "codemirror_mode": {
    "name": "ipython",
    "version": 3
   },
   "file_extension": ".py",
   "mimetype": "text/x-python",
   "name": "python",
   "nbconvert_exporter": "python",
   "pygments_lexer": "ipython3",
   "version": "3.7.4"
  }
 },
 "nbformat": 4,
 "nbformat_minor": 2
}
