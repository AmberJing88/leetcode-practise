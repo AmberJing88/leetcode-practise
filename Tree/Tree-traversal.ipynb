{
 "cells": [
  {
   "cell_type": "markdown",
   "metadata": {},
   "source": [
    "# leetcode problem solutions"
   ]
  },
  {
   "cell_type": "markdown",
   "metadata": {},
   "source": [
    "## BInary Tree level traversal"
   ]
  },
  {
   "cell_type": "code",
   "execution_count": 2,
   "metadata": {},
   "outputs": [],
   "source": [
    "#----------------leetcode 637-------------\n",
    "\"\"\"level traverse: average of levels in binary tree. Given a non-empty binary tree \n",
    "return the average value of each levels, in form of an array.\n",
    "BFS Solution: time: O(n), space: O(n)\"\"\"\n",
    "def averageOLevel(root):\n",
    "    if not root: return []\n",
    "    result = []\n",
    "    curr_level = [root]\n",
    "    while curr_level:\n",
    "        level_nodes = []\n",
    "        next_level = []\n",
    "        for node in curr_level:\n",
    "            level_nodes.append(node.val)\n",
    "            if node.left:\n",
    "                next_level.append(node.left)\n",
    "            if node.right:\n",
    "                next_level.append(node.left)\n",
    "        result.append(sum(level_nodes)/len(level_nodes))\n",
    "        curr_level = next_level\n",
    "    return result\n"
   ]
  },
  {
   "cell_type": "code",
   "execution_count": 3,
   "metadata": {},
   "outputs": [],
   "source": [
    "# Alternative method: queue helped to record each level elements\n",
    "def aver(root):\n",
    "    result = []\n",
    "    q = [root]\n",
    "    while q !=[]:\n",
    "        n = len(q)\n",
    "        summ = 0\n",
    "        for i in range(n):\n",
    "            node = q.pop(0)\n",
    "            summ += node.val\n",
    "            if node.left:\n",
    "                q.append(node.left)\n",
    "            if node.right:\n",
    "                q.append(node.right)\n",
    "        result.append(summ/n)\n",
    "    return result\n",
    "        \n",
    "    "
   ]
  },
  {
   "cell_type": "code",
   "execution_count": 5,
   "metadata": {},
   "outputs": [],
   "source": [
    "#-------------leetcode 513------------\n",
    "\"\"\"find the bottom left value of a binary tree: the leftmost value in the last row\"\"\"\n",
    "def findBottomLeftValue(root):\n",
    "    q = [root]\n",
    "    while q != []:\n",
    "        node = q.pop(0)\n",
    "        if node.right:  # traverse from right to left, no need to record the leftmost node in each row\n",
    "            q.append(node.right)\n",
    "        if node.left:\n",
    "            q.append(node.left)\n",
    "    return node.val\n",
    "\n",
    "# alternative method: traverse from left to right, record the first node in each row\n",
    "def findBottom(root):\n",
    "    q = [root]\n",
    "    record = 0\n",
    "    while q != []:\n",
    "        n = len(q)\n",
    "        for i in range(n):\n",
    "            node = q.pop(0)\n",
    "            if i ==0:\n",
    "                record = node.val\n",
    "            if node.left:\n",
    "                q.append(node.left)\n",
    "            if node.right:\n",
    "                q.append(node.right)\n",
    "    return record\n",
    "                        "
   ]
  },
  {
   "cell_type": "markdown",
   "metadata": {},
   "source": [
    "## preorder traversal"
   ]
  },
  {
   "cell_type": "code",
   "execution_count": 1,
   "metadata": {},
   "outputs": [],
   "source": [
    "#-------------leetcode 144---------------------\n",
    "\"\"\"binary tree preorder traversal: return the preorder traversal of its nodes' value.\n",
    "Recursion Method: Time: O(n), Space: O(n)\"\"\"\n",
    "class Solution:\n",
    "    def preorderTraversal(self, root):\n",
    "        if not root:\n",
    "            return []\n",
    "        self.ans = []\n",
    "        \n",
    "        def helper(node):\n",
    "            if not node: return\n",
    "            self.ans.append(node.val)\n",
    "            if node.left:\n",
    "                helper(node.left)\n",
    "            if node.right:\n",
    "                helper(node.right)\n",
    "        helper(root)\n",
    "        return self.ans\n",
    "                \n",
    "            "
   ]
  },
  {
   "cell_type": "code",
   "execution_count": 3,
   "metadata": {},
   "outputs": [],
   "source": [
    "# Iteration Method with stack\n",
    "def preorder(root):\n",
    "    if not root:\n",
    "        return []\n",
    "    result = []\n",
    "    s = [root]\n",
    "    while s != []:\n",
    "        node = s.pop()\n",
    "        if node == None:\n",
    "            continue\n",
    "        result.append(node.val)\n",
    "        if node.right:\n",
    "            s.append(node.right)\n",
    "        if node.left:\n",
    "            s.append(node.left)\n",
    "    return result\n",
    "    "
   ]
  },
  {
   "cell_type": "markdown",
   "metadata": {},
   "source": [
    "## postorder traversal"
   ]
  },
  {
   "cell_type": "code",
   "execution_count": 6,
   "metadata": {},
   "outputs": [],
   "source": [
    "#-------------leetcode 145------------------\n",
    "\"\"\"Binary tree postorder traversal: return the postorder traversal of its nodes's value.\n",
    "Recursion Method: Time: O(n), Space: O(n)\"\"\"\n",
    "class Solution:\n",
    "    def postorderTraversal(self, root):\n",
    "        if not root: return []\n",
    "        self.ans = []\n",
    "        \n",
    "        def helper(node):\n",
    "            if not node: return\n",
    "            \n",
    "            if node.left:\n",
    "                helper(node.left)\n",
    "            if node.right:\n",
    "                helper(node.right)\n",
    "            self.ans.append(node.val)\n",
    "        helper(root)\n",
    "        return self.ans\n",
    "        \n",
    "        "
   ]
  },
  {
   "cell_type": "code",
   "execution_count": 7,
   "metadata": {},
   "outputs": [],
   "source": [
    "# Iteration Method: with stack, this method is cricky, its original order is root->right->left, so need to reversed \n",
    "# at last, to achieve the postorder traversal\n",
    "\n",
    "def postorder(root):\n",
    "    if not root: return []\n",
    "    result = []\n",
    "    s = []\n",
    "    while s:\n",
    "        node = s.pop()\n",
    "        if node is None: continue\n",
    "        result.append(node.value)\n",
    "        if node.left:\n",
    "            s.append(node.left)\n",
    "        if node.right:\n",
    "            s.append(node.right)\n",
    "    result.reverse()\n",
    "    return result         # or result[::-1], reversed(result)\n",
    "        "
   ]
  },
  {
   "cell_type": "code",
   "execution_count": 5,
   "metadata": {},
   "outputs": [
    {
     "data": {
      "text/plain": [
       "[4, 3, 2, 1]"
      ]
     },
     "execution_count": 5,
     "metadata": {},
     "output_type": "execute_result"
    }
   ],
   "source": [
    "s = [1,2,3,4]\n",
    "s.reverse()\n",
    "s"
   ]
  },
  {
   "cell_type": "code",
   "execution_count": 8,
   "metadata": {},
   "outputs": [
    {
     "data": {
      "text/plain": [
       "[1, 2, 3, 4]"
      ]
     },
     "execution_count": 8,
     "metadata": {},
     "output_type": "execute_result"
    }
   ],
   "source": [
    "s[::-1]"
   ]
  },
  {
   "cell_type": "code",
   "execution_count": 12,
   "metadata": {},
   "outputs": [
    {
     "data": {
      "text/plain": [
       "[4, 3, 2, 1]"
      ]
     },
     "execution_count": 12,
     "metadata": {},
     "output_type": "execute_result"
    }
   ],
   "source": [
    "reversed(s)\n",
    "s"
   ]
  },
  {
   "cell_type": "code",
   "execution_count": 13,
   "metadata": {},
   "outputs": [],
   "source": [
    "# Alternative method, use head to find the right despose order of left->right->root\n",
    "\n",
    "def postorder2(root):\n",
    "    if not root: return []\n",
    "    result = []\n",
    "    s = [root]\n",
    "    head = root\n",
    "    while s:\n",
    "        t = s[-1]\n",
    "        if (not t.left and not t.right) or t.left ==head or t.right ==head:\n",
    "            result.append(t.val)\n",
    "            s.pop()\n",
    "            head = t\n",
    "        else:\n",
    "            if t.right:\n",
    "                s.append(t.right)\n",
    "            if t.left:\n",
    "                s.append(t.left)\n",
    "    return result\n",
    "     "
   ]
  },
  {
   "cell_type": "markdown",
   "metadata": {},
   "source": [
    "## Inorder Traversal"
   ]
  },
  {
   "cell_type": "code",
   "execution_count": 1,
   "metadata": {},
   "outputs": [],
   "source": [
    "#-----------leetcode 94-----------------\n",
    "\"\"\"binary tree return the inorder traversal of its nodes' value.\n",
    "Recursion Method: Time: O(n), Space: O(n)\"\"\"\n",
    "class Solution:\n",
    "    def inorderTraversal(self, root):\n",
    "        if not root: return []\n",
    "        self.ans = []\n",
    "        \n",
    "        def helper(node):\n",
    "            if not node: return\n",
    "            if node.left:\n",
    "                helper(node.left)\n",
    "            self.ans.append(node.val)\n",
    "            if node.right:\n",
    "                helper(node.right)\n",
    "        helper(root)\n",
    "        return self.ans"
   ]
  },
  {
   "cell_type": "code",
   "execution_count": 3,
   "metadata": {},
   "outputs": [],
   "source": [
    "#-Iteration Method: Time: O(n), Space: O(n)\n",
    "def inorder(root):\n",
    "    if not root:\n",
    "        return []\n",
    "    result = []\n",
    "    s = []\n",
    "    head = root\n",
    "    while s or head:\n",
    "        if head:\n",
    "            s.append(head)\n",
    "            head = head.left\n",
    "        else:\n",
    "            head = s.pop()\n",
    "            result.append(head.val)\n",
    "            head = head.right\n",
    "    return result"
   ]
  },
  {
   "cell_type": "code",
   "execution_count": 7,
   "metadata": {},
   "outputs": [],
   "source": [
    "# Morris Traversal, need build Treaded binary tree,\n",
    "# Time O(n), Space O(1)\n",
    "class TreeNode:\n",
    "    def __init__(self, x):\n",
    "        self.val = x\n",
    "        self.left = None\n",
    "        self.right = None\n",
    "class Solution:    \n",
    "    def Morris_inorder(self, root):\n",
    "        result = []\n",
    "        if not root:\n",
    "            return result\n",
    "        curr = root\n",
    "        pre = TreeNode(None)\n",
    "        while curr:\n",
    "            if not curr.left:\n",
    "                result.append(curr.val)\n",
    "                curr = curr.right\n",
    "            else:\n",
    "                pre = curr.left\n",
    "                while pre.right and pre.right != curr:\n",
    "                    pre = pre.right\n",
    "                if not pre.right:\n",
    "                    pre.right = curr\n",
    "                    curr = curr.left\n",
    "                else:\n",
    "                    pre.right = None\n",
    "                    result.append(curr.val)\n",
    "                    curr = curr.right\n",
    "        return result"
   ]
  },
  {
   "cell_type": "code",
   "execution_count": null,
   "metadata": {},
   "outputs": [],
   "source": []
  }
 ],
 "metadata": {
  "kernelspec": {
   "display_name": "Python 3",
   "language": "python",
   "name": "python3"
  },
  "language_info": {
   "codemirror_mode": {
    "name": "ipython",
    "version": 3
   },
   "file_extension": ".py",
   "mimetype": "text/x-python",
   "name": "python",
   "nbconvert_exporter": "python",
   "pygments_lexer": "ipython3",
   "version": "3.7.4"
  }
 },
 "nbformat": 4,
 "nbformat_minor": 2
}
