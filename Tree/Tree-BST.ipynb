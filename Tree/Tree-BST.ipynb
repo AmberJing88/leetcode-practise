{
 "cells": [
  {
   "cell_type": "markdown",
   "metadata": {},
   "source": [
    "# leetcode problem solutions"
   ]
  },
  {
   "cell_type": "code",
   "execution_count": 8,
   "metadata": {},
   "outputs": [],
   "source": [
    "#------------leetcode 669---------------\n",
    "\"\"\"given abst and the lowest and highest boundaries as L and R, trim the tree so that all its elements lies in [L, R]\n",
    "you might need to change the root of the tree ,so that the result should return the new root of ten trimmed BST\"\"\"\n",
    "class Solution:\n",
    "    def trimBST(self, root, L, R):\n",
    "        if not root:\n",
    "            return None\n",
    "        if root.val >R:\n",
    "            return self.trimBST(root.left, L, R)\n",
    "        if root.val < L:\n",
    "            return self.trimBST(root.right, L, R)\n",
    "        else:\n",
    "            root.left = self.trimBST(root.left, L, R)\n",
    "            root.right = self.trimBST(root.right, L, R)\n",
    "        return root"
   ]
  },
  {
   "cell_type": "code",
   "execution_count": 10,
   "metadata": {},
   "outputs": [],
   "source": [
    "#-------------leetcode 230----------------\n",
    "\"\"\"find the kth smallest element in a BST\"\"\"\n",
    "# recursion method: inorder traversal: time:O(n), space: O(n)\n",
    "class SOlution:\n",
    "    def kthSmallest(self, root, k):\n",
    "        self.k_l = []\n",
    "        self.inorder(root)\n",
    "        return self.k_l[k-1]\n",
    "    \n",
    "    def inorder(self, root):\n",
    "        if not root:\n",
    "            return\n",
    "        if root.left:\n",
    "            self.inorder(root.left)\n",
    "        self.k_l.append(root.val)\n",
    "        if root.right:\n",
    "            self.inorder(root.right)\n",
    "        \n",
    "        "
   ]
  },
  {
   "cell_type": "code",
   "execution_count": 11,
   "metadata": {},
   "outputs": [],
   "source": [
    "# Iteration Method: Time: O(logn+k) Space: O(logn+k)\n",
    "def kthSmall(root):\n",
    "    s = []\n",
    "    while True:\n",
    "        while root:\n",
    "            s.append(root)\n",
    "            root = root.left\n",
    "        root = s.pop()\n",
    "        k -= 1\n",
    "        if not k:\n",
    "            return root.val\n",
    "        root = root.right"
   ]
  },
  {
   "cell_type": "code",
   "execution_count": null,
   "metadata": {},
   "outputs": [],
   "source": []
  }
 ],
 "metadata": {
  "kernelspec": {
   "display_name": "Python 3",
   "language": "python",
   "name": "python3"
  },
  "language_info": {
   "codemirror_mode": {
    "name": "ipython",
    "version": 3
   },
   "file_extension": ".py",
   "mimetype": "text/x-python",
   "name": "python",
   "nbconvert_exporter": "python",
   "pygments_lexer": "ipython3",
   "version": "3.7.4"
  }
 },
 "nbformat": 4,
 "nbformat_minor": 2
}
