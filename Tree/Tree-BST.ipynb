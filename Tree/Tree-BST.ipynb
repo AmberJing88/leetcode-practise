{
 "cells": [
  {
   "cell_type": "markdown",
   "metadata": {},
   "source": [
    "# leetcode problem solutions"
   ]
  },
  {
   "cell_type": "code",
   "execution_count": 8,
   "metadata": {},
   "outputs": [],
   "source": [
    "#------------leetcode 669---------------\n",
    "\"\"\"given abst and the lowest and highest boundaries as L and R, trim the tree so that all its elements lies in [L, R]\n",
    "you might need to change the root of the tree ,so that the result should return the new root of ten trimmed BST\"\"\"\n",
    "class Solution:\n",
    "    def trimBST(self, root, L, R):\n",
    "        if not root:\n",
    "            return None\n",
    "        if root.val >R:\n",
    "            return self.trimBST(root.left, L, R)\n",
    "        if root.val < L:\n",
    "            return self.trimBST(root.right, L, R)\n",
    "        else:\n",
    "            root.left = self.trimBST(root.left, L, R)\n",
    "            root.right = self.trimBST(root.right, L, R)\n",
    "        return root"
   ]
  },
  {
   "cell_type": "code",
   "execution_count": 10,
   "metadata": {},
   "outputs": [],
   "source": [
    "#-------------leetcode 230----------------\n",
    "\"\"\"find the kth smallest element in a BST\"\"\"\n",
    "# recursion method: inorder traversal: time:O(n), space: O(n)\n",
    "class SOlution:\n",
    "    def kthSmallest(self, root, k):\n",
    "        self.k_l = []\n",
    "        self.inorder(root)\n",
    "        return self.k_l[k-1]\n",
    "    \n",
    "    def inorder(self, root):\n",
    "        if not root:\n",
    "            return\n",
    "        if root.left:\n",
    "            self.inorder(root.left)\n",
    "        self.k_l.append(root.val)\n",
    "        if root.right:\n",
    "            self.inorder(root.right)\n",
    "        \n",
    "        "
   ]
  },
  {
   "cell_type": "code",
   "execution_count": 11,
   "metadata": {},
   "outputs": [],
   "source": [
    "# Iteration Method: Time: O(logn+k) Space: O(logn+k)\n",
    "def kthSmall(root):\n",
    "    s = []\n",
    "    while True:\n",
    "        while root:\n",
    "            s.append(root)\n",
    "            root = root.left\n",
    "        root = s.pop()\n",
    "        k -= 1\n",
    "        if not k:\n",
    "            return root.val\n",
    "        root = root.right"
   ]
  },
  {
   "cell_type": "code",
   "execution_count": 1,
   "metadata": {},
   "outputs": [],
   "source": [
    "#----------------leetcode 98------------------\n",
    "\"\"\"validate binary search tree: determin if a BST is valid. left subtree nodes less than root, \n",
    "right subtree nodes larger than nodes. left and right are also BST\"\"\"\n",
    "# inorder recursion method: Time: O(n), space: O(n)\n",
    "class SOlution:\n",
    "    def isValidBST(self, root):\n",
    "        if not root:\n",
    "            return True\n",
    "        self.result = []\n",
    "        def inorder(node):\n",
    "            if not node: return\n",
    "            if node.left:\n",
    "                inorder(node.left)\n",
    "            self.result.append(node.val)\n",
    "            if node.right:\n",
    "                inorder(node.right)\n",
    "        inorder(root)\n",
    "        for i in range(len(self.result)-1):\n",
    "            if self.result[i] >= self.result[i+1]:\n",
    "                return False\n",
    "        return True\n",
    "# 此方法为BST中序遍历法，即升序遍历，因此若结果list不是升序， 则此树不是BST树\n",
    "# 可以优化为 不需要存储数值， 在遍历过程中直接比较 （ method2)\n"
   ]
  },
  {
   "cell_type": "code",
   "execution_count": 3,
   "metadata": {},
   "outputs": [],
   "source": [
    "# Method2: use boundaries of node.val to compare if the node.val is valid\n",
    "def isValidBST2(root):\n",
    "    \n",
    "    def isValidBST(root, floor=float('-inf'), ceiling=float('inf')):\n",
    "        if not root:\n",
    "            return True\n",
    "        if root.val <= floor or root.val >= ceiling:\n",
    "            return False\n",
    "        # in the left subtree, root is the new ceiling, contrarily root is the new floor in right subtree\n",
    "        return isValidBST(root.left, floor, root.val) and isValidBST(root.right, root.val, ceiling)\n",
    "    return isValidBST(root, float('-inf'), float('inf'))\n",
    "    "
   ]
  },
  {
   "cell_type": "code",
   "execution_count": 4,
   "metadata": {},
   "outputs": [],
   "source": [
    "#-----------leetcode 538-------------------\n",
    "\"\"\"convert a binary tree to greater such that every key of the original BST is changed to its original value\n",
    "plus sum of all keys greater than the original key in bst\"\"\"\n",
    "# recursion method: traverse right->root->left: Time: O(n), Space: O(n)\n",
    "class Solution:\n",
    "    def convertBST(self, root):\n",
    "        head = root\n",
    "        if not root:\n",
    "            return None\n",
    "        self.summ = 0\n",
    "        \n",
    "        def traver(node):\n",
    "            if not node: return\n",
    "            if node.right:\n",
    "                traver(node.right)\n",
    "            self.summ += node.val\n",
    "            node.val = self.summ\n",
    "            if node.left:\n",
    "                traver(node.left)\n",
    "        traver(root)\n",
    "        return head"
   ]
  },
  {
   "cell_type": "code",
   "execution_count": 7,
   "metadata": {},
   "outputs": [],
   "source": [
    "# iteration Method with stack: Time: O(n), Space: O(n)\n",
    "def convertBST(root):\n",
    "    total = 0\n",
    "    node = root\n",
    "    s = []\n",
    "    while s or node:\n",
    "        if node:\n",
    "            s.append(node)\n",
    "            node = node.right\n",
    "        else:\n",
    "            node = s.pop()\n",
    "            total += node.val\n",
    "            node.val = total\n",
    "            node = node.left\n",
    "    return root"
   ]
  },
  {
   "cell_type": "code",
   "execution_count": 9,
   "metadata": {},
   "outputs": [],
   "source": [
    "#--------------leetcode 235------------\n",
    "\"\"\"find the lowest common ancestor (LCA) of two nodes in a BST. a node is a descendant of itself\"\"\"\n",
    "# recursion method: Time: O(n), Space: O(n)\n",
    "def lowestCommonAncestor(root, p, q): # root, p, q are TreeNode type\n",
    "    if p.val <= root.val <= q.val or p.val >= root.val >= q.val:\n",
    "        return root\n",
    "    if root.val < p.val and root.val < q.val:\n",
    "        return self.lowestCommonAncestor(root.right, p, q)\n",
    "    else:\n",
    "        return self.lowestCommonAncestor(root.left, p, q)\n",
    "    \n",
    "\"\"\"Optimize the upper method\"\"\"\n",
    "def LCA(root, p, q):\n",
    "    if p.val < root.val and q.val < root.val:\n",
    "        return LCA(root.left, p, q)\n",
    "    if p.val > root.val and q.val > root.val:\n",
    "        return LCA(root.right, p, q)\n",
    "    else:\n",
    "        return root\n",
    "    "
   ]
  },
  {
   "cell_type": "code",
   "execution_count": 10,
   "metadata": {},
   "outputs": [],
   "source": [
    "# Iteration Method: Time: O(n), Space: O(n)\n",
    "def LowestCA(root, p, q):\n",
    "    node = root\n",
    "    while node:\n",
    "        if p.val < node.val and q.val < node.val:\n",
    "            node = node.left\n",
    "        if p.val > node.val and q.val > node.val:\n",
    "            node = node.right\n",
    "        else:\n",
    "            return node"
   ]
  },
  {
   "cell_type": "code",
   "execution_count": null,
   "metadata": {},
   "outputs": [],
   "source": []
  }
 ],
 "metadata": {
  "kernelspec": {
   "display_name": "Python 3",
   "language": "python",
   "name": "python3"
  },
  "language_info": {
   "codemirror_mode": {
    "name": "ipython",
    "version": 3
   },
   "file_extension": ".py",
   "mimetype": "text/x-python",
   "name": "python",
   "nbconvert_exporter": "python",
   "pygments_lexer": "ipython3",
   "version": "3.7.4"
  }
 },
 "nbformat": 4,
 "nbformat_minor": 2
}
