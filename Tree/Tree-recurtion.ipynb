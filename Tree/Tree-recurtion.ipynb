{
 "cells": [
  {
   "cell_type": "markdown",
   "metadata": {},
   "source": [
    "# leetcode problem solutions"
   ]
  },
  {
   "cell_type": "code",
   "execution_count": 1,
   "metadata": {},
   "outputs": [],
   "source": [
    "#---------leetcode104-------------\n",
    "\"\"\"Maximum of binary tree:the maximum depth is the number of nodes along the longest path from the root\n",
    "node to the fartherst leaf node.\"\"\"\n",
    "\n",
    "class TreeNode:\n",
    "    def __init__(self, val=0,left=None,right=None):\n",
    "        self.val = val\n",
    "        self.left = left\n",
    "        self.right = right\n",
    "        \n",
    "class Solution:\n",
    "    def maxDepth(self, root):\n",
    "        if root is None:\n",
    "            return 0\n",
    "        if not root.left and not root.right:\n",
    "            return 1\n",
    "        while root.left or root.right:\n",
    "            return 1+ max(self.maxDepth(root.left), self.maxDepth(root.right))"
   ]
  },
  {
   "cell_type": "code",
   "execution_count": 5,
   "metadata": {},
   "outputs": [],
   "source": [
    "#----------leetcode 110--------------\n",
    "\"\"\"banlanced binary tree: height-balanced tree is the left and right subtrees of enery node differ in height \n",
    "by no more than 1.\"\"\"\n",
    "class TreeNode:\n",
    "    def __init__(self, val=0,left=None,right=None):\n",
    "        self.val = val\n",
    "        self.left = left\n",
    "        self.right = right\n",
    "        \n",
    "class Solution:\n",
    "    def isBanlanced(self,root):\n",
    "        if not root:\n",
    "            return True\n",
    "        if abs(self.maxHeight(root.left)-self.maxHeight(root.right)) >1:\n",
    "            return False\n",
    "        \n",
    "    def maxHeight(self,node):\n",
    "        if node is None:\n",
    "            return 0\n",
    "        l = maxHeight(node.left)\n",
    "        r = maxHeight(node.right)\n",
    "            \n",
    "        return 1+max(l,r)\n",
    "    \n",
    "def isBanlanced(root):\n",
    "    def banlance(node):\n",
    "        if not node:\n",
    "            return 0\n",
    "        left_banlance = banlance(node.left)\n",
    "        right_banlance = banlance(node.right)\n",
    "        \n",
    "        if left_banlance ==-1 or right_banlance == -1:\n",
    "            return -1\n",
    "        if abs(left_banlance - right_banlance) >1:\n",
    "            return -1\n",
    "        return 1+ max(left_banlance, right_banlance)\n",
    "    \n",
    "    return banlance(root) != -1\n",
    "    \n",
    "        \n",
    "        "
   ]
  },
  {
   "cell_type": "code",
   "execution_count": 6,
   "metadata": {},
   "outputs": [],
   "source": [
    "#-----------leetcode543---------------\n",
    "\"\"\"diameter of binary tree: the length of the longest path between any two nodes in a tree.\n",
    "this path may or may not pass through the root.\"\"\"\n",
    "class TreeNode:\n",
    "    def __init__(self, val=0,left=None,right=None):\n",
    "        self.val = val\n",
    "        self.left = left\n",
    "        self.right = right\n",
    "class Solution:\n",
    "    def diameterOfBinaryTree(self, root):\n",
    "        self.longest = 0\n",
    "        self.depth(root)\n",
    "        return self.longest\n",
    "    \n",
    "    def depth(self, node):\n",
    "        longest = 0\n",
    "        if not node:\n",
    "            return 0 \n",
    "        l = self.depth(node.left)\n",
    "        r = self.depth(node.right)\n",
    "        self.longest = max(self.longest, l+r)\n",
    "        \n",
    "        return 1+ max(l, r)"
   ]
  },
  {
   "cell_type": "code",
   "execution_count": null,
   "metadata": {},
   "outputs": [],
   "source": []
  }
 ],
 "metadata": {
  "kernelspec": {
   "display_name": "Python 3",
   "language": "python",
   "name": "python3"
  },
  "language_info": {
   "codemirror_mode": {
    "name": "ipython",
    "version": 3
   },
   "file_extension": ".py",
   "mimetype": "text/x-python",
   "name": "python",
   "nbconvert_exporter": "python",
   "pygments_lexer": "ipython3",
   "version": "3.7.4"
  }
 },
 "nbformat": 4,
 "nbformat_minor": 2
}
