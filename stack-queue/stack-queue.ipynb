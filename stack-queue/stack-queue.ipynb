{
 "cells": [
  {
   "cell_type": "markdown",
   "metadata": {},
   "source": [
    "# leetcode problem solutions"
   ]
  },
  {
   "cell_type": "code",
   "execution_count": null,
   "metadata": {},
   "outputs": [],
   "source": [
    "#---------------leetcode 232---------------\n",
    "\"\"\"implement the queue operations of a queue using stacks.\n",
    "push(x), pop(0), peed(), empty()\"\"\"\n",
    "\n",
    "class MyQueue:\n",
    "    def __init__(self):\n",
    "        self._size = 0\n",
    "        self.stackin = []\n",
    "        self.stackout = []\n",
    "        self.top = None\n",
    "    \n",
    "    def push(self, x):\n",
    "        \"\"\"push an element to the back of the queue\"\"\"\n",
    "        if not self.stackin:\n",
    "            self.top = x\n",
    "            \n",
    "        self.stackin.append(x)\n",
    "        self._size +=1\n",
    "    \n",
    "    def pop(self):\n",
    "        \"\"\"remove the element from in front of queue and return that element.\"\"\"\n",
    "        if not self.stackout:\n",
    "            while self.stackin:\n",
    "                self.stackout.append(self.stackin.pop())\n",
    "        self._size -= 1\n",
    "        return self.stackout.pop()\n",
    "    \n",
    "    def peek(self):\n",
    "        \"\"\"get the front element\"\"\"\n",
    "        if self.empty():\n",
    "            raise Empty('empty queue')\n",
    "        if self.stackout:\n",
    "            return self.stackout[-1]\n",
    "        return self.top\n",
    "    \n",
    "    def empty(self):\n",
    "        \"\"\"return whether the queue is empty.\"\"\"\n",
    "        return self._size == 0"
   ]
  },
  {
   "cell_type": "code",
   "execution_count": 3,
   "metadata": {},
   "outputs": [],
   "source": [
    "#---------------leetcode 225--------------------\n",
    "\"\"\"implement stack operations using queues \n",
    "push, pop, top, empty\"\"\"\n",
    "\n",
    "from queue import Queue\n",
    "class MyStack:\n",
    "    def __inti__(self):\n",
    "        self.stack = Queue()\n",
    "        self._size = 0\n",
    "    \n",
    "    def push(self, x):\n",
    "        \"\"\"push element to the top of stack\"\"\"\n",
    "        reverse = Queue()\n",
    "        while not self.stack.empty():\n",
    "            reverse.put(self.stack.get())\n",
    "        self.stack.put(x)\n",
    "        while not reverse.empty():\n",
    "            self.stack.put(reverse.get())\n",
    "        self._size += 1\n",
    "    \n",
    "    def pop(self):\n",
    "        \"\"\"remove the element of the top of stack and return that element\"\"\"\n",
    "        if not self.empty():\n",
    "            self._size -= 1\n",
    "            return self.stack.get()\n",
    "    \n",
    "    def top(self):\n",
    "        \"\"\"get the top element\"\"\"\n",
    "        top = self.stack.get()\n",
    "        self.push(top)\n",
    "        return top\n",
    "    \n",
    "    def empty(self):\n",
    "        \"\"\"return whether the stack is empty.\"\"\"\n",
    "        return self.stack.empty()\n",
    "    "
   ]
  },
  {
   "cell_type": "code",
   "execution_count": 4,
   "metadata": {},
   "outputs": [],
   "source": [
    "#------------------leetcode 155------------------\n",
    "\"\"\"min stack design a stack that supports push, pop, top and retrieving the minimum element in constant time.\"\"\"\n",
    "class MinStack:\n",
    "    \n",
    "    def __init__(self):\n",
    "        self.minstack = []\n",
    "        self._size = 0\n",
    "        \n",
    "    def push(self, x):\n",
    "        self.minstack.append(x)\n",
    "        self._size += 1\n",
    "        \n",
    "    def pop(self):\n",
    "        self.minstack.pop()\n",
    "        self._size -= 1\n",
    "        \n",
    "    def top(self):\n",
    "        if self._size ==0:\n",
    "            return False\n",
    "        else:\n",
    "            return self.minstack[-1]\n",
    "        \n",
    "    def getMin(self):\n",
    "        return min(self.minstack)"
   ]
  },
  {
   "cell_type": "code",
   "execution_count": null,
   "metadata": {},
   "outputs": [],
   "source": []
  },
  {
   "cell_type": "code",
   "execution_count": null,
   "metadata": {},
   "outputs": [],
   "source": []
  },
  {
   "cell_type": "code",
   "execution_count": null,
   "metadata": {},
   "outputs": [],
   "source": []
  }
 ],
 "metadata": {
  "kernelspec": {
   "display_name": "Python 3",
   "language": "python",
   "name": "python3"
  },
  "language_info": {
   "codemirror_mode": {
    "name": "ipython",
    "version": 3
   },
   "file_extension": ".py",
   "mimetype": "text/x-python",
   "name": "python",
   "nbconvert_exporter": "python",
   "pygments_lexer": "ipython3",
   "version": "3.7.4"
  }
 },
 "nbformat": 4,
 "nbformat_minor": 2
}
