{
 "cells": [
  {
   "cell_type": "markdown",
   "metadata": {},
   "source": [
    "# sort methods review"
   ]
  },
  {
   "cell_type": "markdown",
   "metadata": {},
   "source": [
    "## Problem: leetcode 912 sort an array"
   ]
  },
  {
   "cell_type": "markdown",
   "metadata": {},
   "source": [
    "given an array of integers nums, sort the array in ascending orders. Note: different methods."
   ]
  },
  {
   "cell_type": "code",
   "execution_count": 1,
   "metadata": {},
   "outputs": [],
   "source": [
    "# python builtin function\n",
    "def sortArray(nums):\n",
    "    return sorted(nums)"
   ]
  },
  {
   "cell_type": "code",
   "execution_count": 5,
   "metadata": {},
   "outputs": [],
   "source": [
    "# insertion sort\n",
    "def insertionsor(nums):\n",
    "    for i in range(1, len(nums)):\n",
    "        key = nums[i]\n",
    "        j = j-i\n",
    "        while j >= 0 and key < nums[i]:\n",
    "            nums[j+1] = nums[j]\n",
    "            j -= 1\n",
    "        nums[j+1] = key\n",
    "        "
   ]
  },
  {
   "cell_type": "code",
   "execution_count": 4,
   "metadata": {},
   "outputs": [],
   "source": [
    "# selection sort\n",
    "def selectionsort(nums):\n",
    "    for i in range(len(nums)):\n",
    "        _min = min(nums[i:])\n",
    "        min_index = nums[i:].index(_min)\n",
    "        nums[i+min_index] = nums[i]\n",
    "        nums[i] = _min\n",
    "    return nums"
   ]
  },
  {
   "cell_type": "code",
   "execution_count": 6,
   "metadata": {},
   "outputs": [],
   "source": [
    "# bubble sort\n",
    "def bubblesort(nums):\n",
    "    n = len(nums)\n",
    "    for i in range(n):\n",
    "        for j in range(n-i-1):\n",
    "            if nums[j] >nums[j+1]:\n",
    "                nums[j], nums[j+1] = nums[j+1], nums[j]"
   ]
  },
  {
   "cell_type": "code",
   "execution_count": 7,
   "metadata": {},
   "outputs": [],
   "source": [
    "# quick sort\n",
    "def quicksort(nums):\n",
    "    def helper(head, tail):\n",
    "        if head >= tail:\n",
    "            return\n",
    "        l, r = head, tail\n",
    "        m = l + (r-l)//2\n",
    "        pivot = nums[m]\n",
    "        while l <= r:\n",
    "            while r >= l and nums[l] < pivot:\n",
    "                l += 1\n",
    "            while r >= l and nums[r] > pivot:\n",
    "                r -= 1\n",
    "            if r >= l:\n",
    "                nums[l], nums[r] = nums[r], nums[l]\n",
    "                l += 1\n",
    "                r -= 1\n",
    "        helper(head, r)\n",
    "        helper(l, tail)\n",
    "        \n",
    "    helper(0, len(nums)-1)\n",
    "    return nums"
   ]
  },
  {
   "cell_type": "code",
   "execution_count": 10,
   "metadata": {},
   "outputs": [],
   "source": [
    "# merge sort\n",
    "def mergesort(nums):\n",
    "    def sortting(A):\n",
    "        n = len(A)\n",
    "        if n ==1: return A\n",
    "        lh, rh = sortting(A[:n//2]), sortting(A[n//2:])\n",
    "        return merge(lh, rh)\n",
    "    \n",
    "    def merge(lh, rh):\n",
    "        nl, nr = len(lh), len(rh)\n",
    "        s, i, j = [], 0, 0\n",
    "        while i <nl and j < nr:\n",
    "            if lh[i] <= rh[j]:\n",
    "                i, _ = i+1, s.append(lh[i])\n",
    "            else:\n",
    "                j, _ = j+1, s.append(rh[j])\n",
    "        return s +(rh[j:] if i ==nl else lh[i:])\n",
    "    \n",
    "    return sortting(nums)\n",
    "                \n",
    "            "
   ]
  },
  {
   "cell_type": "code",
   "execution_count": 9,
   "metadata": {},
   "outputs": [],
   "source": [
    "# heap sort\n",
    "def heapsort(nums):\n",
    "    def hepify(nums, n, i):\n",
    "        l = 2*i +1\n",
    "        r = 2*i +2\n",
    "        largest = i\n",
    "        if l < n and nums[largest] < nums[l]:\n",
    "            largest = l\n",
    "        if r < n and nums[largest] < nums[r]:\n",
    "            largest = r\n",
    "        if largest != i:\n",
    "            nums[i], nums[largest] = nums[largest], nums[i]\n",
    "            heapify(nums, n, largest)\n",
    "            \n",
    "    n = len(nums)\n",
    "    for i in range(n//2+1)[::-1]:\n",
    "        heapify(nums, n, i)\n",
    "    for i in range(n)[::-1]:\n",
    "        nums[i], nums[0] = nums[i], nums[0]\n",
    "        heapify(nums, i, 0)\n",
    "            "
   ]
  },
  {
   "cell_type": "code",
   "execution_count": 11,
   "metadata": {},
   "outputs": [],
   "source": [
    "# bucket sort average time :O(n), worst case: O(n**2)\n",
    "def sortArray(nums):\n",
    "    def insertion_sort(A):\n",
    "        for i in range(1, len(A)):\n",
    "            for j in range(0,i):\n",
    "                if A[i] < A[j]:\n",
    "                    A.insert(j, A.pop(i))\n",
    "                    break\n",
    "        return A\n",
    "    def bucketsort(A):\n",
    "        buckets, m, s = [[] for _ in range(1000)], min(A), []\n",
    "        R = max(A) - m\n",
    "        if R ==0:\n",
    "            return A\n",
    "        for a in A:\n",
    "            buckets[999*(a-m)//R].append(a)\n",
    "        for b in buckets:\n",
    "            s.extends(insertion_sort(b))\n",
    "        return s\n",
    "    return bucketsort(nums)"
   ]
  },
  {
   "cell_type": "code",
   "execution_count": null,
   "metadata": {},
   "outputs": [],
   "source": []
  }
 ],
 "metadata": {
  "kernelspec": {
   "display_name": "Python 3",
   "language": "python",
   "name": "python3"
  },
  "language_info": {
   "codemirror_mode": {
    "name": "ipython",
    "version": 3
   },
   "file_extension": ".py",
   "mimetype": "text/x-python",
   "name": "python",
   "nbconvert_exporter": "python",
   "pygments_lexer": "ipython3",
   "version": "3.7.4"
  }
 },
 "nbformat": 4,
 "nbformat_minor": 2
}
