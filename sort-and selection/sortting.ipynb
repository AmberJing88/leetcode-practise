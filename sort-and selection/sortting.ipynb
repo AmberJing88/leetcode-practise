{
 "cells": [
  {
   "cell_type": "markdown",
   "metadata": {},
   "source": [
    "# sort methods review"
   ]
  },
  {
   "cell_type": "markdown",
   "metadata": {},
   "source": [
    "## Problem: leetcode 912 sort an array"
   ]
  },
  {
   "cell_type": "markdown",
   "metadata": {},
   "source": [
    "given an array of integers nums, sort the array in ascending orders. Note: different methods."
   ]
  },
  {
   "cell_type": "code",
   "execution_count": 1,
   "metadata": {},
   "outputs": [],
   "source": [
    "# python builtin function\n",
    "def sortArray(nums):\n",
    "    return sorted(nums)"
   ]
  },
  {
   "cell_type": "code",
   "execution_count": 5,
   "metadata": {},
   "outputs": [],
   "source": [
    "# insertion sort\n",
    "def insertionsor(nums):\n",
    "    for i in range(1, len(nums)):\n",
    "        key = nums[i]\n",
    "        j = j-i\n",
    "        while j >= 0 and key < nums[i]:\n",
    "            nums[j+1] = nums[j]\n",
    "            j -= 1\n",
    "        nums[j+1] = key\n",
    "        "
   ]
  },
  {
   "cell_type": "code",
   "execution_count": 4,
   "metadata": {},
   "outputs": [],
   "source": [
    "# selection sort\n",
    "def selectionsort(nums):\n",
    "    for i in range(len(nums)):\n",
    "        _min = min(nums[i:])\n",
    "        min_index = nums[i:].index(_min)\n",
    "        nums[i+min_index] = nums[i]\n",
    "        nums[i] = _min\n",
    "    return nums"
   ]
  },
  {
   "cell_type": "code",
   "execution_count": 6,
   "metadata": {},
   "outputs": [],
   "source": [
    "# bubble sort\n",
    "def bubblesort(nums):\n",
    "    n = len(nums)\n",
    "    for i in range(n):\n",
    "        for j in range(n-i-1):\n",
    "            if nums[j] >nums[j+1]:\n",
    "                nums[j], nums[j+1] = nums[j+1], nums[j]"
   ]
  },
  {
   "cell_type": "code",
   "execution_count": 7,
   "metadata": {},
   "outputs": [],
   "source": [
    "# quick sort\n",
    "def quicksort(nums):\n",
    "    def helper(head, tail):\n",
    "        if head >= tail:\n",
    "            return\n",
    "        l, r = head, tail\n",
    "        m = l + (r-l)//2\n",
    "        pivot = nums[m]\n",
    "        while l <= r:\n",
    "            while r >= l and nums[l] < pivot:\n",
    "                l += 1\n",
    "            while r >= l and nums[r] > pivot:\n",
    "                r -= 1\n",
    "            if r >= l:\n",
    "                nums[l], nums[r] = nums[r], nums[l]\n",
    "                l += 1\n",
    "                r -= 1\n",
    "        helper(head, r)\n",
    "        helper(l, tail)\n",
    "        \n",
    "    helper(0, len(nums)-1)\n",
    "    return nums"
   ]
  },
  {
   "cell_type": "code",
   "execution_count": null,
   "metadata": {},
   "outputs": [],
   "source": []
  }
 ],
 "metadata": {
  "kernelspec": {
   "display_name": "Python 3",
   "language": "python",
   "name": "python3"
  },
  "language_info": {
   "codemirror_mode": {
    "name": "ipython",
    "version": 3
   },
   "file_extension": ".py",
   "mimetype": "text/x-python",
   "name": "python",
   "nbconvert_exporter": "python",
   "pygments_lexer": "ipython3",
   "version": "3.7.4"
  }
 },
 "nbformat": 4,
 "nbformat_minor": 2
}
