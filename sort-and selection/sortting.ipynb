{
 "cells": [
  {
   "cell_type": "markdown",
   "metadata": {},
   "source": [
    "# leetcode problem solutions"
   ]
  },
  {
   "cell_type": "code",
   "execution_count": 14,
   "metadata": {},
   "outputs": [],
   "source": [
    "#------------leetcode 524-------------\n",
    "\"\"\"longest word in dictionary through deleting: given a string and a string dictionary, find the \n",
    "longest string in the dictionary that can be formed by deleting some characters of the given stri\n",
    "ng. if there are more than one possible results, return the longest word with the smallest lexico\n",
    "graphical order. if there is no possible result, return the empty string.\"\"\"\n",
    "def findLongestWord(s, d):\n",
    "    def is_subsequence(s, t):\n",
    "        i, j = 0,0\n",
    "        while i < len(s) and (len(t)-j) >= (len(s)-i):\n",
    "            if s[i] == t[j]:\n",
    "                i += 1\n",
    "            j += 1\n",
    "        if i == len(s):\n",
    "            return True\n",
    "        return False\n",
    "    d.sort(key=lambda x: (-len(x), x))\n",
    "    for word in d:\n",
    "        if is_subsequence(word, s):\n",
    "            return word\n",
    "    return \"\""
   ]
  },
  {
   "cell_type": "markdown",
   "metadata": {},
   "source": [
    "### sorting"
   ]
  },
  {
   "cell_type": "code",
   "execution_count": 1,
   "metadata": {},
   "outputs": [
    {
     "data": {
      "text/plain": [
       "5"
      ]
     },
     "execution_count": 1,
     "metadata": {},
     "output_type": "execute_result"
    }
   ],
   "source": [
    "#------------leetcode 215-------------\n",
    "\"\"\"Kth largest element in array: find the kth largest element in an unsorted array. Note: sorted \n",
    "order kth largest.\"\"\"\n",
    "# sort buildin function time: O(nlogn), space: O(1)\n",
    "def findKthlargest(nums, k):\n",
    "    nums.sort(reverse=True)\n",
    "    return nums[k-1]\n",
    "findKthlargest([3,2,1,5,6,4], 2)"
   ]
  },
  {
   "cell_type": "code",
   "execution_count": 5,
   "metadata": {},
   "outputs": [
    {
     "data": {
      "text/plain": [
       "5"
      ]
     },
     "execution_count": 5,
     "metadata": {},
     "output_type": "execute_result"
    }
   ],
   "source": [
    "# heap queue method, time: O(nlogk), space: O(k)\n",
    "import heapq\n",
    "def findKthl(nums, k):\n",
    "    heap = []\n",
    "    for num in nums:\n",
    "        heapq.heappush(heap, num)\n",
    "    for _ in range(len(nums) - k):\n",
    "        heapq.heappop(heap)\n",
    "    return heapq.heappop(heap)\n",
    "findKthl([3,2,1,5,6,4], 2)"
   ]
  },
  {
   "cell_type": "code",
   "execution_count": 6,
   "metadata": {},
   "outputs": [],
   "source": [
    "# quick sort, time O(n), space O(1)\n",
    "class Solution:\n",
    "    def findKthlar(self, nums, k):\n",
    "        return self.findkthSmallest(nums, len(nums)+1-k)\n",
    "    def findkthSmallest(self, nums, k):\n",
    "        if nums:\n",
    "            pos = self.partition(nums, 0, len(nums)-1)\n",
    "            if k > pos+1:\n",
    "                return self.findkthSmallest(nums[pos+1:], k-pos-1)\n",
    "            if k < pos+1:\n",
    "                return self.findkthSmallest(nums[:pos], k)\n",
    "            else:\n",
    "                return nums[pos]\n",
    "            \n",
    "    def partition(self, nums, l, r):\n",
    "        low = 1\n",
    "        while l < r:\n",
    "            if nums[l] < nums[r]:\n",
    "                nums[l], nums[low] = nums[low], nums[l]\n",
    "                low += 1\n",
    "            l += 1\n",
    "        nums[low], nums[r] = nums[r], nums[low]\n",
    "        return low"
   ]
  },
  {
   "cell_type": "code",
   "execution_count": 7,
   "metadata": {},
   "outputs": [],
   "source": [
    "# selection sort time O(nk), space O(1)\n",
    "def findKthlar(nums, k):\n",
    "    for i in range(len(nums), len(nums)-k, -1):\n",
    "        temp = 0\n",
    "        for j in range(i):\n",
    "            if nums[j] >nums[temp]:\n",
    "                temp = j\n",
    "        nums[temp], nums[i-1] = nums[i-1], nums[temp]\n",
    "    return nums[len(nums)-k]"
   ]
  },
  {
   "cell_type": "code",
   "execution_count": 9,
   "metadata": {},
   "outputs": [
    {
     "data": {
      "text/plain": [
       "[1, 2]"
      ]
     },
     "execution_count": 9,
     "metadata": {},
     "output_type": "execute_result"
    }
   ],
   "source": [
    "#----------leetcode 347---------------\n",
    "\"\"\"top k frequent elements: return the k most frequent elements in a non-empty array of integers.\n",
    "Note: time: O(nlogn)\"\"\"\n",
    "# heap method time: O(nlogk), space: O(n+k)\n",
    "from collections import Counter\n",
    "def topKFrequent(nums, k):\n",
    "    if k == len(nums):\n",
    "        return nums\n",
    "    count = Counter(nums)\n",
    "    return heapq.nlargest(k, count.keys(), key=count.get)\n",
    "topKFrequent([1,1,1,2,2,3],2)    "
   ]
  },
  {
   "cell_type": "code",
   "execution_count": null,
   "metadata": {},
   "outputs": [],
   "source": [
    "# quick sort time: O(n)~O(n**2)\n"
   ]
  },
  {
   "cell_type": "code",
   "execution_count": 10,
   "metadata": {},
   "outputs": [],
   "source": [
    "# bucket sort time O(n), space O(n)\n",
    "def topKFrequent(nums, k):\n",
    "    n = len(nums)\n",
    "    frequences = [[] for _ in range(n+1)]\n",
    "    for num, fre in Counter(nums).items():\n",
    "        frequences[fre].append(num)\n",
    "    top_k = []\n",
    "    while k:\n",
    "        while not frequences[n]:\n",
    "            n -= 1\n",
    "        top_k.append(frequences[n].pop())\n",
    "        k -= 1\n",
    "    return top_k"
   ]
  },
  {
   "cell_type": "code",
   "execution_count": null,
   "metadata": {},
   "outputs": [],
   "source": []
  }
 ],
 "metadata": {
  "kernelspec": {
   "display_name": "Python 3",
   "language": "python",
   "name": "python3"
  },
  "language_info": {
   "codemirror_mode": {
    "name": "ipython",
    "version": 3
   },
   "file_extension": ".py",
   "mimetype": "text/x-python",
   "name": "python",
   "nbconvert_exporter": "python",
   "pygments_lexer": "ipython3",
   "version": "3.7.4"
  }
 },
 "nbformat": 4,
 "nbformat_minor": 2
}
