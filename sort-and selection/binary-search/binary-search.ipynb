{
 "cells": [
  {
   "cell_type": "markdown",
   "metadata": {},
   "source": [
    "# leetcode problem solutions"
   ]
  },
  {
   "cell_type": "code",
   "execution_count": 14,
   "metadata": {},
   "outputs": [],
   "source": [
    "#------------leetcode 524-------------\n",
    "\"\"\"longest word in dictionary through deleting: given a string and a string dictionary, find the \n",
    "longest string in the dictionary that can be formed by deleting some characters of the given stri\n",
    "ng. if there are more than one possible results, return the longest word with the smallest lexico\n",
    "graphical order. if there is no possible result, return the empty string.\"\"\"\n",
    "def findLongestWord(s, d):\n",
    "    def is_subsequence(s, t):\n",
    "        i, j = 0,0\n",
    "        while i < len(s) and (len(t)-j) >= (len(s)-i):\n",
    "            if s[i] == t[j]:\n",
    "                i += 1\n",
    "            j += 1\n",
    "        if i == len(s):\n",
    "            return True\n",
    "        return False\n",
    "    d.sort(key=lambda x: (-len(x), x))\n",
    "    for word in d:\n",
    "        if is_subsequence(word, s):\n",
    "            return word\n",
    "    return \"\""
   ]
  },
  {
   "cell_type": "code",
   "execution_count": 3,
   "metadata": {},
   "outputs": [
    {
     "data": {
      "text/plain": [
       "3"
      ]
     },
     "execution_count": 3,
     "metadata": {},
     "output_type": "execute_result"
    }
   ],
   "source": [
    "#--------------leetcode 69-----------------\n",
    "\"\"\"sqrt(x): compute and return the sqare root of x, where x is guaranteed to be a non-negative \n",
    "integer, trucate the decimal part and only the integer part of the result is returned.\"\"\"\n",
    "#binary search time O(logn)\n",
    "def mySqrt(x):\n",
    "    l, r = 0, x\n",
    "    while l <= r:\n",
    "        mid = l + (r - l)//2\n",
    "        if mid * mid <= x < (mid+1) *(mid+1):\n",
    "            return mid\n",
    "        elif x < mid*mid:\n",
    "            r = mid\n",
    "        else:\n",
    "            l = mid +1\n",
    "mySqrt(9)            "
   ]
  },
  {
   "cell_type": "code",
   "execution_count": 5,
   "metadata": {},
   "outputs": [
    {
     "data": {
      "text/plain": [
       "2"
      ]
     },
     "execution_count": 5,
     "metadata": {},
     "output_type": "execute_result"
    }
   ],
   "source": [
    "# newton method: \n",
    "def mysqrt(x):\n",
    "    r = x\n",
    "    while r*r >x:\n",
    "        r = (r + x//r) //2\n",
    "    return r\n",
    "mysqrt(5)"
   ]
  },
  {
   "cell_type": "code",
   "execution_count": 8,
   "metadata": {},
   "outputs": [
    {
     "data": {
      "text/plain": [
       "'c'"
      ]
     },
     "execution_count": 8,
     "metadata": {},
     "output_type": "execute_result"
    }
   ],
   "source": [
    "#---------leetcode 744-------------\n",
    "\"\"\"find smallest letter greater than target: given a list of sorted letters containing only lower\n",
    "case letters, and given a target letter target, find the smallest element in the list that is lar\n",
    "ger than the target. letters are wrap around, 'z' is smaller than 'a'.\"\"\"\n",
    "def nextGreatestletter(letters, target):\n",
    "    n = len(letters)\n",
    "    l, h = 0, n-1\n",
    "    while l <= h:\n",
    "        mid = l + (h-l)//2\n",
    "        if letters[mid] <= target:\n",
    "            l = mid +1\n",
    "        else:\n",
    "            h = mid-1\n",
    "    return letters[l] if l <n else letters[0]\n",
    "nextGreatestletter([\"c\", \"f\", \"j\"], 'a')"
   ]
  },
  {
   "cell_type": "code",
   "execution_count": 1,
   "metadata": {},
   "outputs": [
    {
     "data": {
      "text/plain": [
       "2"
      ]
     },
     "execution_count": 1,
     "metadata": {},
     "output_type": "execute_result"
    }
   ],
   "source": [
    "#---------leetcode 540-----------\n",
    "\"\"\"single element in a sorted array: you are given a sorted array consisting of only integers whe\n",
    "re every element appears exactly twice, except for one element which appears exactly once. find \n",
    "this single element that appears only once.Note: time O(logn), space O(1)\n",
    "\"\"\"\n",
    "#before single n[m]==n[m+1], after single, n[m]!=n[m+1] m is odd\n",
    "def singleNonDuplicate(nums):\n",
    "    l, h = 0, len(nums)-1\n",
    "    while l < h:\n",
    "        m = l +(h-l)//2\n",
    "        if m %2==1:  # makesure l/h/m at the even place, and the search area is odd.\n",
    "            m -= 1\n",
    "        if nums[m] ==nums[m+1]:\n",
    "            l = m +2\n",
    "        else:\n",
    "            h = m\n",
    "    return nums[l]\n",
    "singleNonDuplicate([1, 1, 2, 3, 3, 4, 4, 8, 8])"
   ]
  },
  {
   "cell_type": "code",
   "execution_count": 3,
   "metadata": {},
   "outputs": [
    {
     "data": {
      "text/plain": [
       "2"
      ]
     },
     "execution_count": 3,
     "metadata": {},
     "output_type": "execute_result"
    }
   ],
   "source": [
    "# method 2 find the neighbour element of n[m]\n",
    "def singlenonDuplicate(nums):\n",
    "    l, h = 0, len(nums)-1\n",
    "    while l < h:\n",
    "        mid = (1 + h) //2\n",
    "        if nums[mid] == nums[mid ^1]: # odd^1 = odd-1, even^1 = even+1\n",
    "            l = mid +1\n",
    "        else:\n",
    "            h = mid\n",
    "    return nums[l]\n",
    "singlenonDuplicate([1, 1, 2, 3, 3, 4, 4, 8, 8])"
   ]
  },
  {
   "cell_type": "code",
   "execution_count": 4,
   "metadata": {},
   "outputs": [],
   "source": [
    "#------------leetcode 278--------------\n",
    "\"\"\"first bad version: suppose you have n versions [1,2,...n] and you want to find out the first\n",
    "bad one, which causes all the following one to be bad.\"\"\"\n",
    "class Solution:\n",
    "    def firstBadVersion(self, n):\n",
    "        l, r = 1, n\n",
    "        while l < r:\n",
    "            mid = l + (r-l)//2\n",
    "            if isBacversion(mid):\n",
    "                r = mid\n",
    "            else:\n",
    "                l = mid +1\n",
    "        return l"
   ]
  },
  {
   "cell_type": "code",
   "execution_count": 5,
   "metadata": {},
   "outputs": [
    {
     "data": {
      "text/plain": [
       "1"
      ]
     },
     "execution_count": 5,
     "metadata": {},
     "output_type": "execute_result"
    }
   ],
   "source": [
    "#-------------leetcode 153-------------\n",
    "\"\"\"find minimum in rotated sorted array: suppose an array sorted in ascending order is rotated at \n",
    "some pivot unknown to you beforehand.([0,1,2,4,5,6] to [4,5,6,0,1,2]). find the minimum element.\n",
    "\"\"\"\n",
    "# binary search: compare mid and right\n",
    "def findMin(nums):\n",
    "    left, right = 0, len(nums)-1\n",
    "    while left < right:\n",
    "        mid =left + (right-left)//2\n",
    "        if nums[mid] > nums[right]:\n",
    "            left = mid +1\n",
    "        else:\n",
    "            right = mid\n",
    "    return nums[right]\n",
    "findMin([4,5,6,1,2])"
   ]
  },
  {
   "cell_type": "code",
   "execution_count": 6,
   "metadata": {},
   "outputs": [
    {
     "data": {
      "text/plain": [
       "1"
      ]
     },
     "execution_count": 6,
     "metadata": {},
     "output_type": "execute_result"
    }
   ],
   "source": [
    "# divide and conquer\n",
    "def findmin(nums):\n",
    "    def helper(nums, start, end):\n",
    "        if nums[start] <= nums[end]:\n",
    "            return nums[start]\n",
    "        mid = start + (end - start)//2\n",
    "        return min(helper(nums, start, mid), helper(nums, mid+1, end))\n",
    "    return helper(nums, 0, len(nums)-1)\n",
    "findmin([4,5,6,1,2])"
   ]
  },
  {
   "cell_type": "code",
   "execution_count": 7,
   "metadata": {},
   "outputs": [
    {
     "data": {
      "text/plain": [
       "[3, 4]"
      ]
     },
     "execution_count": 7,
     "metadata": {},
     "output_type": "execute_result"
    }
   ],
   "source": [
    "#------------leetcode 34------------\n",
    "\"\"\"find first and last position of element in sorted array:given an array of integers ascending\n",
    "order, find the start and end position of target in array. return [-1,-1] if not found.\n",
    "Note: time O(logn)\"\"\"\n",
    "def searchRange(nums, target):\n",
    "    \n",
    "    def findfirst(nums, target):\n",
    "        l, h = 0, len(nums)\n",
    "        while l < h:\n",
    "            m = l + (h-l)//2\n",
    "            if nums[m] >= target:\n",
    "                h = m\n",
    "            else:\n",
    "                l = m +1\n",
    "        return l\n",
    "    first = findfirst(nums, target)\n",
    "    last = findfirst(nums, target+1) -1\n",
    "    if first == len(nums) or nums[first] != target:\n",
    "        return [-1, -1]\n",
    "    else:\n",
    "        return [first, max(first, last)]\n",
    "searchRange([5,7,7,8,8,10], 8)\n",
    "    "
   ]
  },
  {
   "cell_type": "code",
   "execution_count": null,
   "metadata": {},
   "outputs": [],
   "source": []
  }
 ],
 "metadata": {
  "kernelspec": {
   "display_name": "Python 3",
   "language": "python",
   "name": "python3"
  },
  "language_info": {
   "codemirror_mode": {
    "name": "ipython",
    "version": 3
   },
   "file_extension": ".py",
   "mimetype": "text/x-python",
   "name": "python",
   "nbconvert_exporter": "python",
   "pygments_lexer": "ipython3",
   "version": "3.7.4"
  }
 },
 "nbformat": 4,
 "nbformat_minor": 2
}
