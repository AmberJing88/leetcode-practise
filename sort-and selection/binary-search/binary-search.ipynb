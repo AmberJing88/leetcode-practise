{
 "cells": [
  {
   "cell_type": "markdown",
   "metadata": {},
   "source": [
    "# leetcode problem solutions"
   ]
  },
  {
   "cell_type": "code",
   "execution_count": 14,
   "metadata": {},
   "outputs": [],
   "source": [
    "#------------leetcode 524-------------\n",
    "\"\"\"longest word in dictionary through deleting: given a string and a string dictionary, find the \n",
    "longest string in the dictionary that can be formed by deleting some characters of the given stri\n",
    "ng. if there are more than one possible results, return the longest word with the smallest lexico\n",
    "graphical order. if there is no possible result, return the empty string.\"\"\"\n",
    "def findLongestWord(s, d):\n",
    "    def is_subsequence(s, t):\n",
    "        i, j = 0,0\n",
    "        while i < len(s) and (len(t)-j) >= (len(s)-i):\n",
    "            if s[i] == t[j]:\n",
    "                i += 1\n",
    "            j += 1\n",
    "        if i == len(s):\n",
    "            return True\n",
    "        return False\n",
    "    d.sort(key=lambda x: (-len(x), x))\n",
    "    for word in d:\n",
    "        if is_subsequence(word, s):\n",
    "            return word\n",
    "    return \"\""
   ]
  },
  {
   "cell_type": "code",
   "execution_count": 3,
   "metadata": {},
   "outputs": [
    {
     "data": {
      "text/plain": [
       "3"
      ]
     },
     "execution_count": 3,
     "metadata": {},
     "output_type": "execute_result"
    }
   ],
   "source": [
    "#--------------leetcode 69-----------------\n",
    "\"\"\"sqrt(x): compute and return the sqare root of x, where x is guaranteed to be a non-negative \n",
    "integer, trucate the decimal part and only the integer part of the result is returned.\"\"\"\n",
    "#binary search time O(logn)\n",
    "def mySqrt(x):\n",
    "    l, r = 0, x\n",
    "    while l <= r:\n",
    "        mid = l + (r - l)//2\n",
    "        if mid * mid <= x < (mid+1) *(mid+1):\n",
    "            return mid\n",
    "        elif x < mid*mid:\n",
    "            r = mid\n",
    "        else:\n",
    "            l = mid +1\n",
    "mySqrt(9)            "
   ]
  },
  {
   "cell_type": "code",
   "execution_count": 5,
   "metadata": {},
   "outputs": [
    {
     "data": {
      "text/plain": [
       "2"
      ]
     },
     "execution_count": 5,
     "metadata": {},
     "output_type": "execute_result"
    }
   ],
   "source": [
    "# newton method: \n",
    "def mysqrt(x):\n",
    "    r = x\n",
    "    while r*r >x:\n",
    "        r = (r + x//r) //2\n",
    "    return r\n",
    "mysqrt(5)"
   ]
  },
  {
   "cell_type": "code",
   "execution_count": 8,
   "metadata": {},
   "outputs": [
    {
     "data": {
      "text/plain": [
       "'c'"
      ]
     },
     "execution_count": 8,
     "metadata": {},
     "output_type": "execute_result"
    }
   ],
   "source": [
    "#---------leetcode 744-------------\n",
    "\"\"\"find smallest letter greater than target: given a list of sorted letters containing only lower\n",
    "case letters, and given a target letter target, find the smallest element in the list that is lar\n",
    "ger than the target. letters are wrap around, 'z' is smaller than 'a'.\"\"\"\n",
    "def nextGreatestletter(letters, target):\n",
    "    n = len(letters)\n",
    "    l, h = 0, n-1\n",
    "    while l <= h:\n",
    "        mid = l + (h-l)//2\n",
    "        if letters[mid] <= target:\n",
    "            l = mid +1\n",
    "        else:\n",
    "            h = mid-1\n",
    "    return letters[l] if l <n else letters[0]\n",
    "nextGreatestletter([\"c\", \"f\", \"j\"], 'a')"
   ]
  },
  {
   "cell_type": "code",
   "execution_count": null,
   "metadata": {},
   "outputs": [],
   "source": []
  }
 ],
 "metadata": {
  "kernelspec": {
   "display_name": "Python 3",
   "language": "python",
   "name": "python3"
  },
  "language_info": {
   "codemirror_mode": {
    "name": "ipython",
    "version": 3
   },
   "file_extension": ".py",
   "mimetype": "text/x-python",
   "name": "python",
   "nbconvert_exporter": "python",
   "pygments_lexer": "ipython3",
   "version": "3.7.4"
  }
 },
 "nbformat": 4,
 "nbformat_minor": 2
}
